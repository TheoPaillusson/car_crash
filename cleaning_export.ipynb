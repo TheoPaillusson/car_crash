{
 "cells": [
  {
   "cell_type": "code",
   "execution_count": 1,
   "metadata": {
    "ExecuteTime": {
     "end_time": "2020-12-01T15:23:34.652678Z",
     "start_time": "2020-12-01T15:23:33.704459Z"
    }
   },
   "outputs": [
    {
     "name": "stderr",
     "output_type": "stream",
     "text": [
      "/Users/leonardtheret/.pyenv/versions/3.8.5/envs/lewagon/lib/python3.8/site-packages/pandas/compat/__init__.py:120: UserWarning: Could not import the lzma module. Your installed Python is incomplete. Attempting to use lzma compression will result in a RuntimeError.\n",
      "  warnings.warn(msg)\n"
     ]
    }
   ],
   "source": [
    "import pandas as pd\n",
    "import matplotlib.pyplot as plt"
   ]
  },
  {
   "cell_type": "code",
   "execution_count": 2,
   "metadata": {
    "ExecuteTime": {
     "end_time": "2020-12-01T15:23:36.233893Z",
     "start_time": "2020-12-01T15:23:34.655438Z"
    }
   },
   "outputs": [
    {
     "name": "stdout",
     "output_type": "stream",
     "text": [
      "Requirement already satisfied: autopep8 in /Users/leonardtheret/.pyenv/versions/3.8.5/envs/lewagon/lib/python3.8/site-packages (1.5.4)\n",
      "Requirement already satisfied: pycodestyle>=2.6.0 in /Users/leonardtheret/.pyenv/versions/3.8.5/envs/lewagon/lib/python3.8/site-packages (from autopep8) (2.6.0)\n",
      "Requirement already satisfied: toml in /Users/leonardtheret/.pyenv/versions/3.8.5/envs/lewagon/lib/python3.8/site-packages (from autopep8) (0.10.1)\n",
      "\u001b[33mWARNING: You are using pip version 20.2.4; however, version 20.3 is available.\n",
      "You should consider upgrading via the '/Users/leonardtheret/.pyenv/versions/3.8.5/envs/lewagon/bin/python3.8 -m pip install --upgrade pip' command.\u001b[0m\n",
      "Note: you may need to restart the kernel to use updated packages.\n"
     ]
    }
   ],
   "source": [
    "pip install autopep8"
   ]
  },
  {
   "cell_type": "code",
   "execution_count": 3,
   "metadata": {
    "ExecuteTime": {
     "end_time": "2020-12-01T15:25:12.722833Z",
     "start_time": "2020-12-01T15:23:36.240833Z"
    }
   },
   "outputs": [
    {
     "name": "stderr",
     "output_type": "stream",
     "text": [
      "/Users/leonardtheret/.pyenv/versions/3.8.5/envs/lewagon/lib/python3.8/site-packages/IPython/core/interactiveshell.py:3145: DtypeWarning: Columns (2,3,10,12,24,25,36,49,57,67,68) have mixed types.Specify dtype option on import or set low_memory=False.\n",
      "  has_raised = await self.run_ast_nodes(code_ast.body, cell_name,\n"
     ]
    }
   ],
   "source": [
    "coll = pd.read_csv('raw_data/collisions.csv')"
   ]
  },
  {
   "cell_type": "code",
   "execution_count": 5,
   "metadata": {
    "ExecuteTime": {
     "end_time": "2020-12-01T15:25:23.299817Z",
     "start_time": "2020-12-01T15:25:12.779733Z"
    },
    "scrolled": false
   },
   "outputs": [
    {
     "data": {
      "text/plain": [
       "(2502802, 74)"
      ]
     },
     "execution_count": 5,
     "metadata": {},
     "output_type": "execute_result"
    }
   ],
   "source": [
    "df = coll.dropna(subset = ['latitude','longitude','collision_date','collision_time'])\n",
    "df = df.reset_index(drop=True)\n",
    "df.shape"
   ]
  },
  {
   "cell_type": "code",
   "execution_count": 7,
   "metadata": {
    "ExecuteTime": {
     "end_time": "2020-12-01T15:25:23.532709Z",
     "start_time": "2020-12-01T15:25:23.358409Z"
    }
   },
   "outputs": [
    {
     "name": "stdout",
     "output_type": "stream",
     "text": [
      "2487395\n"
     ]
    },
    {
     "data": {
      "text/plain": [
       "reduced width     7378\n",
       "normal            6253\n",
       "construction       990\n",
       "other              450\n",
       "obstruction        128\n",
       "loose material     118\n",
       "flooded             90\n",
       "Name: road_condition_2, dtype: int64"
      ]
     },
     "execution_count": 7,
     "metadata": {},
     "output_type": "execute_result"
    }
   ],
   "source": [
    "print(df.road_condition_2.isna().sum())\n",
    "df.road_condition_2.value_counts()"
   ]
  },
  {
   "cell_type": "code",
   "execution_count": 8,
   "metadata": {
    "ExecuteTime": {
     "end_time": "2020-12-01T15:25:25.714947Z",
     "start_time": "2020-12-01T15:25:23.539001Z"
    },
    "collapsed": true
   },
   "outputs": [
    {
     "data": {
      "text/plain": [
       "case_id                                  0\n",
       "county_city_location                     0\n",
       "chp_beat_type                            0\n",
       "primary_road                             0\n",
       "secondary_road                           2\n",
       "distance                                 0\n",
       "intersection                          4134\n",
       "weather_1                             4301\n",
       "weather_2                          2415574\n",
       "collision_severity                       7\n",
       "killed_victims                           0\n",
       "injured_victims                          0\n",
       "party_count                              0\n",
       "primary_collision_factor              2296\n",
       "pcf_violation_category                9098\n",
       "pcf_violation                       124093\n",
       "hit_and_run                              0\n",
       "type_of_collision                     6094\n",
       "motor_vehicle_involved_with           3304\n",
       "pedestrian_action                      393\n",
       "road_surface                          8114\n",
       "road_condition_1                      5883\n",
       "lighting                              5591\n",
       "statewide_vehicle_type_at_fault     283971\n",
       "severe_injury_count                      0\n",
       "other_visible_injury_count               0\n",
       "complaint_of_pain_injury_count           0\n",
       "pedestrian_killed_count                  0\n",
       "pedestrian_injured_count                 0\n",
       "bicyclist_killed_count                   0\n",
       "bicyclist_injured_count                  0\n",
       "motorcyclist_killed_count                0\n",
       "motorcyclist_injured_count               0\n",
       "latitude                                 0\n",
       "longitude                                0\n",
       "collision_date                           0\n",
       "collision_time                           0\n",
       "dtype: int64"
      ]
     },
     "execution_count": 8,
     "metadata": {},
     "output_type": "execute_result"
    }
   ],
   "source": [
    "inter = df.drop(columns = ['road_condition_2','caltrans_county','reporting_district','officer_id','jurisdiction','chp_shift','population','special_condition','beat_type','city_division_lapd','chp_beat_class','beat_number','direction','state_highway_indicator','caltrans_district','state_route','route_suffix','postmile_prefix','postmile','location_type','ramp_intersection','side_of_highway','tow_away','pcf_violation_code','pcf_violation_subsection','control_device','chp_road_type','pedestrian_collision','bicycle_collision','motorcycle_collision','truck_collision','not_private_property','alcohol_involved','chp_vehicle_type_at_fault','primary_ramp','secondary_ramp','process_date'])\n",
    "inter.isna().sum()\n"
   ]
  },
  {
   "cell_type": "code",
   "execution_count": 18,
   "metadata": {
    "ExecuteTime": {
     "end_time": "2020-12-01T15:30:04.222395Z",
     "start_time": "2020-12-01T15:30:01.157697Z"
    }
   },
   "outputs": [
    {
     "data": {
      "text/plain": [
       "case_id                            0\n",
       "county_city_location               0\n",
       "chp_beat_type                      0\n",
       "primary_road                       0\n",
       "secondary_road                     0\n",
       "distance                           0\n",
       "intersection                       0\n",
       "weather_1                          0\n",
       "weather_2                          0\n",
       "collision_severity                 0\n",
       "killed_victims                     0\n",
       "injured_victims                    0\n",
       "party_count                        0\n",
       "primary_collision_factor           0\n",
       "pcf_violation_category             0\n",
       "pcf_violation                      0\n",
       "hit_and_run                        0\n",
       "type_of_collision                  0\n",
       "motor_vehicle_involved_with        0\n",
       "pedestrian_action                  0\n",
       "road_surface                       0\n",
       "road_condition_1                   0\n",
       "lighting                           0\n",
       "statewide_vehicle_type_at_fault    0\n",
       "severe_injury_count                0\n",
       "other_visible_injury_count         0\n",
       "complaint_of_pain_injury_count     0\n",
       "pedestrian_killed_count            0\n",
       "pedestrian_injured_count           0\n",
       "bicyclist_killed_count             0\n",
       "bicyclist_injured_count            0\n",
       "motorcyclist_killed_count          0\n",
       "motorcyclist_injured_count         0\n",
       "latitude                           0\n",
       "longitude                          0\n",
       "collision_date                     0\n",
       "collision_time                     0\n",
       "dtype: int64"
      ]
     },
     "execution_count": 18,
     "metadata": {},
     "output_type": "execute_result"
    }
   ],
   "source": [
    "inter.fillna('unknown', inplace = True)\n",
    "inter.isna().sum()"
   ]
  },
  {
   "cell_type": "code",
   "execution_count": 19,
   "metadata": {
    "ExecuteTime": {
     "end_time": "2020-12-01T15:30:05.919778Z",
     "start_time": "2020-12-01T15:30:04.224667Z"
    }
   },
   "outputs": [],
   "source": [
    "latlong1 = inter[(inter['latitude'] < 34.32880) & (inter['longitude'] < -117.12423)]"
   ]
  },
  {
   "cell_type": "code",
   "execution_count": 20,
   "metadata": {
    "ExecuteTime": {
     "end_time": "2020-12-01T15:30:06.623495Z",
     "start_time": "2020-12-01T15:30:05.923026Z"
    },
    "collapsed": true
   },
   "outputs": [
    {
     "name": "stderr",
     "output_type": "stream",
     "text": [
      "<ipython-input-20-9f75e1c3d54a>:2: SettingWithCopyWarning: \n",
      "A value is trying to be set on a copy of a slice from a DataFrame.\n",
      "Try using .loc[row_indexer,col_indexer] = value instead\n",
      "\n",
      "See the caveats in the documentation: https://pandas.pydata.org/pandas-docs/stable/user_guide/indexing.html#returning-a-view-versus-a-copy\n",
      "  latlong2['case_id'] = latlong2['case_id'].apply(int)\n"
     ]
    }
   ],
   "source": [
    "latlong2 = latlong1[(latlong1['latitude'] > 33.48543) & (latlong1['longitude'] > -118.67123)]\n",
    "latlong2['case_id'] = latlong2['case_id'].apply(int)"
   ]
  },
  {
   "cell_type": "code",
   "execution_count": 17,
   "metadata": {
    "ExecuteTime": {
     "end_time": "2020-12-01T15:29:45.535232Z",
     "start_time": "2020-12-01T15:29:45.259671Z"
    }
   },
   "outputs": [],
   "source": [
    "id_merge = latlong2[['case_id']]\n",
    "id_merge = id_merge.reset_index(drop=True)\n",
    "\n",
    "collisions_la = latlong2\n",
    "collisions_la = collisions_la.reset_index(drop=True)"
   ]
  },
  {
   "cell_type": "code",
   "execution_count": 21,
   "metadata": {
    "ExecuteTime": {
     "end_time": "2020-12-01T15:31:00.118819Z",
     "start_time": "2020-12-01T15:31:00.089643Z"
    }
   },
   "outputs": [
    {
     "name": "stdout",
     "output_type": "stream",
     "text": [
      "Index(['case_id', 'county_city_location', 'chp_beat_type', 'primary_road',\n",
      "       'secondary_road', 'distance', 'intersection', 'weather_1', 'weather_2',\n",
      "       'collision_severity', 'killed_victims', 'injured_victims',\n",
      "       'party_count', 'primary_collision_factor', 'pcf_violation_category',\n",
      "       'pcf_violation', 'hit_and_run', 'type_of_collision',\n",
      "       'motor_vehicle_involved_with', 'pedestrian_action', 'road_surface',\n",
      "       'road_condition_1', 'lighting', 'statewide_vehicle_type_at_fault',\n",
      "       'severe_injury_count', 'other_visible_injury_count',\n",
      "       'complaint_of_pain_injury_count', 'pedestrian_killed_count',\n",
      "       'pedestrian_injured_count', 'bicyclist_killed_count',\n",
      "       'bicyclist_injured_count', 'motorcyclist_killed_count',\n",
      "       'motorcyclist_injured_count', 'latitude', 'longitude', 'collision_date',\n",
      "       'collision_time'],\n",
      "      dtype='object')\n"
     ]
    },
    {
     "data": {
      "text/html": [
       "<div>\n",
       "<style scoped>\n",
       "    .dataframe tbody tr th:only-of-type {\n",
       "        vertical-align: middle;\n",
       "    }\n",
       "\n",
       "    .dataframe tbody tr th {\n",
       "        vertical-align: top;\n",
       "    }\n",
       "\n",
       "    .dataframe thead th {\n",
       "        text-align: right;\n",
       "    }\n",
       "</style>\n",
       "<table border=\"1\" class=\"dataframe\">\n",
       "  <thead>\n",
       "    <tr style=\"text-align: right;\">\n",
       "      <th></th>\n",
       "      <th>case_id</th>\n",
       "      <th>county_city_location</th>\n",
       "      <th>chp_beat_type</th>\n",
       "      <th>primary_road</th>\n",
       "      <th>secondary_road</th>\n",
       "      <th>distance</th>\n",
       "      <th>intersection</th>\n",
       "      <th>weather_1</th>\n",
       "      <th>weather_2</th>\n",
       "      <th>collision_severity</th>\n",
       "      <th>...</th>\n",
       "      <th>pedestrian_killed_count</th>\n",
       "      <th>pedestrian_injured_count</th>\n",
       "      <th>bicyclist_killed_count</th>\n",
       "      <th>bicyclist_injured_count</th>\n",
       "      <th>motorcyclist_killed_count</th>\n",
       "      <th>motorcyclist_injured_count</th>\n",
       "      <th>latitude</th>\n",
       "      <th>longitude</th>\n",
       "      <th>collision_date</th>\n",
       "      <th>collision_time</th>\n",
       "    </tr>\n",
       "  </thead>\n",
       "  <tbody>\n",
       "    <tr>\n",
       "      <th>0</th>\n",
       "      <td>3516974</td>\n",
       "      <td>1942</td>\n",
       "      <td>us highway</td>\n",
       "      <td>RT 101</td>\n",
       "      <td>RESEDA BL</td>\n",
       "      <td>2112.0</td>\n",
       "      <td>0</td>\n",
       "      <td>clear</td>\n",
       "      <td>unknown</td>\n",
       "      <td>property damage only</td>\n",
       "      <td>...</td>\n",
       "      <td>0</td>\n",
       "      <td>0</td>\n",
       "      <td>0</td>\n",
       "      <td>0</td>\n",
       "      <td>0</td>\n",
       "      <td>0.0</td>\n",
       "      <td>34.17357</td>\n",
       "      <td>-118.54336</td>\n",
       "      <td>2008-01-11</td>\n",
       "      <td>10:08:00</td>\n",
       "    </tr>\n",
       "    <tr>\n",
       "      <th>1</th>\n",
       "      <td>3522174</td>\n",
       "      <td>1942</td>\n",
       "      <td>interstate</td>\n",
       "      <td>RT 405</td>\n",
       "      <td>BURBANK BL</td>\n",
       "      <td>1056.0</td>\n",
       "      <td>0</td>\n",
       "      <td>clear</td>\n",
       "      <td>unknown</td>\n",
       "      <td>property damage only</td>\n",
       "      <td>...</td>\n",
       "      <td>0</td>\n",
       "      <td>0</td>\n",
       "      <td>0</td>\n",
       "      <td>0</td>\n",
       "      <td>0</td>\n",
       "      <td>0.0</td>\n",
       "      <td>34.16803</td>\n",
       "      <td>-118.46901</td>\n",
       "      <td>2008-01-17</td>\n",
       "      <td>06:45:00</td>\n",
       "    </tr>\n",
       "    <tr>\n",
       "      <th>2</th>\n",
       "      <td>3523649</td>\n",
       "      <td>3020</td>\n",
       "      <td>interstate</td>\n",
       "      <td>RT 605</td>\n",
       "      <td>CONNECTOR</td>\n",
       "      <td>150.0</td>\n",
       "      <td>0</td>\n",
       "      <td>clear</td>\n",
       "      <td>unknown</td>\n",
       "      <td>property damage only</td>\n",
       "      <td>...</td>\n",
       "      <td>0</td>\n",
       "      <td>0</td>\n",
       "      <td>0</td>\n",
       "      <td>0</td>\n",
       "      <td>0</td>\n",
       "      <td>0.0</td>\n",
       "      <td>33.77837</td>\n",
       "      <td>-118.09050</td>\n",
       "      <td>2008-01-11</td>\n",
       "      <td>12:20:00</td>\n",
       "    </tr>\n",
       "    <tr>\n",
       "      <th>3</th>\n",
       "      <td>3524803</td>\n",
       "      <td>1942</td>\n",
       "      <td>us highway</td>\n",
       "      <td>RT 101</td>\n",
       "      <td>BALBOA BL</td>\n",
       "      <td>428.0</td>\n",
       "      <td>0</td>\n",
       "      <td>cloudy</td>\n",
       "      <td>unknown</td>\n",
       "      <td>other injury</td>\n",
       "      <td>...</td>\n",
       "      <td>0</td>\n",
       "      <td>0</td>\n",
       "      <td>0</td>\n",
       "      <td>0</td>\n",
       "      <td>0</td>\n",
       "      <td>0.0</td>\n",
       "      <td>34.16938</td>\n",
       "      <td>-118.49952</td>\n",
       "      <td>2008-01-03</td>\n",
       "      <td>06:48:00</td>\n",
       "    </tr>\n",
       "    <tr>\n",
       "      <th>4</th>\n",
       "      <td>3524807</td>\n",
       "      <td>1942</td>\n",
       "      <td>us highway</td>\n",
       "      <td>RT 101</td>\n",
       "      <td>BALBOA BL</td>\n",
       "      <td>310.0</td>\n",
       "      <td>0</td>\n",
       "      <td>cloudy</td>\n",
       "      <td>unknown</td>\n",
       "      <td>pain</td>\n",
       "      <td>...</td>\n",
       "      <td>0</td>\n",
       "      <td>0</td>\n",
       "      <td>0</td>\n",
       "      <td>0</td>\n",
       "      <td>0</td>\n",
       "      <td>0.0</td>\n",
       "      <td>34.16968</td>\n",
       "      <td>-118.49999</td>\n",
       "      <td>2008-01-03</td>\n",
       "      <td>06:49:00</td>\n",
       "    </tr>\n",
       "  </tbody>\n",
       "</table>\n",
       "<p>5 rows × 37 columns</p>\n",
       "</div>"
      ],
      "text/plain": [
       "   case_id  county_city_location chp_beat_type primary_road secondary_road  \\\n",
       "0  3516974                  1942    us highway       RT 101      RESEDA BL   \n",
       "1  3522174                  1942    interstate       RT 405     BURBANK BL   \n",
       "2  3523649                  3020    interstate       RT 605      CONNECTOR   \n",
       "3  3524803                  1942    us highway       RT 101      BALBOA BL   \n",
       "4  3524807                  1942    us highway       RT 101      BALBOA BL   \n",
       "\n",
       "   distance intersection weather_1 weather_2    collision_severity  ...  \\\n",
       "0    2112.0            0     clear   unknown  property damage only  ...   \n",
       "1    1056.0            0     clear   unknown  property damage only  ...   \n",
       "2     150.0            0     clear   unknown  property damage only  ...   \n",
       "3     428.0            0    cloudy   unknown          other injury  ...   \n",
       "4     310.0            0    cloudy   unknown                  pain  ...   \n",
       "\n",
       "   pedestrian_killed_count  pedestrian_injured_count  bicyclist_killed_count  \\\n",
       "0                        0                         0                       0   \n",
       "1                        0                         0                       0   \n",
       "2                        0                         0                       0   \n",
       "3                        0                         0                       0   \n",
       "4                        0                         0                       0   \n",
       "\n",
       "  bicyclist_injured_count motorcyclist_killed_count  \\\n",
       "0                       0                         0   \n",
       "1                       0                         0   \n",
       "2                       0                         0   \n",
       "3                       0                         0   \n",
       "4                       0                         0   \n",
       "\n",
       "  motorcyclist_injured_count  latitude  longitude collision_date  \\\n",
       "0                        0.0  34.17357 -118.54336     2008-01-11   \n",
       "1                        0.0  34.16803 -118.46901     2008-01-17   \n",
       "2                        0.0  33.77837 -118.09050     2008-01-11   \n",
       "3                        0.0  34.16938 -118.49952     2008-01-03   \n",
       "4                        0.0  34.16968 -118.49999     2008-01-03   \n",
       "\n",
       "  collision_time  \n",
       "0       10:08:00  \n",
       "1       06:45:00  \n",
       "2       12:20:00  \n",
       "3       06:48:00  \n",
       "4       06:49:00  \n",
       "\n",
       "[5 rows x 37 columns]"
      ]
     },
     "execution_count": 21,
     "metadata": {},
     "output_type": "execute_result"
    }
   ],
   "source": [
    "print(collisions_la.columns)\n",
    "collisions_la.head()"
   ]
  },
  {
   "cell_type": "code",
   "execution_count": 22,
   "metadata": {
    "ExecuteTime": {
     "end_time": "2020-12-01T15:32:08.898103Z",
     "start_time": "2020-12-01T15:32:08.894161Z"
    }
   },
   "outputs": [],
   "source": [
    "danger_col = ['collision_severity','killed_victims','injured_victims']"
   ]
  },
  {
   "cell_type": "code",
   "execution_count": 50,
   "metadata": {
    "ExecuteTime": {
     "end_time": "2020-12-01T15:39:07.739251Z",
     "start_time": "2020-12-01T15:39:07.488942Z"
    }
   },
   "outputs": [
    {
     "data": {
      "text/plain": [
       "Index(['case_id', 'county_city_location', 'chp_beat_type', 'primary_road',\n",
       "       'secondary_road', 'distance', 'intersection', 'weather_1', 'weather_2',\n",
       "       'collision_severity', 'killed_victims', 'injured_victims',\n",
       "       'party_count', 'primary_collision_factor', 'pcf_violation_category',\n",
       "       'pcf_violation', 'hit_and_run', 'type_of_collision',\n",
       "       'motor_vehicle_involved_with', 'pedestrian_action', 'road_surface',\n",
       "       'road_condition_1', 'lighting', 'statewide_vehicle_type_at_fault',\n",
       "       'severe_injury_count', 'other_visible_injury_count',\n",
       "       'complaint_of_pain_injury_count', 'latitude', 'longitude',\n",
       "       'collision_date', 'collision_time'],\n",
       "      dtype='object')"
      ]
     },
     "execution_count": 50,
     "metadata": {},
     "output_type": "execute_result"
    }
   ],
   "source": [
    "collisions_la.drop(columns = ['motorcyclist_killed_count','motorcyclist_injured_count','pedestrian_killed_count','pedestrian_injured_count','bicyclist_killed_count','bicyclist_injured_count'], inplace = True)\n",
    "collisions_la.columns\n"
   ]
  },
  {
   "cell_type": "code",
   "execution_count": 57,
   "metadata": {
    "ExecuteTime": {
     "end_time": "2020-12-01T15:42:19.639512Z",
     "start_time": "2020-12-01T15:42:19.633896Z"
    }
   },
   "outputs": [
    {
     "data": {
      "text/plain": [
       "(950421, 31)"
      ]
     },
     "execution_count": 57,
     "metadata": {},
     "output_type": "execute_result"
    }
   ],
   "source": [
    "collisions_la.shape"
   ]
  },
  {
   "cell_type": "code",
   "execution_count": 58,
   "metadata": {
    "ExecuteTime": {
     "end_time": "2020-12-01T15:44:26.529209Z",
     "start_time": "2020-12-01T15:44:26.441255Z"
    }
   },
   "outputs": [
    {
     "data": {
      "text/plain": [
       "property damage only    634393\n",
       "pain                    208638\n",
       "other injury             86422\n",
       "severe injury            16289\n",
       "fatal                     4677\n",
       "unknown                      2\n",
       "Name: collision_severity, dtype: int64"
      ]
     },
     "execution_count": 58,
     "metadata": {},
     "output_type": "execute_result"
    }
   ],
   "source": [
    "collisions_la['collision_severity'].value_counts()"
   ]
  },
  {
   "cell_type": "code",
   "execution_count": 62,
   "metadata": {
    "ExecuteTime": {
     "end_time": "2020-12-01T15:47:19.712183Z",
     "start_time": "2020-12-01T15:47:19.702441Z"
    }
   },
   "outputs": [
    {
     "data": {
      "text/plain": [
       "1.0761171691255078"
      ]
     },
     "execution_count": 62,
     "metadata": {},
     "output_type": "execute_result"
    }
   ],
   "source": [
    "collisions_la['killed_victims'].sum()/4677"
   ]
  }
 ],
 "metadata": {
  "kernelspec": {
   "display_name": "Python 3",
   "language": "python",
   "name": "python3"
  },
  "language_info": {
   "codemirror_mode": {
    "name": "ipython",
    "version": 3
   },
   "file_extension": ".py",
   "mimetype": "text/x-python",
   "name": "python",
   "nbconvert_exporter": "python",
   "pygments_lexer": "ipython3",
   "version": "3.8.6"
  }
 },
 "nbformat": 4,
 "nbformat_minor": 4
}
