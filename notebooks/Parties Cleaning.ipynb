{
 "cells": [
  {
   "cell_type": "markdown",
   "metadata": {},
   "source": [
    "# Data Cleaning"
   ]
  },
  {
   "cell_type": "markdown",
   "metadata": {},
   "source": [
    "## Selection of Columns"
   ]
  },
  {
   "cell_type": "code",
   "execution_count": 1,
   "metadata": {
    "ExecuteTime": {
     "end_time": "2020-12-02T10:45:44.708584Z",
     "start_time": "2020-12-02T10:45:43.130261Z"
    }
   },
   "outputs": [],
   "source": [
    "import pandas as pd\n",
    "import numpy as np\n",
    "import matplotlib.pyplot as plt\n",
    "import seaborn as sns\n",
    "import statistics \n",
    "import random"
   ]
  },
  {
   "cell_type": "code",
   "execution_count": null,
   "metadata": {
    "ExecuteTime": {
     "start_time": "2020-12-02T10:45:43.630Z"
    }
   },
   "outputs": [],
   "source": [
    "# importing the data\n",
    "df = pd.read_csv('../raw_data/parties-001.csv')\n",
    "merge_id = pd.read_csv('../raw_data/id_merge.csv')"
   ]
  },
  {
   "cell_type": "code",
   "execution_count": null,
   "metadata": {
    "ExecuteTime": {
     "start_time": "2020-12-02T10:45:43.693Z"
    }
   },
   "outputs": [],
   "source": [
    "# merging the data on the LA area\n",
    "\n",
    "df_par = merge_id.merge(df, how='inner', on='case_id')"
   ]
  },
  {
   "cell_type": "code",
   "execution_count": null,
   "metadata": {
    "ExecuteTime": {
     "start_time": "2020-12-02T10:45:43.755Z"
    }
   },
   "outputs": [],
   "source": [
    "list_of_features = ['case_id', 'party_number', 'party_type', 'party_sex', 'party_age', 'vehicle_make', 'vehicle_year', 'at_fault',\n",
    "                    'party_sobriety', 'party_drug_physical', 'cellphone_use', \n",
    "                   'party_number_killed', 'party_number_injured', 'movement_preceding_collision',\n",
    "                    'statewide_vehicle_type', 'chp_vehicle_type_towing']\n",
    "\n",
    "note_sure = ['financial_responsibility', 'hazardous_materials']"
   ]
  },
  {
   "cell_type": "code",
   "execution_count": null,
   "metadata": {
    "ExecuteTime": {
     "start_time": "2020-12-02T10:45:43.820Z"
    }
   },
   "outputs": [],
   "source": [
    "df_col = df_par[list_of_features]\n",
    "df_col.shape"
   ]
  },
  {
   "cell_type": "markdown",
   "metadata": {},
   "source": [
    "## Selection of Features"
   ]
  },
  {
   "cell_type": "code",
   "execution_count": null,
   "metadata": {
    "ExecuteTime": {
     "start_time": "2020-12-02T10:45:44.031Z"
    }
   },
   "outputs": [],
   "source": [
    "df_col.head()"
   ]
  },
  {
   "cell_type": "code",
   "execution_count": null,
   "metadata": {
    "ExecuteTime": {
     "start_time": "2020-12-02T10:45:44.098Z"
    }
   },
   "outputs": [],
   "source": [
    "df_col.fillna(value='unknown', inplace=True)"
   ]
  },
  {
   "cell_type": "code",
   "execution_count": null,
   "metadata": {
    "ExecuteTime": {
     "start_time": "2020-12-02T10:45:44.183Z"
    }
   },
   "outputs": [],
   "source": [
    "# transform unknwown age for mean age \n",
    "ages = []\n",
    "\n",
    "for age in df_col.party_age:\n",
    "    if age != 'unknown':\n",
    "        ages.append(age)\n",
    "        \n",
    "mean_age = round(statistics.mean(ages) )\n",
    "\n",
    "def assign_age(x):\n",
    "    if x == 'unknown':\n",
    "        return mean_age\n",
    "    return x\n",
    "    \n",
    "df_col.party_age = df_col.party_age.apply(lambda x: assign_age(x))\n",
    "\n",
    "# transform to int\n",
    "df_col.party_age = df_col.party_age.apply(lambda x: int(x))"
   ]
  },
  {
   "cell_type": "code",
   "execution_count": null,
   "metadata": {
    "ExecuteTime": {
     "start_time": "2020-12-02T10:45:44.278Z"
    }
   },
   "outputs": [],
   "source": [
    "# pick a random sex for unknown \n",
    "def assign_sex(x):\n",
    "    assignement = ['male', 'female']\n",
    "    if x == 'unknown':\n",
    "        return random.choice(assignement)\n",
    "    return x\n",
    "\n",
    "df_col.party_sex = df_col.party_sex.apply(lambda x: assign_sex(x))"
   ]
  },
  {
   "cell_type": "code",
   "execution_count": null,
   "metadata": {
    "ExecuteTime": {
     "start_time": "2020-12-02T10:45:44.362Z"
    }
   },
   "outputs": [],
   "source": [
    "# transform unknwown vehicle_year for most frequent veihcle_year\n",
    "most_frequent_year = df.vehicle_year.mode()\n",
    "\n",
    "def assign_year(x):\n",
    "    if x == 'unknown':\n",
    "        return most_frequent_year\n",
    "    return x\n",
    "    \n",
    "df_col.vehicle_year = df_col.vehicle_year.apply(lambda x: assign_year(x))\n",
    "\n",
    "# transform to int\n",
    "df_col.vehicle_year = df_col.vehicle_year.apply(lambda x: int(x))"
   ]
  },
  {
   "cell_type": "code",
   "execution_count": null,
   "metadata": {
    "ExecuteTime": {
     "start_time": "2020-12-02T10:45:44.426Z"
    }
   },
   "outputs": [],
   "source": [
    "df_col.cellphone_use.unique()"
   ]
  },
  {
   "cell_type": "code",
   "execution_count": null,
   "metadata": {
    "ExecuteTime": {
     "start_time": "2020-12-02T10:45:44.485Z"
    }
   },
   "outputs": [],
   "source": [
    "# binary encoding of cellphone_use\n",
    "def cellphone_use(x):\n",
    "    dict_cellphone = {'3':0, 'C':0, '1':1, 'D':1, '2':1, 'B':1}\n",
    "    if x == 'unknown':\n",
    "        return x\n",
    "    return dict_cellphone[x]\n",
    "\n",
    "df_col.cellphone_use = df_col.cellphone_use.apply(lambda x: cellphone_use(x))"
   ]
  },
  {
   "cell_type": "code",
   "execution_count": null,
   "metadata": {
    "ExecuteTime": {
     "start_time": "2020-12-02T10:45:44.551Z"
    }
   },
   "outputs": [],
   "source": [
    "df_col.head()"
   ]
  },
  {
   "cell_type": "code",
   "execution_count": null,
   "metadata": {
    "ExecuteTime": {
     "start_time": "2020-12-02T10:45:44.639Z"
    }
   },
   "outputs": [],
   "source": [
    "df_col.movement_preceding_collision.unique()"
   ]
  },
  {
   "cell_type": "code",
   "execution_count": null,
   "metadata": {
    "ExecuteTime": {
     "start_time": "2020-12-02T10:45:44.724Z"
    }
   },
   "outputs": [],
   "source": [
    "# binary encoding of drug & alcohol\n",
    "def sobriety(x):\n",
    "    sobriety = {'A':0, 'B':1, 'C':1, 'D':1, 'G':0, 'E':1, 'F':1, 'I':1, 'H':0,}\n",
    "    if x in sobriety:\n",
    "        return sobriety[x]\n",
    "    return x\n",
    "\n",
    "df_col.party_sobriety = df_col.party_sobriety.apply(lambda x: sobriety(x))\n",
    "df_col.party_drug_physical = df_col.party_drug_physical.apply(lambda x: sobriety(x))"
   ]
  },
  {
   "cell_type": "code",
   "execution_count": null,
   "metadata": {
    "ExecuteTime": {
     "start_time": "2020-12-02T10:45:44.808Z"
    }
   },
   "outputs": [],
   "source": [
    "df_col.party_drug_physical.unique()"
   ]
  },
  {
   "cell_type": "code",
   "execution_count": null,
   "metadata": {
    "ExecuteTime": {
     "start_time": "2020-12-02T10:45:45.225Z"
    }
   },
   "outputs": [],
   "source": [
    "# create the new column of sobriety \n",
    "def col_sobriety(x):\n",
    "    if x != 'unknown':\n",
    "        return x\n",
    "    return 10\n",
    "\n",
    "df_col['sobriety'] = df_col.party_drug_physical.apply(lambda x: col_sobriety(x))"
   ]
  },
  {
   "cell_type": "code",
   "execution_count": null,
   "metadata": {
    "ExecuteTime": {
     "start_time": "2020-12-02T10:45:45.412Z"
    }
   },
   "outputs": [],
   "source": [
    "df_col.party_sobriety = df_col.party_sobriety.apply(lambda x: col_sobriety(x))"
   ]
  },
  {
   "cell_type": "code",
   "execution_count": null,
   "metadata": {
    "ExecuteTime": {
     "start_time": "2020-12-02T10:45:45.594Z"
    }
   },
   "outputs": [],
   "source": [
    "df_col['sobriety'] = df_col['sobriety'].add(df_col.party_sobriety)"
   ]
  },
  {
   "cell_type": "code",
   "execution_count": null,
   "metadata": {
    "ExecuteTime": {
     "start_time": "2020-12-02T10:45:45.784Z"
    }
   },
   "outputs": [],
   "source": [
    "df_col['sobriety'].unique()\n",
    "\n",
    "def encoding_sobriety(x):\n",
    "    dict_of_x = {10:'unknown', 11:1, 20:'unknown', 2:1}\n",
    "    if x in dict_of_x:\n",
    "        return dict_of_x[x]\n",
    "    return x\n",
    "\n",
    "df_col.sobriety  = df_col.sobriety.apply(lambda x: encoding_sobriety(x))\n",
    "df_col.drop(columns=['party_drug_physical', 'party_sobriety'], inplace=True)"
   ]
  },
  {
   "cell_type": "code",
   "execution_count": null,
   "metadata": {
    "ExecuteTime": {
     "start_time": "2020-12-02T10:45:45.974Z"
    }
   },
   "outputs": [],
   "source": [
    "df_col.statewide_vehicle_type.unique()"
   ]
  },
  {
   "cell_type": "code",
   "execution_count": null,
   "metadata": {
    "ExecuteTime": {
     "start_time": "2020-12-02T10:45:46.163Z"
    }
   },
   "outputs": [],
   "source": [
    "# export the brand new dataframe of parties\n",
    "df_col.to_csv('../raw_data/parties-001.csv')"
   ]
  }
 ],
 "metadata": {
  "kernelspec": {
   "display_name": "Python 3",
   "language": "python",
   "name": "python3"
  },
  "language_info": {
   "codemirror_mode": {
    "name": "ipython",
    "version": 3
   },
   "file_extension": ".py",
   "mimetype": "text/x-python",
   "name": "python",
   "nbconvert_exporter": "python",
   "pygments_lexer": "ipython3",
   "version": "3.8.5"
  },
  "toc": {
   "base_numbering": 1,
   "nav_menu": {},
   "number_sections": true,
   "sideBar": true,
   "skip_h1_title": false,
   "title_cell": "Table of Contents",
   "title_sidebar": "Contents",
   "toc_cell": false,
   "toc_position": {},
   "toc_section_display": true,
   "toc_window_display": false
  },
  "varInspector": {
   "cols": {
    "lenName": 16,
    "lenType": 16,
    "lenVar": 40
   },
   "kernels_config": {
    "python": {
     "delete_cmd_postfix": "",
     "delete_cmd_prefix": "del ",
     "library": "var_list.py",
     "varRefreshCmd": "print(var_dic_list())"
    },
    "r": {
     "delete_cmd_postfix": ") ",
     "delete_cmd_prefix": "rm(",
     "library": "var_list.r",
     "varRefreshCmd": "cat(var_dic_list()) "
    }
   },
   "types_to_exclude": [
    "module",
    "function",
    "builtin_function_or_method",
    "instance",
    "_Feature"
   ],
   "window_display": false
  }
 },
 "nbformat": 4,
 "nbformat_minor": 4
}
