{
 "cells": [
  {
   "cell_type": "markdown",
   "metadata": {},
   "source": [
    "# Creating the mean collision severity array 👍  "
   ]
  },
  {
   "cell_type": "markdown",
   "metadata": {},
   "source": [
    "## \"la_clean.csv\" database preprocessing"
   ]
  },
  {
   "cell_type": "code",
   "execution_count": 177,
   "metadata": {
    "ExecuteTime": {
     "end_time": "2020-12-02T22:11:27.153266Z",
     "start_time": "2020-12-02T22:11:20.833029Z"
    },
    "scrolled": true
   },
   "outputs": [
    {
     "name": "stdout",
     "output_type": "stream",
     "text": [
      "<class 'pandas.core.frame.DataFrame'>\n",
      "RangeIndex: 950421 entries, 0 to 950420\n",
      "Data columns (total 9 columns):\n",
      " #   Column              Non-Null Count   Dtype  \n",
      "---  ------              --------------   -----  \n",
      " 0   case_id             950421 non-null  int64  \n",
      " 1   primary_road        950421 non-null  object \n",
      " 2   weather_1           950421 non-null  object \n",
      " 3   collision_severity  950421 non-null  int64  \n",
      " 4   latitude            950421 non-null  float64\n",
      " 5   longitude           950421 non-null  float64\n",
      " 6   hour                950421 non-null  int64  \n",
      " 7   week_of_the_year    950421 non-null  int64  \n",
      " 8   day_of_the_week     950421 non-null  int64  \n",
      "dtypes: float64(2), int64(5), object(2)\n",
      "memory usage: 65.3+ MB\n"
     ]
    }
   ],
   "source": [
    "import pandas as pd\n",
    "import numpy as np\n",
    "\n",
    "df = pd.read_csv('la_clean.csv') # depends on where you saved the csv file\n",
    "df.info()"
   ]
  },
  {
   "cell_type": "code",
   "execution_count": 178,
   "metadata": {
    "ExecuteTime": {
     "end_time": "2020-12-02T22:11:27.205796Z",
     "start_time": "2020-12-02T22:11:27.160527Z"
    },
    "scrolled": true
   },
   "outputs": [
    {
     "data": {
      "text/html": [
       "<div>\n",
       "<style scoped>\n",
       "    .dataframe tbody tr th:only-of-type {\n",
       "        vertical-align: middle;\n",
       "    }\n",
       "\n",
       "    .dataframe tbody tr th {\n",
       "        vertical-align: top;\n",
       "    }\n",
       "\n",
       "    .dataframe thead th {\n",
       "        text-align: right;\n",
       "    }\n",
       "</style>\n",
       "<table border=\"1\" class=\"dataframe\">\n",
       "  <thead>\n",
       "    <tr style=\"text-align: right;\">\n",
       "      <th></th>\n",
       "      <th>case_id</th>\n",
       "      <th>primary_road</th>\n",
       "      <th>weather_1</th>\n",
       "      <th>collision_severity</th>\n",
       "      <th>latitude</th>\n",
       "      <th>longitude</th>\n",
       "      <th>hour</th>\n",
       "      <th>week_of_the_year</th>\n",
       "      <th>day_of_the_week</th>\n",
       "    </tr>\n",
       "  </thead>\n",
       "  <tbody>\n",
       "    <tr>\n",
       "      <th>0</th>\n",
       "      <td>3516974</td>\n",
       "      <td>RT 101</td>\n",
       "      <td>clear</td>\n",
       "      <td>1</td>\n",
       "      <td>34.17357</td>\n",
       "      <td>-118.54336</td>\n",
       "      <td>10</td>\n",
       "      <td>2</td>\n",
       "      <td>4</td>\n",
       "    </tr>\n",
       "    <tr>\n",
       "      <th>1</th>\n",
       "      <td>3522174</td>\n",
       "      <td>RT 405</td>\n",
       "      <td>clear</td>\n",
       "      <td>1</td>\n",
       "      <td>34.16803</td>\n",
       "      <td>-118.46901</td>\n",
       "      <td>6</td>\n",
       "      <td>3</td>\n",
       "      <td>3</td>\n",
       "    </tr>\n",
       "    <tr>\n",
       "      <th>2</th>\n",
       "      <td>3523649</td>\n",
       "      <td>RT 605</td>\n",
       "      <td>clear</td>\n",
       "      <td>1</td>\n",
       "      <td>33.77837</td>\n",
       "      <td>-118.09050</td>\n",
       "      <td>12</td>\n",
       "      <td>2</td>\n",
       "      <td>4</td>\n",
       "    </tr>\n",
       "    <tr>\n",
       "      <th>3</th>\n",
       "      <td>3524803</td>\n",
       "      <td>RT 101</td>\n",
       "      <td>cloudy</td>\n",
       "      <td>3</td>\n",
       "      <td>34.16938</td>\n",
       "      <td>-118.49952</td>\n",
       "      <td>6</td>\n",
       "      <td>1</td>\n",
       "      <td>3</td>\n",
       "    </tr>\n",
       "    <tr>\n",
       "      <th>4</th>\n",
       "      <td>3524807</td>\n",
       "      <td>RT 101</td>\n",
       "      <td>cloudy</td>\n",
       "      <td>2</td>\n",
       "      <td>34.16968</td>\n",
       "      <td>-118.49999</td>\n",
       "      <td>6</td>\n",
       "      <td>1</td>\n",
       "      <td>3</td>\n",
       "    </tr>\n",
       "  </tbody>\n",
       "</table>\n",
       "</div>"
      ],
      "text/plain": [
       "   case_id primary_road weather_1  collision_severity  latitude  longitude  \\\n",
       "0  3516974       RT 101     clear                   1  34.17357 -118.54336   \n",
       "1  3522174       RT 405     clear                   1  34.16803 -118.46901   \n",
       "2  3523649       RT 605     clear                   1  33.77837 -118.09050   \n",
       "3  3524803       RT 101    cloudy                   3  34.16938 -118.49952   \n",
       "4  3524807       RT 101    cloudy                   2  34.16968 -118.49999   \n",
       "\n",
       "   hour  week_of_the_year  day_of_the_week  \n",
       "0    10                 2                4  \n",
       "1     6                 3                3  \n",
       "2    12                 2                4  \n",
       "3     6                 1                3  \n",
       "4     6                 1                3  "
      ]
     },
     "execution_count": 178,
     "metadata": {},
     "output_type": "execute_result"
    }
   ],
   "source": [
    "df.head()"
   ]
  },
  {
   "cell_type": "code",
   "execution_count": 179,
   "metadata": {
    "ExecuteTime": {
     "end_time": "2020-12-02T22:11:32.497357Z",
     "start_time": "2020-12-02T22:11:27.215734Z"
    }
   },
   "outputs": [
    {
     "data": {
      "text/html": [
       "<div>\n",
       "<style scoped>\n",
       "    .dataframe tbody tr th:only-of-type {\n",
       "        vertical-align: middle;\n",
       "    }\n",
       "\n",
       "    .dataframe tbody tr th {\n",
       "        vertical-align: top;\n",
       "    }\n",
       "\n",
       "    .dataframe thead th {\n",
       "        text-align: right;\n",
       "    }\n",
       "</style>\n",
       "<table border=\"1\" class=\"dataframe\">\n",
       "  <thead>\n",
       "    <tr style=\"text-align: right;\">\n",
       "      <th></th>\n",
       "      <th>primary_road</th>\n",
       "      <th>weather_1</th>\n",
       "      <th>collision_severity</th>\n",
       "      <th>latitude</th>\n",
       "      <th>longitude</th>\n",
       "      <th>hour</th>\n",
       "      <th>day_of_the_week</th>\n",
       "    </tr>\n",
       "  </thead>\n",
       "  <tbody>\n",
       "    <tr>\n",
       "      <th>0</th>\n",
       "      <td>RT 101</td>\n",
       "      <td>clear</td>\n",
       "      <td>1</td>\n",
       "      <td>34.17357</td>\n",
       "      <td>-118.54336</td>\n",
       "      <td>10</td>\n",
       "      <td>4</td>\n",
       "    </tr>\n",
       "    <tr>\n",
       "      <th>1</th>\n",
       "      <td>RT 405</td>\n",
       "      <td>clear</td>\n",
       "      <td>1</td>\n",
       "      <td>34.16803</td>\n",
       "      <td>-118.46901</td>\n",
       "      <td>6</td>\n",
       "      <td>3</td>\n",
       "    </tr>\n",
       "    <tr>\n",
       "      <th>2</th>\n",
       "      <td>RT 605</td>\n",
       "      <td>clear</td>\n",
       "      <td>1</td>\n",
       "      <td>33.77837</td>\n",
       "      <td>-118.09050</td>\n",
       "      <td>12</td>\n",
       "      <td>4</td>\n",
       "    </tr>\n",
       "    <tr>\n",
       "      <th>3</th>\n",
       "      <td>RT 101</td>\n",
       "      <td>cloudy</td>\n",
       "      <td>3</td>\n",
       "      <td>34.16938</td>\n",
       "      <td>-118.49952</td>\n",
       "      <td>6</td>\n",
       "      <td>3</td>\n",
       "    </tr>\n",
       "    <tr>\n",
       "      <th>4</th>\n",
       "      <td>RT 101</td>\n",
       "      <td>cloudy</td>\n",
       "      <td>2</td>\n",
       "      <td>34.16968</td>\n",
       "      <td>-118.49999</td>\n",
       "      <td>6</td>\n",
       "      <td>3</td>\n",
       "    </tr>\n",
       "  </tbody>\n",
       "</table>\n",
       "</div>"
      ],
      "text/plain": [
       "  primary_road weather_1  collision_severity  latitude  longitude  hour  \\\n",
       "0       RT 101     clear                   1  34.17357 -118.54336    10   \n",
       "1       RT 405     clear                   1  34.16803 -118.46901     6   \n",
       "2       RT 605     clear                   1  33.77837 -118.09050    12   \n",
       "3       RT 101    cloudy                   3  34.16938 -118.49952     6   \n",
       "4       RT 101    cloudy                   2  34.16968 -118.49999     6   \n",
       "\n",
       "   day_of_the_week  \n",
       "0                4  \n",
       "1                3  \n",
       "2                4  \n",
       "3                3  \n",
       "4                3  "
      ]
     },
     "execution_count": 179,
     "metadata": {},
     "output_type": "execute_result"
    }
   ],
   "source": [
    "# for now we won't be needing the week of the year, as this would shrink too much our data when querying, nor the case_id\n",
    "df = df.drop(['week_of_the_year'],axis=1).drop(['case_id'],axis=1)\n",
    "df.head()"
   ]
  },
  {
   "cell_type": "code",
   "execution_count": 180,
   "metadata": {
    "ExecuteTime": {
     "end_time": "2020-12-02T22:11:32.534364Z",
     "start_time": "2020-12-02T22:11:32.505053Z"
    }
   },
   "outputs": [
    {
     "data": {
      "text/plain": [
       "1    634393\n",
       "2    208638\n",
       "3     86422\n",
       "4     16289\n",
       "5      4677\n",
       "0         2\n",
       "Name: collision_severity, dtype: int64"
      ]
     },
     "execution_count": 180,
     "metadata": {},
     "output_type": "execute_result"
    }
   ],
   "source": [
    "df.collision_severity.value_counts()"
   ]
  },
  {
   "cell_type": "code",
   "execution_count": 181,
   "metadata": {
    "ExecuteTime": {
     "end_time": "2020-12-02T22:11:32.757048Z",
     "start_time": "2020-12-02T22:11:32.542026Z"
    }
   },
   "outputs": [
    {
     "data": {
      "text/plain": [
       "clear      810429\n",
       "cloudy     114406\n",
       "raining     22494\n",
       "unknown      1289\n",
       "fog          1193\n",
       "other         215\n",
       "wind          203\n",
       "snowing       192\n",
       "Name: weather_1, dtype: int64"
      ]
     },
     "execution_count": 181,
     "metadata": {},
     "output_type": "execute_result"
    }
   ],
   "source": [
    "df.weather_1.value_counts()"
   ]
  },
  {
   "cell_type": "code",
   "execution_count": 182,
   "metadata": {
    "ExecuteTime": {
     "end_time": "2020-12-02T22:11:33.533911Z",
     "start_time": "2020-12-02T22:11:32.761951Z"
    }
   },
   "outputs": [
    {
     "data": {
      "text/html": [
       "<div>\n",
       "<style scoped>\n",
       "    .dataframe tbody tr th:only-of-type {\n",
       "        vertical-align: middle;\n",
       "    }\n",
       "\n",
       "    .dataframe tbody tr th {\n",
       "        vertical-align: top;\n",
       "    }\n",
       "\n",
       "    .dataframe thead th {\n",
       "        text-align: right;\n",
       "    }\n",
       "</style>\n",
       "<table border=\"1\" class=\"dataframe\">\n",
       "  <thead>\n",
       "    <tr style=\"text-align: right;\">\n",
       "      <th></th>\n",
       "      <th>primary_road</th>\n",
       "      <th>weather_1</th>\n",
       "      <th>collision_severity</th>\n",
       "      <th>latitude</th>\n",
       "      <th>longitude</th>\n",
       "      <th>hour</th>\n",
       "      <th>day_of_the_week</th>\n",
       "    </tr>\n",
       "  </thead>\n",
       "  <tbody>\n",
       "    <tr>\n",
       "      <th>0</th>\n",
       "      <td>RT 101</td>\n",
       "      <td>0</td>\n",
       "      <td>1</td>\n",
       "      <td>34.17357</td>\n",
       "      <td>-118.54336</td>\n",
       "      <td>10</td>\n",
       "      <td>4</td>\n",
       "    </tr>\n",
       "    <tr>\n",
       "      <th>1</th>\n",
       "      <td>RT 405</td>\n",
       "      <td>0</td>\n",
       "      <td>1</td>\n",
       "      <td>34.16803</td>\n",
       "      <td>-118.46901</td>\n",
       "      <td>6</td>\n",
       "      <td>3</td>\n",
       "    </tr>\n",
       "    <tr>\n",
       "      <th>2</th>\n",
       "      <td>RT 605</td>\n",
       "      <td>0</td>\n",
       "      <td>1</td>\n",
       "      <td>33.77837</td>\n",
       "      <td>-118.09050</td>\n",
       "      <td>12</td>\n",
       "      <td>4</td>\n",
       "    </tr>\n",
       "    <tr>\n",
       "      <th>3</th>\n",
       "      <td>RT 101</td>\n",
       "      <td>1</td>\n",
       "      <td>3</td>\n",
       "      <td>34.16938</td>\n",
       "      <td>-118.49952</td>\n",
       "      <td>6</td>\n",
       "      <td>3</td>\n",
       "    </tr>\n",
       "    <tr>\n",
       "      <th>4</th>\n",
       "      <td>RT 101</td>\n",
       "      <td>1</td>\n",
       "      <td>2</td>\n",
       "      <td>34.16968</td>\n",
       "      <td>-118.49999</td>\n",
       "      <td>6</td>\n",
       "      <td>3</td>\n",
       "    </tr>\n",
       "  </tbody>\n",
       "</table>\n",
       "</div>"
      ],
      "text/plain": [
       "  primary_road  weather_1  collision_severity  latitude  longitude  hour  \\\n",
       "0       RT 101          0                   1  34.17357 -118.54336    10   \n",
       "1       RT 405          0                   1  34.16803 -118.46901     6   \n",
       "2       RT 605          0                   1  33.77837 -118.09050    12   \n",
       "3       RT 101          1                   3  34.16938 -118.49952     6   \n",
       "4       RT 101          1                   2  34.16968 -118.49999     6   \n",
       "\n",
       "   day_of_the_week  \n",
       "0                4  \n",
       "1                3  \n",
       "2                4  \n",
       "3                3  \n",
       "4                3  "
      ]
     },
     "execution_count": 182,
     "metadata": {},
     "output_type": "execute_result"
    }
   ],
   "source": [
    "# we will (slightly arbitrarily) encode the weather type\n",
    "weather = {'clear':0,'cloudy':1,'raining':2,'fog':3,'wind':2,'snowing':3,'other':0,'unknown':0}\n",
    "def impute_weather(x):\n",
    "    return weather[x]\n",
    "df.weather_1=df.weather_1.apply(lambda x : impute_weather(x))\n",
    "df.head()"
   ]
  },
  {
   "cell_type": "code",
   "execution_count": 183,
   "metadata": {
    "ExecuteTime": {
     "end_time": "2020-12-02T22:11:33.970255Z",
     "start_time": "2020-12-02T22:11:33.541295Z"
    }
   },
   "outputs": [
    {
     "name": "stdout",
     "output_type": "stream",
     "text": [
      "Out of 950421 observations in L.A., there are 66108 unique roads.\n"
     ]
    }
   ],
   "source": [
    "print('Out of',df.shape[0],'observations in L.A., there are',len(df.primary_road.value_counts()),'unique roads.')"
   ]
  },
  {
   "cell_type": "markdown",
   "metadata": {},
   "source": [
    "####  preprocessing the road names"
   ]
  },
  {
   "cell_type": "code",
   "execution_count": 184,
   "metadata": {
    "ExecuteTime": {
     "end_time": "2020-12-02T22:11:44.564273Z",
     "start_time": "2020-12-02T22:11:33.979367Z"
    }
   },
   "outputs": [],
   "source": [
    "def name_proc(x):\n",
    "    x=str(x).lower()\n",
    "    nam = {' blvd ':' boulevard ',' bl ':' boulevard ',' rd ':' road ',' str ':' street ',' av ':' avenue ',' rt ':' route ',' blvd':' boulevard ',' bl':' boulevard ',' rd':' road ',' str':' street ',' av':' avenue',' rt':' route '}\n",
    "    for k in nam.keys():\n",
    "        if k in x:\n",
    "            return x.replace(k,nam[k])\n",
    "    else:\n",
    "        return x\n",
    "\n",
    "df.primary_road = df.primary_road.apply(lambda x : name_proc(x)) \n"
   ]
  },
  {
   "cell_type": "markdown",
   "metadata": {},
   "source": [
    "## Features (dimensions of the array) : weekday, dayhour, weather, road"
   ]
  },
  {
   "cell_type": "markdown",
   "metadata": {},
   "source": [
    "#### starting with an example 🌝 "
   ]
  },
  {
   "cell_type": "code",
   "execution_count": 186,
   "metadata": {
    "ExecuteTime": {
     "end_time": "2020-12-02T22:11:49.749743Z",
     "start_time": "2020-12-02T22:11:45.073402Z"
    }
   },
   "outputs": [
    {
     "data": {
      "text/html": [
       "<div>\n",
       "<style scoped>\n",
       "    .dataframe tbody tr th:only-of-type {\n",
       "        vertical-align: middle;\n",
       "    }\n",
       "\n",
       "    .dataframe tbody tr th {\n",
       "        vertical-align: top;\n",
       "    }\n",
       "\n",
       "    .dataframe thead th {\n",
       "        text-align: right;\n",
       "    }\n",
       "</style>\n",
       "<table border=\"1\" class=\"dataframe\">\n",
       "  <thead>\n",
       "    <tr style=\"text-align: right;\">\n",
       "      <th></th>\n",
       "      <th>primary_road</th>\n",
       "      <th>weather_1</th>\n",
       "      <th>collision_severity</th>\n",
       "      <th>latitude</th>\n",
       "      <th>longitude</th>\n",
       "      <th>hour</th>\n",
       "      <th>day_of_the_week</th>\n",
       "    </tr>\n",
       "  </thead>\n",
       "  <tbody>\n",
       "    <tr>\n",
       "      <th>14038</th>\n",
       "      <td>beverly boulevard</td>\n",
       "      <td>0</td>\n",
       "      <td>1</td>\n",
       "      <td>34.07612</td>\n",
       "      <td>-118.28675</td>\n",
       "      <td>16</td>\n",
       "      <td>4</td>\n",
       "    </tr>\n",
       "    <tr>\n",
       "      <th>36600</th>\n",
       "      <td>beverly boulevard</td>\n",
       "      <td>0</td>\n",
       "      <td>2</td>\n",
       "      <td>34.02124</td>\n",
       "      <td>-118.12599</td>\n",
       "      <td>16</td>\n",
       "      <td>4</td>\n",
       "    </tr>\n",
       "    <tr>\n",
       "      <th>325928</th>\n",
       "      <td>beverly boulevard</td>\n",
       "      <td>0</td>\n",
       "      <td>1</td>\n",
       "      <td>34.07457</td>\n",
       "      <td>-118.28690</td>\n",
       "      <td>16</td>\n",
       "      <td>4</td>\n",
       "    </tr>\n",
       "    <tr>\n",
       "      <th>454737</th>\n",
       "      <td>west beverly boulevard</td>\n",
       "      <td>0</td>\n",
       "      <td>1</td>\n",
       "      <td>34.01468</td>\n",
       "      <td>-118.11180</td>\n",
       "      <td>16</td>\n",
       "      <td>4</td>\n",
       "    </tr>\n",
       "    <tr>\n",
       "      <th>459176</th>\n",
       "      <td>west beverly boulevard</td>\n",
       "      <td>0</td>\n",
       "      <td>2</td>\n",
       "      <td>34.01705</td>\n",
       "      <td>-118.10499</td>\n",
       "      <td>16</td>\n",
       "      <td>4</td>\n",
       "    </tr>\n",
       "    <tr>\n",
       "      <th>470433</th>\n",
       "      <td>west beverly boulevard</td>\n",
       "      <td>0</td>\n",
       "      <td>2</td>\n",
       "      <td>34.02406</td>\n",
       "      <td>-118.13924</td>\n",
       "      <td>16</td>\n",
       "      <td>4</td>\n",
       "    </tr>\n",
       "    <tr>\n",
       "      <th>489493</th>\n",
       "      <td>beverly boulevard</td>\n",
       "      <td>0</td>\n",
       "      <td>2</td>\n",
       "      <td>34.07720</td>\n",
       "      <td>-118.38889</td>\n",
       "      <td>16</td>\n",
       "      <td>4</td>\n",
       "    </tr>\n",
       "    <tr>\n",
       "      <th>843335</th>\n",
       "      <td>beverly boulevard (5400 block)</td>\n",
       "      <td>0</td>\n",
       "      <td>1</td>\n",
       "      <td>34.02896</td>\n",
       "      <td>-118.14845</td>\n",
       "      <td>16</td>\n",
       "      <td>4</td>\n",
       "    </tr>\n",
       "  </tbody>\n",
       "</table>\n",
       "</div>"
      ],
      "text/plain": [
       "                          primary_road  weather_1  collision_severity  \\\n",
       "14038               beverly boulevard           0                   1   \n",
       "36600               beverly boulevard           0                   2   \n",
       "325928              beverly boulevard           0                   1   \n",
       "454737         west beverly boulevard           0                   1   \n",
       "459176         west beverly boulevard           0                   2   \n",
       "470433         west beverly boulevard           0                   2   \n",
       "489493              beverly boulevard           0                   2   \n",
       "843335  beverly boulevard (5400 block)          0                   1   \n",
       "\n",
       "        latitude  longitude  hour  day_of_the_week  \n",
       "14038   34.07612 -118.28675    16                4  \n",
       "36600   34.02124 -118.12599    16                4  \n",
       "325928  34.07457 -118.28690    16                4  \n",
       "454737  34.01468 -118.11180    16                4  \n",
       "459176  34.01705 -118.10499    16                4  \n",
       "470433  34.02406 -118.13924    16                4  \n",
       "489493  34.07720 -118.38889    16                4  \n",
       "843335  34.02896 -118.14845    16                4  "
      ]
     },
     "execution_count": 186,
     "metadata": {},
     "output_type": "execute_result"
    }
   ],
   "source": [
    "# say the user of our front-end streamlite website wants to leave from 'Beverly boulevard' at 4 P.M. on a thursday\n",
    "# Let's find this road, see if we have it in store for that day and hour, then assess the average collision severity there\n",
    "def beverly(x):\n",
    "    if 'beverly' in x.lower():\n",
    "        return x\n",
    "    else:\n",
    "        return ''\n",
    "a = df.copy()\n",
    "a.primary_road = a.primary_road.apply(lambda x:beverly(x))\n",
    "a=a[(a.primary_road != '')&(a.hour==16)&(a.day_of_the_week==4)]\n",
    "a\n"
   ]
  },
  {
   "cell_type": "code",
   "execution_count": 187,
   "metadata": {
    "ExecuteTime": {
     "end_time": "2020-12-02T22:11:49.795239Z",
     "start_time": "2020-12-02T22:11:49.755498Z"
    }
   },
   "outputs": [
    {
     "data": {
      "text/html": [
       "<div>\n",
       "<style scoped>\n",
       "    .dataframe tbody tr th:only-of-type {\n",
       "        vertical-align: middle;\n",
       "    }\n",
       "\n",
       "    .dataframe tbody tr th {\n",
       "        vertical-align: top;\n",
       "    }\n",
       "\n",
       "    .dataframe thead th {\n",
       "        text-align: right;\n",
       "    }\n",
       "</style>\n",
       "<table border=\"1\" class=\"dataframe\">\n",
       "  <thead>\n",
       "    <tr style=\"text-align: right;\">\n",
       "      <th></th>\n",
       "      <th>collision_severity</th>\n",
       "    </tr>\n",
       "    <tr>\n",
       "      <th>primary_road</th>\n",
       "      <th></th>\n",
       "    </tr>\n",
       "  </thead>\n",
       "  <tbody>\n",
       "    <tr>\n",
       "      <th>beverly boulevard</th>\n",
       "      <td>1.500000</td>\n",
       "    </tr>\n",
       "    <tr>\n",
       "      <th>beverly boulevard (5400 block)</th>\n",
       "      <td>1.000000</td>\n",
       "    </tr>\n",
       "    <tr>\n",
       "      <th>west beverly boulevard</th>\n",
       "      <td>1.666667</td>\n",
       "    </tr>\n",
       "  </tbody>\n",
       "</table>\n",
       "</div>"
      ],
      "text/plain": [
       "                                collision_severity\n",
       "primary_road                                      \n",
       "beverly boulevard                         1.500000\n",
       "beverly boulevard (5400 block)            1.000000\n",
       "west beverly boulevard                    1.666667"
      ]
     },
     "execution_count": 187,
     "metadata": {},
     "output_type": "execute_result"
    }
   ],
   "source": [
    "# let's now refine the above search:\n",
    "a.groupby('primary_road').agg({'collision_severity':'mean'})"
   ]
  },
  {
   "cell_type": "code",
   "execution_count": 188,
   "metadata": {
    "ExecuteTime": {
     "end_time": "2020-12-02T22:11:49.860688Z",
     "start_time": "2020-12-02T22:11:49.803172Z"
    }
   },
   "outputs": [
    {
     "name": "stdout",
     "output_type": "stream",
     "text": [
      "We would then select the right road and provide the mean severity. Let us create the full array now\n"
     ]
    }
   ],
   "source": [
    "print('We would then select the right road and provide the mean severity. Let us create the full array now')"
   ]
  },
  {
   "cell_type": "code",
   "execution_count": 189,
   "metadata": {
    "ExecuteTime": {
     "end_time": "2020-12-02T22:14:03.273354Z",
     "start_time": "2020-12-02T22:14:03.175841Z"
    }
   },
   "outputs": [
    {
     "data": {
      "text/html": [
       "<div>\n",
       "<style scoped>\n",
       "    .dataframe tbody tr th:only-of-type {\n",
       "        vertical-align: middle;\n",
       "    }\n",
       "\n",
       "    .dataframe tbody tr th {\n",
       "        vertical-align: top;\n",
       "    }\n",
       "\n",
       "    .dataframe thead th {\n",
       "        text-align: right;\n",
       "    }\n",
       "</style>\n",
       "<table border=\"1\" class=\"dataframe\">\n",
       "  <thead>\n",
       "    <tr style=\"text-align: right;\">\n",
       "      <th></th>\n",
       "      <th>primary_road</th>\n",
       "      <th>weather_1</th>\n",
       "      <th>collision_severity</th>\n",
       "      <th>latitude</th>\n",
       "      <th>longitude</th>\n",
       "      <th>hour</th>\n",
       "      <th>day_of_the_week</th>\n",
       "    </tr>\n",
       "  </thead>\n",
       "  <tbody>\n",
       "    <tr>\n",
       "      <th>809</th>\n",
       "      <td>rt 405</td>\n",
       "      <td>0</td>\n",
       "      <td>1</td>\n",
       "      <td>34.23398</td>\n",
       "      <td>-118.47290</td>\n",
       "      <td>2</td>\n",
       "      <td>4</td>\n",
       "    </tr>\n",
       "    <tr>\n",
       "      <th>1181</th>\n",
       "      <td>rt 101</td>\n",
       "      <td>0</td>\n",
       "      <td>1</td>\n",
       "      <td>34.15607</td>\n",
       "      <td>-118.42605</td>\n",
       "      <td>2</td>\n",
       "      <td>4</td>\n",
       "    </tr>\n",
       "    <tr>\n",
       "      <th>1196</th>\n",
       "      <td>slauson avenue</td>\n",
       "      <td>0</td>\n",
       "      <td>1</td>\n",
       "      <td>33.96481</td>\n",
       "      <td>-118.06941</td>\n",
       "      <td>2</td>\n",
       "      <td>4</td>\n",
       "    </tr>\n",
       "    <tr>\n",
       "      <th>1326</th>\n",
       "      <td>rt 405</td>\n",
       "      <td>0</td>\n",
       "      <td>1</td>\n",
       "      <td>34.23530</td>\n",
       "      <td>-118.47286</td>\n",
       "      <td>2</td>\n",
       "      <td>4</td>\n",
       "    </tr>\n",
       "    <tr>\n",
       "      <th>1353</th>\n",
       "      <td>rt 91</td>\n",
       "      <td>0</td>\n",
       "      <td>2</td>\n",
       "      <td>33.95167</td>\n",
       "      <td>-117.38483</td>\n",
       "      <td>2</td>\n",
       "      <td>4</td>\n",
       "    </tr>\n",
       "    <tr>\n",
       "      <th>...</th>\n",
       "      <td>...</td>\n",
       "      <td>...</td>\n",
       "      <td>...</td>\n",
       "      <td>...</td>\n",
       "      <td>...</td>\n",
       "      <td>...</td>\n",
       "      <td>...</td>\n",
       "    </tr>\n",
       "    <tr>\n",
       "      <th>948955</th>\n",
       "      <td>beach boulevard</td>\n",
       "      <td>0</td>\n",
       "      <td>1</td>\n",
       "      <td>33.50580</td>\n",
       "      <td>-117.59500</td>\n",
       "      <td>2</td>\n",
       "      <td>4</td>\n",
       "    </tr>\n",
       "    <tr>\n",
       "      <th>949024</th>\n",
       "      <td>de forest cir</td>\n",
       "      <td>0</td>\n",
       "      <td>1</td>\n",
       "      <td>34.05055</td>\n",
       "      <td>-117.52177</td>\n",
       "      <td>2</td>\n",
       "      <td>4</td>\n",
       "    </tr>\n",
       "    <tr>\n",
       "      <th>949751</th>\n",
       "      <td>margarita road</td>\n",
       "      <td>0</td>\n",
       "      <td>2</td>\n",
       "      <td>33.53093</td>\n",
       "      <td>-117.15112</td>\n",
       "      <td>2</td>\n",
       "      <td>4</td>\n",
       "    </tr>\n",
       "    <tr>\n",
       "      <th>950044</th>\n",
       "      <td>tamarisk ln</td>\n",
       "      <td>0</td>\n",
       "      <td>3</td>\n",
       "      <td>34.02700</td>\n",
       "      <td>-117.65725</td>\n",
       "      <td>2</td>\n",
       "      <td>4</td>\n",
       "    </tr>\n",
       "    <tr>\n",
       "      <th>950132</th>\n",
       "      <td>placentia avenue</td>\n",
       "      <td>0</td>\n",
       "      <td>1</td>\n",
       "      <td>33.84918</td>\n",
       "      <td>-117.88875</td>\n",
       "      <td>2</td>\n",
       "      <td>4</td>\n",
       "    </tr>\n",
       "  </tbody>\n",
       "</table>\n",
       "<p>2458 rows × 7 columns</p>\n",
       "</div>"
      ],
      "text/plain": [
       "            primary_road  weather_1  collision_severity  latitude  longitude  \\\n",
       "809               rt 405          0                   1  34.23398 -118.47290   \n",
       "1181              rt 101          0                   1  34.15607 -118.42605   \n",
       "1196      slauson avenue          0                   1  33.96481 -118.06941   \n",
       "1326              rt 405          0                   1  34.23530 -118.47286   \n",
       "1353               rt 91          0                   2  33.95167 -117.38483   \n",
       "...                  ...        ...                 ...       ...        ...   \n",
       "948955  beach boulevard           0                   1  33.50580 -117.59500   \n",
       "949024     de forest cir          0                   1  34.05055 -117.52177   \n",
       "949751   margarita road           0                   2  33.53093 -117.15112   \n",
       "950044       tamarisk ln          0                   3  34.02700 -117.65725   \n",
       "950132  placentia avenue          0                   1  33.84918 -117.88875   \n",
       "\n",
       "        hour  day_of_the_week  \n",
       "809        2                4  \n",
       "1181       2                4  \n",
       "1196       2                4  \n",
       "1326       2                4  \n",
       "1353       2                4  \n",
       "...      ...              ...  \n",
       "948955     2                4  \n",
       "949024     2                4  \n",
       "949751     2                4  \n",
       "950044     2                4  \n",
       "950132     2                4  \n",
       "\n",
       "[2458 rows x 7 columns]"
      ]
     },
     "execution_count": 189,
     "metadata": {},
     "output_type": "execute_result"
    }
   ],
   "source": [
    "df[(df.day_of_the_week==4)&(df.hour==2)]"
   ]
  },
  {
   "cell_type": "markdown",
   "metadata": {},
   "source": [
    "### (TBD for the enhanced version of the array: find most relevant features then add them as dimensions)"
   ]
  },
  {
   "cell_type": "markdown",
   "metadata": {},
   "source": [
    "## Imputing missing values"
   ]
  },
  {
   "cell_type": "markdown",
   "metadata": {},
   "source": [
    "### simple imputer: replace missing values with average collision severity on the same road, regardless of features (ie even if weather, hour etc. are different)"
   ]
  },
  {
   "cell_type": "markdown",
   "metadata": {
    "ExecuteTime": {
     "end_time": "2020-12-02T22:18:38.640382Z",
     "start_time": "2020-12-02T22:18:38.634427Z"
    }
   },
   "source": [
    "#### say I start my journey on margarita road on a sunday at 9am:"
   ]
  },
  {
   "cell_type": "code",
   "execution_count": 193,
   "metadata": {
    "ExecuteTime": {
     "end_time": "2020-12-02T22:35:42.283473Z",
     "start_time": "2020-12-02T22:35:42.130373Z"
    }
   },
   "outputs": [
    {
     "data": {
      "text/html": [
       "<div>\n",
       "<style scoped>\n",
       "    .dataframe tbody tr th:only-of-type {\n",
       "        vertical-align: middle;\n",
       "    }\n",
       "\n",
       "    .dataframe tbody tr th {\n",
       "        vertical-align: top;\n",
       "    }\n",
       "\n",
       "    .dataframe thead th {\n",
       "        text-align: right;\n",
       "    }\n",
       "</style>\n",
       "<table border=\"1\" class=\"dataframe\">\n",
       "  <thead>\n",
       "    <tr style=\"text-align: right;\">\n",
       "      <th></th>\n",
       "      <th>collision_severity</th>\n",
       "    </tr>\n",
       "    <tr>\n",
       "      <th>primary_road</th>\n",
       "      <th></th>\n",
       "    </tr>\n",
       "  </thead>\n",
       "  <tbody>\n",
       "  </tbody>\n",
       "</table>\n",
       "</div>"
      ],
      "text/plain": [
       "Empty DataFrame\n",
       "Columns: [collision_severity]\n",
       "Index: []"
      ]
     },
     "execution_count": 193,
     "metadata": {},
     "output_type": "execute_result"
    }
   ],
   "source": [
    "sevdf =df[(df.day_of_the_week==6)&(df.hour==9)&(df.primary_road=='margarita road')].groupby('primary_road').agg({'collision_severity':'mean'})\n",
    "sevdf"
   ]
  },
  {
   "cell_type": "markdown",
   "metadata": {},
   "source": [
    "#### There is no data to retrieve because there was no such accident reported. Still, assuming no severity collision in the event of a crash is clearly wrong, so we need to impute a value here. We will use as a baseline an imputation based on data for the same road with different hours and days. "
   ]
  },
  {
   "cell_type": "code",
   "execution_count": 194,
   "metadata": {
    "ExecuteTime": {
     "end_time": "2020-12-02T22:39:11.207779Z",
     "start_time": "2020-12-02T22:39:10.660242Z"
    }
   },
   "outputs": [
    {
     "data": {
      "text/plain": [
       "-0.013458493203326451"
      ]
     },
     "execution_count": 194,
     "metadata": {},
     "output_type": "execute_result"
    }
   ],
   "source": [
    "corr_severity_hour = df.collision_severity.corr(df.hour)\n",
    "corr_severity_hour"
   ]
  },
  {
   "cell_type": "code",
   "execution_count": 195,
   "metadata": {
    "ExecuteTime": {
     "end_time": "2020-12-02T22:40:02.949757Z",
     "start_time": "2020-12-02T22:40:02.912831Z"
    }
   },
   "outputs": [
    {
     "data": {
      "text/plain": [
       "0.04555548303346449"
      ]
     },
     "execution_count": 195,
     "metadata": {},
     "output_type": "execute_result"
    }
   ],
   "source": [
    "corr_severity_day = df.collision_severity.corr(df.day_of_the_week)\n",
    "corr_severity_day"
   ]
  },
  {
   "cell_type": "code",
   "execution_count": 196,
   "metadata": {
    "ExecuteTime": {
     "end_time": "2020-12-02T22:41:10.251112Z",
     "start_time": "2020-12-02T22:41:10.245848Z"
    }
   },
   "outputs": [],
   "source": [
    "# there is no linear correlation as seen above, but still there is some correlation"
   ]
  },
  {
   "cell_type": "code",
   "execution_count": 199,
   "metadata": {
    "ExecuteTime": {
     "end_time": "2020-12-02T22:43:29.313854Z",
     "start_time": "2020-12-02T22:43:29.308668Z"
    }
   },
   "outputs": [],
   "source": [
    "# let us see if by any chance we have a record at the exact time or weekday on the same road"
   ]
  },
  {
   "cell_type": "code",
   "execution_count": 197,
   "metadata": {
    "ExecuteTime": {
     "end_time": "2020-12-02T22:41:50.427422Z",
     "start_time": "2020-12-02T22:41:50.283823Z"
    }
   },
   "outputs": [
    {
     "data": {
      "text/html": [
       "<div>\n",
       "<style scoped>\n",
       "    .dataframe tbody tr th:only-of-type {\n",
       "        vertical-align: middle;\n",
       "    }\n",
       "\n",
       "    .dataframe tbody tr th {\n",
       "        vertical-align: top;\n",
       "    }\n",
       "\n",
       "    .dataframe thead th {\n",
       "        text-align: right;\n",
       "    }\n",
       "</style>\n",
       "<table border=\"1\" class=\"dataframe\">\n",
       "  <thead>\n",
       "    <tr style=\"text-align: right;\">\n",
       "      <th></th>\n",
       "      <th>collision_severity</th>\n",
       "    </tr>\n",
       "    <tr>\n",
       "      <th>primary_road</th>\n",
       "      <th></th>\n",
       "    </tr>\n",
       "  </thead>\n",
       "  <tbody>\n",
       "  </tbody>\n",
       "</table>\n",
       "</div>"
      ],
      "text/plain": [
       "Empty DataFrame\n",
       "Columns: [collision_severity]\n",
       "Index: []"
      ]
     },
     "execution_count": 197,
     "metadata": {},
     "output_type": "execute_result"
    }
   ],
   "source": [
    "df[(df.hour==9)&(df.primary_road=='margarita road')].groupby('primary_road').agg({'collision_severity':'mean'})"
   ]
  },
  {
   "cell_type": "code",
   "execution_count": 198,
   "metadata": {
    "ExecuteTime": {
     "end_time": "2020-12-02T22:42:20.395412Z",
     "start_time": "2020-12-02T22:42:20.263190Z"
    }
   },
   "outputs": [
    {
     "data": {
      "text/html": [
       "<div>\n",
       "<style scoped>\n",
       "    .dataframe tbody tr th:only-of-type {\n",
       "        vertical-align: middle;\n",
       "    }\n",
       "\n",
       "    .dataframe tbody tr th {\n",
       "        vertical-align: top;\n",
       "    }\n",
       "\n",
       "    .dataframe thead th {\n",
       "        text-align: right;\n",
       "    }\n",
       "</style>\n",
       "<table border=\"1\" class=\"dataframe\">\n",
       "  <thead>\n",
       "    <tr style=\"text-align: right;\">\n",
       "      <th></th>\n",
       "      <th>collision_severity</th>\n",
       "    </tr>\n",
       "    <tr>\n",
       "      <th>primary_road</th>\n",
       "      <th></th>\n",
       "    </tr>\n",
       "  </thead>\n",
       "  <tbody>\n",
       "  </tbody>\n",
       "</table>\n",
       "</div>"
      ],
      "text/plain": [
       "Empty DataFrame\n",
       "Columns: [collision_severity]\n",
       "Index: []"
      ]
     },
     "execution_count": 198,
     "metadata": {},
     "output_type": "execute_result"
    }
   ],
   "source": [
    "df[(df.day_of_the_week==6)&(df.primary_road=='margarita road')].groupby('primary_road').agg({'collision_severity':'mean'})\n"
   ]
  },
  {
   "cell_type": "code",
   "execution_count": 200,
   "metadata": {
    "ExecuteTime": {
     "end_time": "2020-12-02T22:43:46.987578Z",
     "start_time": "2020-12-02T22:43:46.980464Z"
    }
   },
   "outputs": [],
   "source": [
    "# we don't so let's impute in a straightforward manner"
   ]
  },
  {
   "cell_type": "code",
   "execution_count": 201,
   "metadata": {
    "ExecuteTime": {
     "end_time": "2020-12-02T22:44:04.929625Z",
     "start_time": "2020-12-02T22:44:04.738736Z"
    }
   },
   "outputs": [
    {
     "data": {
      "text/html": [
       "<div>\n",
       "<style scoped>\n",
       "    .dataframe tbody tr th:only-of-type {\n",
       "        vertical-align: middle;\n",
       "    }\n",
       "\n",
       "    .dataframe tbody tr th {\n",
       "        vertical-align: top;\n",
       "    }\n",
       "\n",
       "    .dataframe thead th {\n",
       "        text-align: right;\n",
       "    }\n",
       "</style>\n",
       "<table border=\"1\" class=\"dataframe\">\n",
       "  <thead>\n",
       "    <tr style=\"text-align: right;\">\n",
       "      <th></th>\n",
       "      <th>collision_severity</th>\n",
       "    </tr>\n",
       "    <tr>\n",
       "      <th>primary_road</th>\n",
       "      <th></th>\n",
       "    </tr>\n",
       "  </thead>\n",
       "  <tbody>\n",
       "    <tr>\n",
       "      <th>margarita road</th>\n",
       "      <td>1</td>\n",
       "    </tr>\n",
       "  </tbody>\n",
       "</table>\n",
       "</div>"
      ],
      "text/plain": [
       "                collision_severity\n",
       "primary_road                      \n",
       "margarita road                   1"
      ]
     },
     "execution_count": 201,
     "metadata": {},
     "output_type": "execute_result"
    }
   ],
   "source": [
    "df[(df.primary_road=='margarita road')].groupby('primary_road').agg({'collision_severity':'mean'})\n"
   ]
  },
  {
   "cell_type": "code",
   "execution_count": 202,
   "metadata": {
    "ExecuteTime": {
     "end_time": "2020-12-02T22:44:28.166892Z",
     "start_time": "2020-12-02T22:44:28.160163Z"
    }
   },
   "outputs": [],
   "source": [
    "# we will send 1 as proxy for collision severity here"
   ]
  },
  {
   "cell_type": "markdown",
   "metadata": {},
   "source": [
    "### (TBD for the enhanced version of the array: KNN imputer)"
   ]
  }
 ],
 "metadata": {
  "kernelspec": {
   "display_name": "Python 3",
   "language": "python",
   "name": "python3"
  },
  "language_info": {
   "codemirror_mode": {
    "name": "ipython",
    "version": 3
   },
   "file_extension": ".py",
   "mimetype": "text/x-python",
   "name": "python",
   "nbconvert_exporter": "python",
   "pygments_lexer": "ipython3",
   "version": "3.8.5"
  },
  "toc": {
   "base_numbering": 1,
   "nav_menu": {},
   "number_sections": true,
   "sideBar": true,
   "skip_h1_title": false,
   "title_cell": "Table of Contents",
   "title_sidebar": "Contents",
   "toc_cell": false,
   "toc_position": {},
   "toc_section_display": true,
   "toc_window_display": false
  }
 },
 "nbformat": 4,
 "nbformat_minor": 4
}
