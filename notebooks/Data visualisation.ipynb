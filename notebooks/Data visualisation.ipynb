{
 "cells": [
  {
   "cell_type": "code",
   "execution_count": 1,
   "metadata": {
    "ExecuteTime": {
     "end_time": "2020-12-02T13:22:58.919908Z",
     "start_time": "2020-12-02T13:22:58.183934Z"
    }
   },
   "outputs": [],
   "source": [
    "import pandas as pd\n",
    "import matplotlib.pyplot as plt\n",
    "import seaborn as sns"
   ]
  },
  {
   "cell_type": "code",
   "execution_count": 4,
   "metadata": {
    "ExecuteTime": {
     "end_time": "2020-12-02T13:24:33.998865Z",
     "start_time": "2020-12-02T13:24:27.453769Z"
    }
   },
   "outputs": [
    {
     "name": "stderr",
     "output_type": "stream",
     "text": [
      "/home/theo_p/.pyenv/versions/3.8.5/envs/lewagon/lib/python3.8/site-packages/IPython/core/interactiveshell.py:3145: DtypeWarning: Columns (6) have mixed types. Specify dtype option on import or set low_memory=False.\n",
      "  has_raised = await self.run_ast_nodes(code_ast.body, cell_name,\n"
     ]
    }
   ],
   "source": [
    "df = pd.read_csv('../raw_data/collisions_la.csv')"
   ]
  },
  {
   "cell_type": "code",
   "execution_count": 6,
   "metadata": {
    "ExecuteTime": {
     "end_time": "2020-12-02T13:24:43.638867Z",
     "start_time": "2020-12-02T13:24:43.598986Z"
    }
   },
   "outputs": [
    {
     "data": {
      "text/html": [
       "<div>\n",
       "<style scoped>\n",
       "    .dataframe tbody tr th:only-of-type {\n",
       "        vertical-align: middle;\n",
       "    }\n",
       "\n",
       "    .dataframe tbody tr th {\n",
       "        vertical-align: top;\n",
       "    }\n",
       "\n",
       "    .dataframe thead th {\n",
       "        text-align: right;\n",
       "    }\n",
       "</style>\n",
       "<table border=\"1\" class=\"dataframe\">\n",
       "  <thead>\n",
       "    <tr style=\"text-align: right;\">\n",
       "      <th></th>\n",
       "      <th>case_id</th>\n",
       "      <th>county_city_location</th>\n",
       "      <th>chp_beat_type</th>\n",
       "      <th>primary_road</th>\n",
       "      <th>secondary_road</th>\n",
       "      <th>distance</th>\n",
       "      <th>intersection</th>\n",
       "      <th>weather_1</th>\n",
       "      <th>weather_2</th>\n",
       "      <th>collision_severity</th>\n",
       "      <th>...</th>\n",
       "      <th>pedestrian_killed_count</th>\n",
       "      <th>pedestrian_injured_count</th>\n",
       "      <th>bicyclist_killed_count</th>\n",
       "      <th>bicyclist_injured_count</th>\n",
       "      <th>motorcyclist_killed_count</th>\n",
       "      <th>motorcyclist_injured_count</th>\n",
       "      <th>latitude</th>\n",
       "      <th>longitude</th>\n",
       "      <th>collision_date</th>\n",
       "      <th>collision_time</th>\n",
       "    </tr>\n",
       "  </thead>\n",
       "  <tbody>\n",
       "    <tr>\n",
       "      <th>0</th>\n",
       "      <td>3516974.0</td>\n",
       "      <td>1942</td>\n",
       "      <td>us highway</td>\n",
       "      <td>RT 101</td>\n",
       "      <td>RESEDA BL</td>\n",
       "      <td>2112.0</td>\n",
       "      <td>0.0</td>\n",
       "      <td>clear</td>\n",
       "      <td>unknown</td>\n",
       "      <td>property damage only</td>\n",
       "      <td>...</td>\n",
       "      <td>0</td>\n",
       "      <td>0</td>\n",
       "      <td>0</td>\n",
       "      <td>0</td>\n",
       "      <td>0</td>\n",
       "      <td>0.0</td>\n",
       "      <td>34.17357</td>\n",
       "      <td>-118.54336</td>\n",
       "      <td>2008-01-11</td>\n",
       "      <td>10:08:00</td>\n",
       "    </tr>\n",
       "    <tr>\n",
       "      <th>1</th>\n",
       "      <td>3522174.0</td>\n",
       "      <td>1942</td>\n",
       "      <td>interstate</td>\n",
       "      <td>RT 405</td>\n",
       "      <td>BURBANK BL</td>\n",
       "      <td>1056.0</td>\n",
       "      <td>0.0</td>\n",
       "      <td>clear</td>\n",
       "      <td>unknown</td>\n",
       "      <td>property damage only</td>\n",
       "      <td>...</td>\n",
       "      <td>0</td>\n",
       "      <td>0</td>\n",
       "      <td>0</td>\n",
       "      <td>0</td>\n",
       "      <td>0</td>\n",
       "      <td>0.0</td>\n",
       "      <td>34.16803</td>\n",
       "      <td>-118.46901</td>\n",
       "      <td>2008-01-17</td>\n",
       "      <td>06:45:00</td>\n",
       "    </tr>\n",
       "    <tr>\n",
       "      <th>2</th>\n",
       "      <td>3523649.0</td>\n",
       "      <td>3020</td>\n",
       "      <td>interstate</td>\n",
       "      <td>RT 605</td>\n",
       "      <td>CONNECTOR</td>\n",
       "      <td>150.0</td>\n",
       "      <td>0.0</td>\n",
       "      <td>clear</td>\n",
       "      <td>unknown</td>\n",
       "      <td>property damage only</td>\n",
       "      <td>...</td>\n",
       "      <td>0</td>\n",
       "      <td>0</td>\n",
       "      <td>0</td>\n",
       "      <td>0</td>\n",
       "      <td>0</td>\n",
       "      <td>0.0</td>\n",
       "      <td>33.77837</td>\n",
       "      <td>-118.09050</td>\n",
       "      <td>2008-01-11</td>\n",
       "      <td>12:20:00</td>\n",
       "    </tr>\n",
       "    <tr>\n",
       "      <th>3</th>\n",
       "      <td>3524803.0</td>\n",
       "      <td>1942</td>\n",
       "      <td>us highway</td>\n",
       "      <td>RT 101</td>\n",
       "      <td>BALBOA BL</td>\n",
       "      <td>428.0</td>\n",
       "      <td>0.0</td>\n",
       "      <td>cloudy</td>\n",
       "      <td>unknown</td>\n",
       "      <td>other injury</td>\n",
       "      <td>...</td>\n",
       "      <td>0</td>\n",
       "      <td>0</td>\n",
       "      <td>0</td>\n",
       "      <td>0</td>\n",
       "      <td>0</td>\n",
       "      <td>0.0</td>\n",
       "      <td>34.16938</td>\n",
       "      <td>-118.49952</td>\n",
       "      <td>2008-01-03</td>\n",
       "      <td>06:48:00</td>\n",
       "    </tr>\n",
       "    <tr>\n",
       "      <th>4</th>\n",
       "      <td>3524807.0</td>\n",
       "      <td>1942</td>\n",
       "      <td>us highway</td>\n",
       "      <td>RT 101</td>\n",
       "      <td>BALBOA BL</td>\n",
       "      <td>310.0</td>\n",
       "      <td>0.0</td>\n",
       "      <td>cloudy</td>\n",
       "      <td>unknown</td>\n",
       "      <td>pain</td>\n",
       "      <td>...</td>\n",
       "      <td>0</td>\n",
       "      <td>0</td>\n",
       "      <td>0</td>\n",
       "      <td>0</td>\n",
       "      <td>0</td>\n",
       "      <td>0.0</td>\n",
       "      <td>34.16968</td>\n",
       "      <td>-118.49999</td>\n",
       "      <td>2008-01-03</td>\n",
       "      <td>06:49:00</td>\n",
       "    </tr>\n",
       "  </tbody>\n",
       "</table>\n",
       "<p>5 rows × 37 columns</p>\n",
       "</div>"
      ],
      "text/plain": [
       "     case_id  county_city_location chp_beat_type primary_road secondary_road  \\\n",
       "0  3516974.0                  1942    us highway       RT 101      RESEDA BL   \n",
       "1  3522174.0                  1942    interstate       RT 405     BURBANK BL   \n",
       "2  3523649.0                  3020    interstate       RT 605      CONNECTOR   \n",
       "3  3524803.0                  1942    us highway       RT 101      BALBOA BL   \n",
       "4  3524807.0                  1942    us highway       RT 101      BALBOA BL   \n",
       "\n",
       "   distance intersection weather_1 weather_2    collision_severity  ...  \\\n",
       "0    2112.0          0.0     clear   unknown  property damage only  ...   \n",
       "1    1056.0          0.0     clear   unknown  property damage only  ...   \n",
       "2     150.0          0.0     clear   unknown  property damage only  ...   \n",
       "3     428.0          0.0    cloudy   unknown          other injury  ...   \n",
       "4     310.0          0.0    cloudy   unknown                  pain  ...   \n",
       "\n",
       "   pedestrian_killed_count  pedestrian_injured_count  bicyclist_killed_count  \\\n",
       "0                        0                         0                       0   \n",
       "1                        0                         0                       0   \n",
       "2                        0                         0                       0   \n",
       "3                        0                         0                       0   \n",
       "4                        0                         0                       0   \n",
       "\n",
       "  bicyclist_injured_count motorcyclist_killed_count  \\\n",
       "0                       0                         0   \n",
       "1                       0                         0   \n",
       "2                       0                         0   \n",
       "3                       0                         0   \n",
       "4                       0                         0   \n",
       "\n",
       "  motorcyclist_injured_count  latitude  longitude collision_date  \\\n",
       "0                        0.0  34.17357 -118.54336     2008-01-11   \n",
       "1                        0.0  34.16803 -118.46901     2008-01-17   \n",
       "2                        0.0  33.77837 -118.09050     2008-01-11   \n",
       "3                        0.0  34.16938 -118.49952     2008-01-03   \n",
       "4                        0.0  34.16968 -118.49999     2008-01-03   \n",
       "\n",
       "  collision_time  \n",
       "0       10:08:00  \n",
       "1       06:45:00  \n",
       "2       12:20:00  \n",
       "3       06:48:00  \n",
       "4       06:49:00  \n",
       "\n",
       "[5 rows x 37 columns]"
      ]
     },
     "execution_count": 6,
     "metadata": {},
     "output_type": "execute_result"
    }
   ],
   "source": [
    "df.head()"
   ]
  },
  {
   "cell_type": "code",
   "execution_count": null,
   "metadata": {},
   "outputs": [],
   "source": []
  }
 ],
 "metadata": {
  "kernelspec": {
   "display_name": "Python 3",
   "language": "python",
   "name": "python3"
  },
  "language_info": {
   "codemirror_mode": {
    "name": "ipython",
    "version": 3
   },
   "file_extension": ".py",
   "mimetype": "text/x-python",
   "name": "python",
   "nbconvert_exporter": "python",
   "pygments_lexer": "ipython3",
   "version": "3.8.5"
  },
  "toc": {
   "base_numbering": 1,
   "nav_menu": {},
   "number_sections": true,
   "sideBar": true,
   "skip_h1_title": false,
   "title_cell": "Table of Contents",
   "title_sidebar": "Contents",
   "toc_cell": false,
   "toc_position": {},
   "toc_section_display": true,
   "toc_window_display": false
  },
  "varInspector": {
   "cols": {
    "lenName": 16,
    "lenType": 16,
    "lenVar": 40
   },
   "kernels_config": {
    "python": {
     "delete_cmd_postfix": "",
     "delete_cmd_prefix": "del ",
     "library": "var_list.py",
     "varRefreshCmd": "print(var_dic_list())"
    },
    "r": {
     "delete_cmd_postfix": ") ",
     "delete_cmd_prefix": "rm(",
     "library": "var_list.r",
     "varRefreshCmd": "cat(var_dic_list()) "
    }
   },
   "types_to_exclude": [
    "module",
    "function",
    "builtin_function_or_method",
    "instance",
    "_Feature"
   ],
   "window_display": false
  }
 },
 "nbformat": 4,
 "nbformat_minor": 4
}
