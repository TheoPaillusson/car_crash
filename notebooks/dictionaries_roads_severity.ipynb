{
 "cells": [
  {
   "cell_type": "code",
   "execution_count": 2,
   "metadata": {
    "ExecuteTime": {
     "end_time": "2020-12-04T21:41:53.751886Z",
     "start_time": "2020-12-04T21:41:53.747796Z"
    }
   },
   "outputs": [],
   "source": [
    "import pandas as pd\n",
    "import numpy as np\n",
    "import matplotlib.pyplot as plt\n",
    "from sklearn.preprocessing import OneHotEncoder\n",
    "from sklearn.linear_model import LinearRegression\n",
    "from sklearn.pipeline import make_pipeline"
   ]
  },
  {
   "cell_type": "markdown",
   "metadata": {},
   "source": [
    "# Base DataFrame & collision scaling"
   ]
  },
  {
   "cell_type": "code",
   "execution_count": 48,
   "metadata": {
    "ExecuteTime": {
     "end_time": "2020-12-04T22:38:55.800795Z",
     "start_time": "2020-12-04T22:38:54.976342Z"
    },
    "scrolled": true
   },
   "outputs": [
    {
     "data": {
      "text/html": [
       "<div>\n",
       "<style scoped>\n",
       "    .dataframe tbody tr th:only-of-type {\n",
       "        vertical-align: middle;\n",
       "    }\n",
       "\n",
       "    .dataframe tbody tr th {\n",
       "        vertical-align: top;\n",
       "    }\n",
       "\n",
       "    .dataframe thead th {\n",
       "        text-align: right;\n",
       "    }\n",
       "</style>\n",
       "<table border=\"1\" class=\"dataframe\">\n",
       "  <thead>\n",
       "    <tr style=\"text-align: right;\">\n",
       "      <th></th>\n",
       "      <th>collision_severity</th>\n",
       "      <th>hour</th>\n",
       "      <th>day_of_the_week</th>\n",
       "      <th>routes</th>\n",
       "    </tr>\n",
       "  </thead>\n",
       "  <tbody>\n",
       "    <tr>\n",
       "      <th>0</th>\n",
       "      <td>1</td>\n",
       "      <td>10</td>\n",
       "      <td>4</td>\n",
       "      <td>VENTURA FREEWAY</td>\n",
       "    </tr>\n",
       "    <tr>\n",
       "      <th>1</th>\n",
       "      <td>1</td>\n",
       "      <td>6</td>\n",
       "      <td>3</td>\n",
       "      <td>SAN DIEGO FREEWAY</td>\n",
       "    </tr>\n",
       "    <tr>\n",
       "      <th>2</th>\n",
       "      <td>3</td>\n",
       "      <td>6</td>\n",
       "      <td>3</td>\n",
       "      <td>VENTURA FREEWAY</td>\n",
       "    </tr>\n",
       "    <tr>\n",
       "      <th>3</th>\n",
       "      <td>2</td>\n",
       "      <td>6</td>\n",
       "      <td>3</td>\n",
       "      <td>VENTURA FREEWAY</td>\n",
       "    </tr>\n",
       "    <tr>\n",
       "      <th>4</th>\n",
       "      <td>1</td>\n",
       "      <td>14</td>\n",
       "      <td>3</td>\n",
       "      <td>RONALD REAGAN FREEWAY</td>\n",
       "    </tr>\n",
       "    <tr>\n",
       "      <th>...</th>\n",
       "      <td>...</td>\n",
       "      <td>...</td>\n",
       "      <td>...</td>\n",
       "      <td>...</td>\n",
       "    </tr>\n",
       "    <tr>\n",
       "      <th>718658</th>\n",
       "      <td>2</td>\n",
       "      <td>1</td>\n",
       "      <td>3</td>\n",
       "      <td>FOOTHILL FREEWAY</td>\n",
       "    </tr>\n",
       "    <tr>\n",
       "      <th>718659</th>\n",
       "      <td>2</td>\n",
       "      <td>16</td>\n",
       "      <td>0</td>\n",
       "      <td>HINDRY AVENUE</td>\n",
       "    </tr>\n",
       "    <tr>\n",
       "      <th>718660</th>\n",
       "      <td>5</td>\n",
       "      <td>1</td>\n",
       "      <td>6</td>\n",
       "      <td>CHAPMAN AVENUE</td>\n",
       "    </tr>\n",
       "    <tr>\n",
       "      <th>718661</th>\n",
       "      <td>1</td>\n",
       "      <td>4</td>\n",
       "      <td>0</td>\n",
       "      <td>POMONA FREEWAY</td>\n",
       "    </tr>\n",
       "    <tr>\n",
       "      <th>718662</th>\n",
       "      <td>1</td>\n",
       "      <td>20</td>\n",
       "      <td>0</td>\n",
       "      <td>POMONA FREEWAY</td>\n",
       "    </tr>\n",
       "  </tbody>\n",
       "</table>\n",
       "<p>718663 rows × 4 columns</p>\n",
       "</div>"
      ],
      "text/plain": [
       "        collision_severity  hour  day_of_the_week                 routes\n",
       "0                        1    10                4        VENTURA FREEWAY\n",
       "1                        1     6                3      SAN DIEGO FREEWAY\n",
       "2                        3     6                3        VENTURA FREEWAY\n",
       "3                        2     6                3        VENTURA FREEWAY\n",
       "4                        1    14                3  RONALD REAGAN FREEWAY\n",
       "...                    ...   ...              ...                    ...\n",
       "718658                   2     1                3       FOOTHILL FREEWAY\n",
       "718659                   2    16                0          HINDRY AVENUE\n",
       "718660                   5     1                6         CHAPMAN AVENUE\n",
       "718661                   1     4                0         POMONA FREEWAY\n",
       "718662                   1    20                0         POMONA FREEWAY\n",
       "\n",
       "[718663 rows x 4 columns]"
      ]
     },
     "execution_count": 48,
     "metadata": {},
     "output_type": "execute_result"
    }
   ],
   "source": [
    "df = pd.read_csv('../raw_data/clean.csv').drop(columns = ['primary_road','weather_1','latitude','longitude','week_of_the_year','case_id'])\n",
    "df['routes'] = df['routes'].apply(lambda x : x.upper())\n",
    "df"
   ]
  },
  {
   "cell_type": "markdown",
   "metadata": {},
   "source": [
    "### Scaling compris entre 1 et 31"
   ]
  },
  {
   "cell_type": "code",
   "execution_count": 4,
   "metadata": {
    "ExecuteTime": {
     "end_time": "2020-12-04T21:41:55.042416Z",
     "start_time": "2020-12-04T21:41:54.509774Z"
    }
   },
   "outputs": [
    {
     "data": {
      "text/html": [
       "<div>\n",
       "<style scoped>\n",
       "    .dataframe tbody tr th:only-of-type {\n",
       "        vertical-align: middle;\n",
       "    }\n",
       "\n",
       "    .dataframe tbody tr th {\n",
       "        vertical-align: top;\n",
       "    }\n",
       "\n",
       "    .dataframe thead th {\n",
       "        text-align: right;\n",
       "    }\n",
       "</style>\n",
       "<table border=\"1\" class=\"dataframe\">\n",
       "  <thead>\n",
       "    <tr style=\"text-align: right;\">\n",
       "      <th></th>\n",
       "      <th>case_id</th>\n",
       "      <th>collision_severity</th>\n",
       "      <th>hour</th>\n",
       "      <th>day_of_the_week</th>\n",
       "      <th>routes</th>\n",
       "    </tr>\n",
       "  </thead>\n",
       "  <tbody>\n",
       "    <tr>\n",
       "      <th>0</th>\n",
       "      <td>3516974</td>\n",
       "      <td>1</td>\n",
       "      <td>10</td>\n",
       "      <td>4</td>\n",
       "      <td>Ventura Freeway</td>\n",
       "    </tr>\n",
       "    <tr>\n",
       "      <th>1</th>\n",
       "      <td>3522174</td>\n",
       "      <td>1</td>\n",
       "      <td>6</td>\n",
       "      <td>3</td>\n",
       "      <td>San Diego Freeway</td>\n",
       "    </tr>\n",
       "    <tr>\n",
       "      <th>2</th>\n",
       "      <td>3524803</td>\n",
       "      <td>7</td>\n",
       "      <td>6</td>\n",
       "      <td>3</td>\n",
       "      <td>Ventura Freeway</td>\n",
       "    </tr>\n",
       "    <tr>\n",
       "      <th>3</th>\n",
       "      <td>3524807</td>\n",
       "      <td>3</td>\n",
       "      <td>6</td>\n",
       "      <td>3</td>\n",
       "      <td>Ventura Freeway</td>\n",
       "    </tr>\n",
       "    <tr>\n",
       "      <th>4</th>\n",
       "      <td>3524811</td>\n",
       "      <td>1</td>\n",
       "      <td>14</td>\n",
       "      <td>3</td>\n",
       "      <td>Ronald Reagan Freeway</td>\n",
       "    </tr>\n",
       "  </tbody>\n",
       "</table>\n",
       "</div>"
      ],
      "text/plain": [
       "   case_id  collision_severity  hour  day_of_the_week                 routes\n",
       "0  3516974                   1    10                4        Ventura Freeway\n",
       "1  3522174                   1     6                3      San Diego Freeway\n",
       "2  3524803                   7     6                3        Ventura Freeway\n",
       "3  3524807                   3     6                3        Ventura Freeway\n",
       "4  3524811                   1    14                3  Ronald Reagan Freeway"
      ]
     },
     "execution_count": 4,
     "metadata": {},
     "output_type": "execute_result"
    }
   ],
   "source": [
    "def scaling(x):\n",
    "    return 2**x - 1\n",
    "    \n",
    "df.collision_severity = df.collision_severity.apply(scaling)\n",
    "df.collision_severity = df.collision_severity.apply(int)\n",
    "df.head()"
   ]
  },
  {
   "cell_type": "code",
   "execution_count": 30,
   "metadata": {
    "ExecuteTime": {
     "end_time": "2020-12-04T22:07:44.242319Z",
     "start_time": "2020-12-04T22:07:44.098383Z"
    }
   },
   "outputs": [
    {
     "data": {
      "image/png": "[encoded data removed]",
      "text/plain": [
       "<Figure size 432x288 with 1 Axes>"
      ]
     },
     "metadata": {
      "needs_background": "light"
     },
     "output_type": "display_data"
    }
   ],
   "source": [
    "listi = np.arange(1,6,1)\n",
    "scaled = scaling(listi)\n",
    "\n",
    "plt.plot(listi,scaled);"
   ]
  },
  {
   "cell_type": "markdown",
   "metadata": {},
   "source": [
    "# Dispatch roads of a trip into three lists, according to the scenario\n",
    "\n",
    "#### scenario 1 : (road,hour,day) is in [existing_combinations]\n",
    "#### scenario 2 : road not in [roads]\n",
    "#### scenario 3 : if road in [roads], but no data for (hour,day)"
   ]
  },
  {
   "cell_type": "code",
   "execution_count": null,
   "metadata": {},
   "outputs": [],
   "source": [
    "def dispatch_roads(dictionary,dataframe,day,hour):\n",
    "    \"\"\"\n",
    "    From a trip dictionary with roads as keys and distances as values,\n",
    "    dispatches the roads into 3 list according to the scenario\n",
    "    \"\"\"\n",
    "    list_road_day_hour = []\n",
    "    list_no_road = []\n",
    "    list_no_day_hour = []\n",
    "    \n",
    "    for key,value in dictionary.items():\n",
    "        \n",
    "        if key.upper() not in dataframe['routes']unique():\n",
    "            list_no_road.append(key.upper())\n",
    "            \n",
    "        elif len(dataframe[dataframe['routes'] == key.upper() \\\n",
    "                           & (df['day_of_the_week'] == day) & (df['hour'] == hour)]) == 0:\n",
    "            list_no_day_hour.append(key.upper())\n",
    "            \n",
    "        else:\n",
    "            list_road_day_hour.append(key.upper())\n",
    "\n",
    "    return list_road_day_hour, list_no_road, list_no_day_hour"
   ]
  },
  {
   "cell_type": "markdown",
   "metadata": {},
   "source": [
    "# if (road,day,hour) is in [existing_combinations]:\n",
    "\n",
    "#### i.e. si on a de la data pour ce tuple en question"
   ]
  },
  {
   "cell_type": "code",
   "execution_count": 7,
   "metadata": {
    "ExecuteTime": {
     "end_time": "2020-12-04T21:41:59.006621Z",
     "start_time": "2020-12-04T21:41:59.002040Z"
    }
   },
   "outputs": [],
   "source": [
    "def road_day_hour(dataframe,list_roads,day,hour):\n",
    "    \"\"\"\n",
    "    For tuples of (roads,day,hour) we have data on\n",
    "    Returns a dictionnary with roads as keys \n",
    "    and collision severity estimates as values\n",
    "    \"\"\"\n",
    "    dict_predict = {}\n",
    "    \n",
    "    for road in list_roads:\n",
    "        inter = dataframe[(dataframe['routes'] == road) \\\n",
    "                                    & (dataframe['day_of_the_week'] == day) \\\n",
    "                                    & (dataframe['hour'] == hour)]\n",
    "        result = inter['collision_severity'].mean()\n",
    "        dict_predict[road] = result\n",
    "        \n",
    "    return dict_predict"
   ]
  },
  {
   "cell_type": "code",
   "execution_count": 14,
   "metadata": {
    "ExecuteTime": {
     "end_time": "2020-12-04T21:57:47.277570Z",
     "start_time": "2020-12-04T21:57:47.228633Z"
    }
   },
   "outputs": [
    {
     "data": {
      "text/plain": [
       "{'Ventura Freeway': 2.1012658227848102}"
      ]
     },
     "execution_count": 14,
     "metadata": {},
     "output_type": "execute_result"
    }
   ],
   "source": [
    "dict_1 = road_day_hour(df,['Ventura Freeway'],3,17)\n",
    "dict_1"
   ]
  },
  {
   "cell_type": "markdown",
   "metadata": {},
   "source": [
    "# if road not in [roads]\n",
    "\n",
    "#### i.e. si la route renvoyée par l'API est inconnue"
   ]
  },
  {
   "cell_type": "code",
   "execution_count": 9,
   "metadata": {
    "ExecuteTime": {
     "end_time": "2020-12-04T21:41:59.072330Z",
     "start_time": "2020-12-04T21:41:59.068722Z"
    }
   },
   "outputs": [],
   "source": [
    "def road_not_in_roads(dataframe,list_roads,day,hour):\n",
    "    \"\"\"\n",
    "    For roads don't have\n",
    "    Returns a dictionnary with roads as keys \n",
    "    and collision severity estimates as values\n",
    "    \"\"\"\n",
    "    dict_predict = {}\n",
    "    \n",
    "    inter = dataframe[(dataframe['day_of_the_week'] == day) \\\n",
    "                      & (dataframe['hour'] == hour)]\n",
    "    result = inter['collision_severity'].mean()\n",
    "    \n",
    "    for road in list_roads:\n",
    "        dict_predict[road] = result\n",
    "        \n",
    "    return dict_predict"
   ]
  },
  {
   "cell_type": "code",
   "execution_count": 22,
   "metadata": {
    "ExecuteTime": {
     "end_time": "2020-12-04T22:02:33.990329Z",
     "start_time": "2020-12-04T22:02:33.978127Z"
    }
   },
   "outputs": [
    {
     "data": {
      "text/plain": [
       "{'Ronald Reagan Freeway': 2.278575283324339}"
      ]
     },
     "execution_count": 22,
     "metadata": {},
     "output_type": "execute_result"
    }
   ],
   "source": [
    "dict_2 = road_not_in_roads(df,['Ronald Reagan Freeway'],3,17)\n",
    "dict_2"
   ]
  },
  {
   "cell_type": "markdown",
   "metadata": {},
   "source": [
    "# if road in [roads]\n",
    "\n",
    "#### i.e. si on a la route, mais pas de donnée pour le tuple (heure,jour)"
   ]
  },
  {
   "cell_type": "code",
   "execution_count": 11,
   "metadata": {
    "ExecuteTime": {
     "end_time": "2020-12-04T21:41:59.091108Z",
     "start_time": "2020-12-04T21:41:59.086768Z"
    }
   },
   "outputs": [],
   "source": [
    "def no_day_hour(dataframe,list_roads,day,hour):\n",
    "    \"\"\"\n",
    "    For roads we have, for which we don't have data on that date/hour\n",
    "    Returns a dictionnary with roads as keys \n",
    "    and collision severity estimates as values\n",
    "    \"\"\"\n",
    "    inter = dataframe[dataframe['routes'].isin(list_roads)].copy()\n",
    "\n",
    "    X = inter.drop(columns = ['collision_severity'])\n",
    "    y = inter[['collision_severity']]\n",
    "\n",
    "    pipe = make_pipeline(\n",
    "        OneHotEncoder(sparse = False),\n",
    "        LinearRegression()\n",
    "    )\n",
    "\n",
    "    pipe.fit(X, y)\n",
    "    \n",
    "    dict_predict = {}\n",
    "    \n",
    "    for road in list_roads:\n",
    "        X_pred = [[hour,day,road]]\n",
    "        result = pipe.predict(X_pred)\n",
    "        dict_predict[road] = result[0][0]\n",
    "\n",
    "    return dict_predict"
   ]
  },
  {
   "cell_type": "code",
   "execution_count": 16,
   "metadata": {
    "ExecuteTime": {
     "end_time": "2020-12-04T21:58:14.119366Z",
     "start_time": "2020-12-04T21:58:14.062702Z"
    }
   },
   "outputs": [
    {
     "data": {
      "text/plain": [
       "{'Hindry Avenue': 3.1875, 'Dunnet Avenue': 2.875, 'Chapman Avenue': 2.1875}"
      ]
     },
     "execution_count": 16,
     "metadata": {},
     "output_type": "execute_result"
    }
   ],
   "source": [
    "list_roads = ['Hindry Avenue','Dunnet Avenue','Chapman Avenue']\n",
    "\n",
    "dict_3 = no_day_hour(df,list_roads,0,7)\n",
    "dict_3"
   ]
  },
  {
   "cell_type": "markdown",
   "metadata": {},
   "source": [
    "# Concat 3 dictionaries"
   ]
  },
  {
   "cell_type": "code",
   "execution_count": 36,
   "metadata": {
    "ExecuteTime": {
     "end_time": "2020-12-04T22:17:38.467155Z",
     "start_time": "2020-12-04T22:17:38.463501Z"
    }
   },
   "outputs": [],
   "source": [
    "def concat_3_dict(d1,d2,d3):\n",
    "    \"\"\"\n",
    "    Concatenates 3 dictionaries\n",
    "    \"\"\"\n",
    "    d4 = d1.copy()\n",
    "    d4.update(d2)\n",
    "    d4.update(d3)\n",
    "    return d4"
   ]
  },
  {
   "cell_type": "code",
   "execution_count": 37,
   "metadata": {
    "ExecuteTime": {
     "end_time": "2020-12-04T22:17:38.736710Z",
     "start_time": "2020-12-04T22:17:38.730471Z"
    }
   },
   "outputs": [
    {
     "data": {
      "text/plain": [
       "{'Ventura Freeway': 2.1012658227848102,\n",
       " 'Ronald Reagan Freeway': 2.278575283324339,\n",
       " 'Hindry Avenue': 3.1875,\n",
       " 'Dunnet Avenue': 2.875,\n",
       " 'Chapman Avenue': 2.1875}"
      ]
     },
     "execution_count": 37,
     "metadata": {},
     "output_type": "execute_result"
    }
   ],
   "source": [
    "dict_concat = concat_3_dict(dict_1,dict_2,dict_3)\n",
    "dict_concat"
   ]
  },
  {
   "cell_type": "code",
   "execution_count": 39,
   "metadata": {
    "ExecuteTime": {
     "end_time": "2020-12-04T22:17:51.762820Z",
     "start_time": "2020-12-04T22:17:51.756779Z"
    }
   },
   "outputs": [
    {
     "data": {
      "text/plain": [
       "2.1012658227848102"
      ]
     },
     "execution_count": 39,
     "metadata": {},
     "output_type": "execute_result"
    }
   ],
   "source": [
    "dict_concat['Ventura Freeway']"
   ]
  },
  {
   "cell_type": "markdown",
   "metadata": {
    "ExecuteTime": {
     "end_time": "2020-12-04T22:00:46.653665Z",
     "start_time": "2020-12-04T22:00:46.647528Z"
    }
   },
   "source": [
    "# Compute ponderated mean\n",
    "\n",
    "#### i.e. mean collision_severity ponderated by distance "
   ]
  },
  {
   "cell_type": "code",
   "execution_count": 40,
   "metadata": {
    "ExecuteTime": {
     "end_time": "2020-12-04T22:19:58.129839Z",
     "start_time": "2020-12-04T22:19:58.124619Z"
    }
   },
   "outputs": [],
   "source": [
    "def ponderated_mean(d1,d2):\n",
    "    \"\"\"\n",
    "    Takes two dictionaries in argument :\n",
    "    the first one has roads in keys and distance in values,\n",
    "    the second one has roads in keys and collision_severity in values.\n",
    "    Computes the mean of collision_severities ponderated with distances\n",
    "    \"\"\"\n",
    "    mean_danger = 0\n",
    "    sum_dist = 0\n",
    "    \n",
    "    for key,value in d1.items():\n",
    "        mean_danger += d2[key] * value\n",
    "        sum_dist += value\n",
    "        \n",
    "    mean_danger = mean_danger/sum_dist\n",
    "    \n",
    "    return mean_danger"
   ]
  },
  {
   "cell_type": "code",
   "execution_count": 41,
   "metadata": {
    "ExecuteTime": {
     "end_time": "2020-12-04T22:21:21.998704Z",
     "start_time": "2020-12-04T22:21:21.994906Z"
    }
   },
   "outputs": [],
   "source": [
    "dict_trajet = {'Ventura Freeway': 200, 'Ronald Reagan Freeway': 500,\\\n",
    "               'Hindry Avenue': 1300,'Dunnet Avenue': 20,'Chapman Avenue': 180}"
   ]
  },
  {
   "cell_type": "code",
   "execution_count": 42,
   "metadata": {
    "ExecuteTime": {
     "end_time": "2020-12-04T22:21:52.196616Z",
     "start_time": "2020-12-04T22:21:52.191100Z"
    }
   },
   "outputs": [
    {
     "data": {
      "text/plain": [
       "2.7975185482814235"
      ]
     },
     "execution_count": 42,
     "metadata": {},
     "output_type": "execute_result"
    }
   ],
   "source": [
    "ponderated_mean(dict_trajet,dict_concat)"
   ]
  }
 ],
 "metadata": {
  "kernelspec": {
   "display_name": "Python 3",
   "language": "python",
   "name": "python3"
  },
  "language_info": {
   "codemirror_mode": {
    "name": "ipython",
    "version": 3
   },
   "file_extension": ".py",
   "mimetype": "text/x-python",
   "name": "python",
   "nbconvert_exporter": "python",
   "pygments_lexer": "ipython3",
   "version": "3.8.6"
  }
 },
 "nbformat": 4,
 "nbformat_minor": 4
}
