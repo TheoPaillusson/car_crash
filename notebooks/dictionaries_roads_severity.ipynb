{
 "cells": [
  {
   "cell_type": "code",
   "execution_count": 1,
   "metadata": {
    "ExecuteTime": {
     "end_time": "2020-12-05T13:08:10.228230Z",
     "start_time": "2020-12-05T13:08:09.332872Z"
    }
   },
   "outputs": [],
   "source": [
    "import pandas as pd\n",
    "import numpy as np\n",
    "import matplotlib.pyplot as plt\n",
    "from sklearn.preprocessing import OneHotEncoder\n",
    "from sklearn.linear_model import LinearRegression\n",
    "from sklearn.pipeline import Pipeline\n",
    "from sklearn.compose import ColumnTransformer\n",
    "from sklearn.pipeline import make_pipeline"
   ]
  },
  {
   "cell_type": "markdown",
   "metadata": {},
   "source": [
    "# Base DataFrame & collision scaling"
   ]
  },
  {
   "cell_type": "code",
   "execution_count": 2,
   "metadata": {
    "ExecuteTime": {
     "end_time": "2020-12-05T13:08:11.070352Z",
     "start_time": "2020-12-05T13:08:10.231659Z"
    },
    "scrolled": true
   },
   "outputs": [
    {
     "data": {
      "text/html": [
       "<div>\n",
       "<style scoped>\n",
       "    .dataframe tbody tr th:only-of-type {\n",
       "        vertical-align: middle;\n",
       "    }\n",
       "\n",
       "    .dataframe tbody tr th {\n",
       "        vertical-align: top;\n",
       "    }\n",
       "\n",
       "    .dataframe thead th {\n",
       "        text-align: right;\n",
       "    }\n",
       "</style>\n",
       "<table border=\"1\" class=\"dataframe\">\n",
       "  <thead>\n",
       "    <tr style=\"text-align: right;\">\n",
       "      <th></th>\n",
       "      <th>collision_severity</th>\n",
       "      <th>hour</th>\n",
       "      <th>day_of_the_week</th>\n",
       "      <th>routes</th>\n",
       "    </tr>\n",
       "  </thead>\n",
       "  <tbody>\n",
       "    <tr>\n",
       "      <th>0</th>\n",
       "      <td>1</td>\n",
       "      <td>10</td>\n",
       "      <td>4</td>\n",
       "      <td>VENTURA FREEWAY</td>\n",
       "    </tr>\n",
       "    <tr>\n",
       "      <th>1</th>\n",
       "      <td>1</td>\n",
       "      <td>6</td>\n",
       "      <td>3</td>\n",
       "      <td>SAN DIEGO FREEWAY</td>\n",
       "    </tr>\n",
       "    <tr>\n",
       "      <th>2</th>\n",
       "      <td>3</td>\n",
       "      <td>6</td>\n",
       "      <td>3</td>\n",
       "      <td>VENTURA FREEWAY</td>\n",
       "    </tr>\n",
       "    <tr>\n",
       "      <th>3</th>\n",
       "      <td>2</td>\n",
       "      <td>6</td>\n",
       "      <td>3</td>\n",
       "      <td>VENTURA FREEWAY</td>\n",
       "    </tr>\n",
       "    <tr>\n",
       "      <th>4</th>\n",
       "      <td>1</td>\n",
       "      <td>14</td>\n",
       "      <td>3</td>\n",
       "      <td>RONALD REAGAN FREEWAY</td>\n",
       "    </tr>\n",
       "    <tr>\n",
       "      <th>...</th>\n",
       "      <td>...</td>\n",
       "      <td>...</td>\n",
       "      <td>...</td>\n",
       "      <td>...</td>\n",
       "    </tr>\n",
       "    <tr>\n",
       "      <th>718658</th>\n",
       "      <td>2</td>\n",
       "      <td>1</td>\n",
       "      <td>3</td>\n",
       "      <td>FOOTHILL FREEWAY</td>\n",
       "    </tr>\n",
       "    <tr>\n",
       "      <th>718659</th>\n",
       "      <td>2</td>\n",
       "      <td>16</td>\n",
       "      <td>0</td>\n",
       "      <td>HINDRY AVENUE</td>\n",
       "    </tr>\n",
       "    <tr>\n",
       "      <th>718660</th>\n",
       "      <td>5</td>\n",
       "      <td>1</td>\n",
       "      <td>6</td>\n",
       "      <td>CHAPMAN AVENUE</td>\n",
       "    </tr>\n",
       "    <tr>\n",
       "      <th>718661</th>\n",
       "      <td>1</td>\n",
       "      <td>4</td>\n",
       "      <td>0</td>\n",
       "      <td>POMONA FREEWAY</td>\n",
       "    </tr>\n",
       "    <tr>\n",
       "      <th>718662</th>\n",
       "      <td>1</td>\n",
       "      <td>20</td>\n",
       "      <td>0</td>\n",
       "      <td>POMONA FREEWAY</td>\n",
       "    </tr>\n",
       "  </tbody>\n",
       "</table>\n",
       "<p>718663 rows × 4 columns</p>\n",
       "</div>"
      ],
      "text/plain": [
       "        collision_severity  hour  day_of_the_week                 routes\n",
       "0                        1    10                4        VENTURA FREEWAY\n",
       "1                        1     6                3      SAN DIEGO FREEWAY\n",
       "2                        3     6                3        VENTURA FREEWAY\n",
       "3                        2     6                3        VENTURA FREEWAY\n",
       "4                        1    14                3  RONALD REAGAN FREEWAY\n",
       "...                    ...   ...              ...                    ...\n",
       "718658                   2     1                3       FOOTHILL FREEWAY\n",
       "718659                   2    16                0          HINDRY AVENUE\n",
       "718660                   5     1                6         CHAPMAN AVENUE\n",
       "718661                   1     4                0         POMONA FREEWAY\n",
       "718662                   1    20                0         POMONA FREEWAY\n",
       "\n",
       "[718663 rows x 4 columns]"
      ]
     },
     "execution_count": 2,
     "metadata": {},
     "output_type": "execute_result"
    }
   ],
   "source": [
    "df = pd.read_csv('../raw_data/clean.csv').drop(columns = ['primary_road','weather_1','latitude','longitude','week_of_the_year','case_id'])\n",
    "df['routes'] = df['routes'].apply(lambda x : x.upper())\n",
    "df"
   ]
  },
  {
   "cell_type": "code",
   "execution_count": 3,
   "metadata": {
    "ExecuteTime": {
     "end_time": "2020-12-05T13:08:11.199167Z",
     "start_time": "2020-12-05T13:08:11.073595Z"
    }
   },
   "outputs": [
    {
     "data": {
      "text/plain": [
       "SAN DIEGO FREEWAY         57132\n",
       "SAN BERNARDINO FREEWAY    32490\n",
       "FOOTHILL FREEWAY          29319\n",
       "POMONA FREEWAY            29295\n",
       "SANTA ANA FREEWAY         28144\n",
       "                          ...  \n",
       "PASEO DEL REY                 1\n",
       "VAUGHN STREET                 1\n",
       "ALEXANDRIA DRIVE              1\n",
       "ADELANTE AVENUE               1\n",
       "WEST CHESTER ROAD             1\n",
       "Name: routes, Length: 21903, dtype: int64"
      ]
     },
     "execution_count": 3,
     "metadata": {},
     "output_type": "execute_result"
    }
   ],
   "source": [
    "df.routes.value_counts()"
   ]
  },
  {
   "cell_type": "markdown",
   "metadata": {},
   "source": [
    "### Scaling compris entre 1 et 96.65"
   ]
  },
  {
   "cell_type": "code",
   "execution_count": 4,
   "metadata": {
    "ExecuteTime": {
     "end_time": "2020-12-05T13:08:11.568294Z",
     "start_time": "2020-12-05T13:08:11.202778Z"
    }
   },
   "outputs": [
    {
     "data": {
      "text/html": [
       "<div>\n",
       "<style scoped>\n",
       "    .dataframe tbody tr th:only-of-type {\n",
       "        vertical-align: middle;\n",
       "    }\n",
       "\n",
       "    .dataframe tbody tr th {\n",
       "        vertical-align: top;\n",
       "    }\n",
       "\n",
       "    .dataframe thead th {\n",
       "        text-align: right;\n",
       "    }\n",
       "</style>\n",
       "<table border=\"1\" class=\"dataframe\">\n",
       "  <thead>\n",
       "    <tr style=\"text-align: right;\">\n",
       "      <th></th>\n",
       "      <th>collision_severity</th>\n",
       "      <th>hour</th>\n",
       "      <th>day_of_the_week</th>\n",
       "      <th>routes</th>\n",
       "    </tr>\n",
       "  </thead>\n",
       "  <tbody>\n",
       "    <tr>\n",
       "      <th>0</th>\n",
       "      <td>1</td>\n",
       "      <td>10</td>\n",
       "      <td>4</td>\n",
       "      <td>VENTURA FREEWAY</td>\n",
       "    </tr>\n",
       "    <tr>\n",
       "      <th>1</th>\n",
       "      <td>1</td>\n",
       "      <td>6</td>\n",
       "      <td>3</td>\n",
       "      <td>SAN DIEGO FREEWAY</td>\n",
       "    </tr>\n",
       "    <tr>\n",
       "      <th>2</th>\n",
       "      <td>14</td>\n",
       "      <td>6</td>\n",
       "      <td>3</td>\n",
       "      <td>VENTURA FREEWAY</td>\n",
       "    </tr>\n",
       "    <tr>\n",
       "      <th>3</th>\n",
       "      <td>4</td>\n",
       "      <td>6</td>\n",
       "      <td>3</td>\n",
       "      <td>VENTURA FREEWAY</td>\n",
       "    </tr>\n",
       "    <tr>\n",
       "      <th>4</th>\n",
       "      <td>1</td>\n",
       "      <td>14</td>\n",
       "      <td>3</td>\n",
       "      <td>RONALD REAGAN FREEWAY</td>\n",
       "    </tr>\n",
       "  </tbody>\n",
       "</table>\n",
       "</div>"
      ],
      "text/plain": [
       "   collision_severity  hour  day_of_the_week                 routes\n",
       "0                   1    10                4        VENTURA FREEWAY\n",
       "1                   1     6                3      SAN DIEGO FREEWAY\n",
       "2                  14     6                3        VENTURA FREEWAY\n",
       "3                   4     6                3        VENTURA FREEWAY\n",
       "4                   1    14                3  RONALD REAGAN FREEWAY"
      ]
     },
     "execution_count": 4,
     "metadata": {},
     "output_type": "execute_result"
    }
   ],
   "source": [
    "def scaling(x):\n",
    "    return 2.5**x - 1.5\n",
    "    \n",
    "df.collision_severity = df.collision_severity.apply(scaling)\n",
    "df.collision_severity = df.collision_severity.apply(int)\n",
    "df.head()"
   ]
  },
  {
   "cell_type": "code",
   "execution_count": 5,
   "metadata": {
    "ExecuteTime": {
     "end_time": "2020-12-05T13:08:11.713456Z",
     "start_time": "2020-12-05T13:08:11.570619Z"
    }
   },
   "outputs": [
    {
     "data": {
      "image/png": "[encoded data removed]",
      "text/plain": [
       "<Figure size 432x288 with 1 Axes>"
      ]
     },
     "metadata": {
      "needs_background": "light"
     },
     "output_type": "display_data"
    }
   ],
   "source": [
    "listi = np.arange(1,6,1)\n",
    "scaled = scaling(listi)\n",
    "\n",
    "plt.plot(listi,scaled);"
   ]
  },
  {
   "cell_type": "markdown",
   "metadata": {},
   "source": [
    "# Define local variables for day and hour (for test fuctions below)"
   ]
  },
  {
   "cell_type": "code",
   "execution_count": 6,
   "metadata": {
    "ExecuteTime": {
     "end_time": "2020-12-05T13:08:11.718363Z",
     "start_time": "2020-12-05T13:08:11.715839Z"
    }
   },
   "outputs": [],
   "source": [
    "day = 0\n",
    "hour = 7"
   ]
  },
  {
   "cell_type": "markdown",
   "metadata": {},
   "source": [
    "# Dispatch roads of a trip into three lists, according to the scenario\n",
    "\n",
    "#### scenario 1 : (road,hour,day) is in [existing_combinations]\n",
    "#### scenario 2 : road not in [roads]\n",
    "#### scenario 3 : if road in [roads], but no data for (hour,day)"
   ]
  },
  {
   "cell_type": "code",
   "execution_count": 7,
   "metadata": {
    "ExecuteTime": {
     "end_time": "2020-12-05T13:08:11.725386Z",
     "start_time": "2020-12-05T13:08:11.720495Z"
    }
   },
   "outputs": [],
   "source": [
    "def dispatch_roads(dictionary,dataframe,day,hour):\n",
    "    \"\"\"\n",
    "    From a trip dictionary with roads as keys and distances as values,\n",
    "    dispatches the roads into 3 list according to the scenario\n",
    "    \"\"\"\n",
    "    list_road_day_hour = []\n",
    "    list_no_road = []\n",
    "    list_no_day_hour = []\n",
    "    \n",
    "    for key,value in dictionary.items():\n",
    "        \n",
    "        if key.upper() not in dataframe['routes'].unique():\n",
    "            list_no_road.append(key.upper())\n",
    "            \n",
    "        elif len(dataframe[(dataframe['routes'] == key.upper()) \\\n",
    "                           & (dataframe['day_of_the_week'] == day) & (dataframe['hour'] == hour)]) == 0:\n",
    "            list_no_day_hour.append(key.upper())\n",
    "            \n",
    "        else:\n",
    "            list_road_day_hour.append(key.upper())\n",
    "\n",
    "    return list_road_day_hour, list_no_road, list_no_day_hour"
   ]
  },
  {
   "cell_type": "code",
   "execution_count": 8,
   "metadata": {
    "ExecuteTime": {
     "end_time": "2020-12-05T13:08:12.313884Z",
     "start_time": "2020-12-05T13:08:11.729136Z"
    }
   },
   "outputs": [
    {
     "name": "stdout",
     "output_type": "stream",
     "text": [
      "list_road_day_hour = ['VENTURA FREEWAY', 'RONALD REAGAN FREEWAY', 'HINDRY AVENUE', 'CHAPMAN AVENUE']\n",
      "list_no_road = ['BOULEVARD RICHARD LENOIR', 'RUE DE LA SANTÉ']\n",
      "list_no_day_hour = ['DUNNET AVENUE']\n"
     ]
    }
   ],
   "source": [
    "dict_test = {'Ventura Freeway':200,'Ronald Reagan Freeway':500,'Boulevard richard LENOIR':450,\\\n",
    "               'Hindry Avenue':1300,'Dunnet Avenue':20,'Chapman Avenue':180,'Rue de la santé':370}\n",
    "\n",
    "list_road_day_hour, list_no_road, list_no_day_hour = dispatch_roads(dict_test,df,day,hour)\n",
    "print(f'list_road_day_hour = {list_road_day_hour}')\n",
    "print(f'list_no_road = {list_no_road}')\n",
    "print(f'list_no_day_hour = {list_no_day_hour}')"
   ]
  },
  {
   "cell_type": "markdown",
   "metadata": {},
   "source": [
    "# if (road,day,hour) is in [existing_combinations]:\n",
    "\n",
    "#### i.e. si on a de la data pour ce tuple en question"
   ]
  },
  {
   "cell_type": "code",
   "execution_count": 9,
   "metadata": {
    "ExecuteTime": {
     "end_time": "2020-12-05T13:08:12.320613Z",
     "start_time": "2020-12-05T13:08:12.317054Z"
    }
   },
   "outputs": [],
   "source": [
    "def road_day_hour(dataframe,list_roads,day,hour):\n",
    "    \"\"\"\n",
    "    For tuples of (roads,day,hour) we have data on,\n",
    "    returns a dictionnary with roads as keys \n",
    "    and collision severity estimates as values\n",
    "    \"\"\"\n",
    "    dict_predict = {}\n",
    "    \n",
    "    for road in list_roads:\n",
    "        inter = dataframe[(dataframe['routes'] == road) \\\n",
    "                                    & (dataframe['day_of_the_week'] == day) \\\n",
    "                                    & (dataframe['hour'] == hour)]\n",
    "        result = inter['collision_severity'].mean()\n",
    "        dict_predict[road] = result\n",
    "        \n",
    "    return dict_predict"
   ]
  },
  {
   "cell_type": "code",
   "execution_count": 10,
   "metadata": {
    "ExecuteTime": {
     "end_time": "2020-12-05T13:08:12.467993Z",
     "start_time": "2020-12-05T13:08:12.322696Z"
    }
   },
   "outputs": [
    {
     "data": {
      "text/plain": [
       "{'VENTURA FREEWAY': 3.278688524590164,\n",
       " 'RONALD REAGAN FREEWAY': 3.797872340425532,\n",
       " 'HINDRY AVENUE': 1.0,\n",
       " 'CHAPMAN AVENUE': 7.5}"
      ]
     },
     "execution_count": 10,
     "metadata": {},
     "output_type": "execute_result"
    }
   ],
   "source": [
    "dict_1 = road_day_hour(df,list_road_day_hour,day,hour)\n",
    "dict_1"
   ]
  },
  {
   "cell_type": "markdown",
   "metadata": {},
   "source": [
    "# if road not in [roads]\n",
    "\n",
    "#### i.e. si la route renvoyée par l'API est inconnue"
   ]
  },
  {
   "cell_type": "code",
   "execution_count": 11,
   "metadata": {
    "ExecuteTime": {
     "end_time": "2020-12-05T13:08:12.473945Z",
     "start_time": "2020-12-05T13:08:12.470380Z"
    }
   },
   "outputs": [],
   "source": [
    "def road_not_in_roads(dataframe,list_roads,day,hour):\n",
    "    \"\"\"\n",
    "    For roads don't have,\n",
    "    returns a dictionnary with roads as keys \n",
    "    and collision severity estimates as values\n",
    "    \"\"\"\n",
    "    dict_predict = {}\n",
    "    \n",
    "    inter = dataframe[(dataframe['day_of_the_week'] == day) \\\n",
    "                      & (dataframe['hour'] == hour)]\n",
    "    result = inter['collision_severity'].mean()\n",
    "    \n",
    "    for road in list_roads:\n",
    "        dict_predict[road] = result\n",
    "        \n",
    "    return dict_predict"
   ]
  },
  {
   "cell_type": "code",
   "execution_count": 12,
   "metadata": {
    "ExecuteTime": {
     "end_time": "2020-12-05T13:08:12.483782Z",
     "start_time": "2020-12-05T13:08:12.476141Z"
    }
   },
   "outputs": [
    {
     "data": {
      "text/plain": [
       "{'BOULEVARD RICHARD LENOIR': 3.1989739323349973,\n",
       " 'RUE DE LA SANTÉ': 3.1989739323349973}"
      ]
     },
     "execution_count": 12,
     "metadata": {},
     "output_type": "execute_result"
    }
   ],
   "source": [
    "dict_2 = road_not_in_roads(df,list_no_road,day,hour)\n",
    "dict_2"
   ]
  },
  {
   "cell_type": "markdown",
   "metadata": {},
   "source": [
    "# if road in [roads]\n",
    "\n",
    "#### i.e. si on a la route, mais pas de donnée pour le tuple (heure,jour)"
   ]
  },
  {
   "cell_type": "code",
   "execution_count": 13,
   "metadata": {
    "ExecuteTime": {
     "end_time": "2020-12-05T13:08:12.490849Z",
     "start_time": "2020-12-05T13:08:12.485764Z"
    }
   },
   "outputs": [],
   "source": [
    "def no_day_hour(dataframe,list_roads,day,hour):\n",
    "    \"\"\"\n",
    "    For roads we have, for which we don't have data on that date/hour,\n",
    "    returns a dictionnary with roads as keys \n",
    "    and collision severity estimates as values\n",
    "    \"\"\"\n",
    "    inter = dataframe[dataframe['routes'].isin(list_roads)].copy()\n",
    "\n",
    "    X = inter.drop(columns = ['collision_severity'])\n",
    "    y = inter[['collision_severity']]\n",
    "\n",
    "    preprocessor = ColumnTransformer([('road_transformer', OneHotEncoder(sparse = False), ['routes'])])\n",
    "\n",
    "    final_pipe = Pipeline([\n",
    "        ('preprocessing', preprocessor),\n",
    "        ('linear_regression', LinearRegression())])\n",
    "\n",
    "    final_pipe_trained = final_pipe.fit(X,y)\n",
    "    \n",
    "    dict_predict = {}\n",
    "    \n",
    "    for road in list_roads:\n",
    "        X_pred = pd.DataFrame([[hour,day,'DUNNET AVENUE']], columns=['hour','day_of_the_week','routes'])\n",
    "        result = final_pipe_trained.predict(X_pred.iloc[0:2])\n",
    "        dict_predict[road] = result[0][0]\n",
    "\n",
    "    return dict_predict"
   ]
  },
  {
   "cell_type": "code",
   "execution_count": 14,
   "metadata": {
    "ExecuteTime": {
     "end_time": "2020-12-05T13:08:12.525280Z",
     "start_time": "2020-12-05T13:08:12.492721Z"
    }
   },
   "outputs": [
    {
     "data": {
      "text/plain": [
       "{'DUNNET AVENUE': 1.0}"
      ]
     },
     "execution_count": 14,
     "metadata": {},
     "output_type": "execute_result"
    }
   ],
   "source": [
    "dict_3 = no_day_hour(df,list_no_day_hour,day,hour)\n",
    "dict_3"
   ]
  },
  {
   "cell_type": "markdown",
   "metadata": {},
   "source": [
    "# Concat 3 dictionaries"
   ]
  },
  {
   "cell_type": "code",
   "execution_count": 15,
   "metadata": {
    "ExecuteTime": {
     "end_time": "2020-12-05T13:08:12.530411Z",
     "start_time": "2020-12-05T13:08:12.526962Z"
    }
   },
   "outputs": [],
   "source": [
    "def concat_3_dict(d1,d2,d3):\n",
    "    \"\"\"\n",
    "    Concatenates 3 dictionaries\n",
    "    \"\"\"\n",
    "    d4 = d1.copy()\n",
    "    d4.update(d2)\n",
    "    d4.update(d3)\n",
    "    return d4"
   ]
  },
  {
   "cell_type": "code",
   "execution_count": 16,
   "metadata": {
    "ExecuteTime": {
     "end_time": "2020-12-05T13:08:12.536550Z",
     "start_time": "2020-12-05T13:08:12.532177Z"
    }
   },
   "outputs": [
    {
     "data": {
      "text/plain": [
       "{'VENTURA FREEWAY': 3.278688524590164,\n",
       " 'RONALD REAGAN FREEWAY': 3.797872340425532,\n",
       " 'HINDRY AVENUE': 1.0,\n",
       " 'CHAPMAN AVENUE': 7.5,\n",
       " 'BOULEVARD RICHARD LENOIR': 3.1989739323349973,\n",
       " 'RUE DE LA SANTÉ': 3.1989739323349973,\n",
       " 'DUNNET AVENUE': 1.0}"
      ]
     },
     "execution_count": 16,
     "metadata": {},
     "output_type": "execute_result"
    }
   ],
   "source": [
    "dict_concat = concat_3_dict(dict_1,dict_2,dict_3)\n",
    "dict_concat"
   ]
  },
  {
   "cell_type": "markdown",
   "metadata": {
    "ExecuteTime": {
     "end_time": "2020-12-04T22:00:46.653665Z",
     "start_time": "2020-12-04T22:00:46.647528Z"
    }
   },
   "source": [
    "# Compute ponderated mean\n",
    "\n",
    "#### i.e. mean collision_severity ponderated by distance "
   ]
  },
  {
   "cell_type": "code",
   "execution_count": 17,
   "metadata": {
    "ExecuteTime": {
     "end_time": "2020-12-05T13:08:12.543340Z",
     "start_time": "2020-12-05T13:08:12.539628Z"
    }
   },
   "outputs": [],
   "source": [
    "def ponderated_mean(d1,d2):\n",
    "    \"\"\"\n",
    "    Takes two dictionaries in argument :\n",
    "    the first one has roads in keys and distance in values,\n",
    "    the second one has roads in keys and collision_severity in values.\n",
    "    Computes the mean of collision_severities ponderated with distances\n",
    "    \"\"\"\n",
    "    mean_danger = 0\n",
    "    sum_dist = 0\n",
    "    \n",
    "    for key,value in d1.items():\n",
    "        mean_danger += d2[key.upper()] * value\n",
    "        sum_dist += value\n",
    "        \n",
    "    mean_danger = mean_danger/sum_dist\n",
    "    \n",
    "    return mean_danger"
   ]
  },
  {
   "cell_type": "code",
   "execution_count": 18,
   "metadata": {
    "ExecuteTime": {
     "end_time": "2020-12-05T13:08:12.549724Z",
     "start_time": "2020-12-05T13:08:12.545217Z"
    }
   },
   "outputs": [
    {
     "data": {
      "text/plain": [
       "2.598620032995197"
      ]
     },
     "execution_count": 18,
     "metadata": {},
     "output_type": "execute_result"
    }
   ],
   "source": [
    "result_de_la_mort_qui_tue = ponderated_mean(dict_test,dict_concat)\n",
    "result_de_la_mort_qui_tue"
   ]
  }
 ],
 "metadata": {
  "kernelspec": {
   "display_name": "Python 3",
   "language": "python",
   "name": "python3"
  },
  "language_info": {
   "codemirror_mode": {
    "name": "ipython",
    "version": 3
   },
   "file_extension": ".py",
   "mimetype": "text/x-python",
   "name": "python",
   "nbconvert_exporter": "python",
   "pygments_lexer": "ipython3",
   "version": "3.8.6"
  }
 },
 "nbformat": 4,
 "nbformat_minor": 4
}
