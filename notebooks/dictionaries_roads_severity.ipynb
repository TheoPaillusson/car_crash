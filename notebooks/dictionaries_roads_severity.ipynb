{
 "cells": [
  {
   "cell_type": "markdown",
   "metadata": {},
   "source": [
    "# Imports"
   ]
  },
  {
   "cell_type": "code",
   "execution_count": 1,
   "metadata": {
    "ExecuteTime": {
     "end_time": "2020-12-08T15:32:42.446599Z",
     "start_time": "2020-12-08T15:32:40.437187Z"
    }
   },
   "outputs": [],
   "source": [
    "import pandas as pd\n",
    "import numpy as np\n",
    "import matplotlib.pyplot as plt\n",
    "from sklearn.preprocessing import OneHotEncoder\n",
    "from sklearn.linear_model import LinearRegression\n",
    "from sklearn.pipeline import Pipeline\n",
    "from sklearn.compose import ColumnTransformer\n",
    "from sklearn.ensemble import RandomForestRegressor\n",
    "from sklearn.model_selection import cross_validate\n",
    "from sklearn.model_selection import cross_val_score\n",
    "from sklearn.pipeline import make_pipeline\n",
    "from sklearn import preprocessing\n",
    "from sklearn import svm"
   ]
  },
  {
   "cell_type": "markdown",
   "metadata": {},
   "source": [
    "# Base DataFrame & collision scaling"
   ]
  },
  {
   "cell_type": "code",
   "execution_count": 2,
   "metadata": {
    "ExecuteTime": {
     "end_time": "2020-12-08T15:32:43.295084Z",
     "start_time": "2020-12-08T15:32:42.450354Z"
    },
    "scrolled": true
   },
   "outputs": [
    {
     "data": {
      "text/html": [
       "<div>\n",
       "<style scoped>\n",
       "    .dataframe tbody tr th:only-of-type {\n",
       "        vertical-align: middle;\n",
       "    }\n",
       "\n",
       "    .dataframe tbody tr th {\n",
       "        vertical-align: top;\n",
       "    }\n",
       "\n",
       "    .dataframe thead th {\n",
       "        text-align: right;\n",
       "    }\n",
       "</style>\n",
       "<table border=\"1\" class=\"dataframe\">\n",
       "  <thead>\n",
       "    <tr style=\"text-align: right;\">\n",
       "      <th></th>\n",
       "      <th>collision_severity</th>\n",
       "      <th>hour</th>\n",
       "      <th>day_of_the_week</th>\n",
       "      <th>routes</th>\n",
       "    </tr>\n",
       "  </thead>\n",
       "  <tbody>\n",
       "    <tr>\n",
       "      <th>0</th>\n",
       "      <td>1</td>\n",
       "      <td>10</td>\n",
       "      <td>4</td>\n",
       "      <td>VENTURA FREEWAY</td>\n",
       "    </tr>\n",
       "    <tr>\n",
       "      <th>1</th>\n",
       "      <td>1</td>\n",
       "      <td>6</td>\n",
       "      <td>3</td>\n",
       "      <td>SAN DIEGO FREEWAY</td>\n",
       "    </tr>\n",
       "    <tr>\n",
       "      <th>2</th>\n",
       "      <td>3</td>\n",
       "      <td>6</td>\n",
       "      <td>3</td>\n",
       "      <td>VENTURA FREEWAY</td>\n",
       "    </tr>\n",
       "    <tr>\n",
       "      <th>3</th>\n",
       "      <td>2</td>\n",
       "      <td>6</td>\n",
       "      <td>3</td>\n",
       "      <td>VENTURA FREEWAY</td>\n",
       "    </tr>\n",
       "    <tr>\n",
       "      <th>4</th>\n",
       "      <td>1</td>\n",
       "      <td>14</td>\n",
       "      <td>3</td>\n",
       "      <td>RONALD REAGAN FREEWAY</td>\n",
       "    </tr>\n",
       "    <tr>\n",
       "      <th>...</th>\n",
       "      <td>...</td>\n",
       "      <td>...</td>\n",
       "      <td>...</td>\n",
       "      <td>...</td>\n",
       "    </tr>\n",
       "    <tr>\n",
       "      <th>718658</th>\n",
       "      <td>2</td>\n",
       "      <td>1</td>\n",
       "      <td>3</td>\n",
       "      <td>FOOTHILL FREEWAY</td>\n",
       "    </tr>\n",
       "    <tr>\n",
       "      <th>718659</th>\n",
       "      <td>2</td>\n",
       "      <td>16</td>\n",
       "      <td>0</td>\n",
       "      <td>HINDRY AVENUE</td>\n",
       "    </tr>\n",
       "    <tr>\n",
       "      <th>718660</th>\n",
       "      <td>5</td>\n",
       "      <td>1</td>\n",
       "      <td>6</td>\n",
       "      <td>CHAPMAN AVENUE</td>\n",
       "    </tr>\n",
       "    <tr>\n",
       "      <th>718661</th>\n",
       "      <td>1</td>\n",
       "      <td>4</td>\n",
       "      <td>0</td>\n",
       "      <td>POMONA FREEWAY</td>\n",
       "    </tr>\n",
       "    <tr>\n",
       "      <th>718662</th>\n",
       "      <td>1</td>\n",
       "      <td>20</td>\n",
       "      <td>0</td>\n",
       "      <td>POMONA FREEWAY</td>\n",
       "    </tr>\n",
       "  </tbody>\n",
       "</table>\n",
       "<p>718663 rows × 4 columns</p>\n",
       "</div>"
      ],
      "text/plain": [
       "        collision_severity  hour  day_of_the_week                 routes\n",
       "0                        1    10                4        VENTURA FREEWAY\n",
       "1                        1     6                3      SAN DIEGO FREEWAY\n",
       "2                        3     6                3        VENTURA FREEWAY\n",
       "3                        2     6                3        VENTURA FREEWAY\n",
       "4                        1    14                3  RONALD REAGAN FREEWAY\n",
       "...                    ...   ...              ...                    ...\n",
       "718658                   2     1                3       FOOTHILL FREEWAY\n",
       "718659                   2    16                0          HINDRY AVENUE\n",
       "718660                   5     1                6         CHAPMAN AVENUE\n",
       "718661                   1     4                0         POMONA FREEWAY\n",
       "718662                   1    20                0         POMONA FREEWAY\n",
       "\n",
       "[718663 rows x 4 columns]"
      ]
     },
     "execution_count": 2,
     "metadata": {},
     "output_type": "execute_result"
    }
   ],
   "source": [
    "df = pd.read_csv('../raw_data/clean.csv').drop(columns = ['primary_road','weather_1','latitude','longitude','week_of_the_year','case_id'])\n",
    "df['routes'] = df['routes'].apply(lambda x : x.upper())\n",
    "df\n"
   ]
  },
  {
   "cell_type": "code",
   "execution_count": 3,
   "metadata": {
    "ExecuteTime": {
     "end_time": "2020-12-08T15:32:43.424582Z",
     "start_time": "2020-12-08T15:32:43.298234Z"
    }
   },
   "outputs": [
    {
     "data": {
      "text/plain": [
       "HORSETHIEF CANYON ROAD        28\n",
       "KELLA AVENUE                  28\n",
       "SOUTH SPRING STREET           28\n",
       "NORTH VALLEY CENTER AVENUE    28\n",
       "MARIGOLD AVENUE               28\n",
       "                              ..\n",
       "SLAUGHTER ROAD                 1\n",
       "NORTH DEERPARK DRIVE           1\n",
       "SHERBORN STREET                1\n",
       "GOLDEN PRADOS DRIVE            1\n",
       "NORTH FERN STREET              1\n",
       "Name: routes, Length: 20000, dtype: int64"
      ]
     },
     "execution_count": 3,
     "metadata": {},
     "output_type": "execute_result"
    }
   ],
   "source": [
    "df['routes'].value_counts().tail(20000)"
   ]
  },
  {
   "cell_type": "markdown",
   "metadata": {},
   "source": [
    "### Scaling compris entre 1 et 100"
   ]
  },
  {
   "cell_type": "code",
   "execution_count": 4,
   "metadata": {
    "ExecuteTime": {
     "end_time": "2020-12-08T15:32:43.758544Z",
     "start_time": "2020-12-08T15:32:43.427162Z"
    }
   },
   "outputs": [
    {
     "data": {
      "text/html": [
       "<div>\n",
       "<style scoped>\n",
       "    .dataframe tbody tr th:only-of-type {\n",
       "        vertical-align: middle;\n",
       "    }\n",
       "\n",
       "    .dataframe tbody tr th {\n",
       "        vertical-align: top;\n",
       "    }\n",
       "\n",
       "    .dataframe thead th {\n",
       "        text-align: right;\n",
       "    }\n",
       "</style>\n",
       "<table border=\"1\" class=\"dataframe\">\n",
       "  <thead>\n",
       "    <tr style=\"text-align: right;\">\n",
       "      <th></th>\n",
       "      <th>collision_severity</th>\n",
       "      <th>hour</th>\n",
       "      <th>day_of_the_week</th>\n",
       "      <th>routes</th>\n",
       "    </tr>\n",
       "  </thead>\n",
       "  <tbody>\n",
       "    <tr>\n",
       "      <th>0</th>\n",
       "      <td>1</td>\n",
       "      <td>10</td>\n",
       "      <td>4</td>\n",
       "      <td>VENTURA FREEWAY</td>\n",
       "    </tr>\n",
       "    <tr>\n",
       "      <th>1</th>\n",
       "      <td>1</td>\n",
       "      <td>6</td>\n",
       "      <td>3</td>\n",
       "      <td>SAN DIEGO FREEWAY</td>\n",
       "    </tr>\n",
       "    <tr>\n",
       "      <th>2</th>\n",
       "      <td>14</td>\n",
       "      <td>6</td>\n",
       "      <td>3</td>\n",
       "      <td>VENTURA FREEWAY</td>\n",
       "    </tr>\n",
       "    <tr>\n",
       "      <th>3</th>\n",
       "      <td>5</td>\n",
       "      <td>6</td>\n",
       "      <td>3</td>\n",
       "      <td>VENTURA FREEWAY</td>\n",
       "    </tr>\n",
       "    <tr>\n",
       "      <th>4</th>\n",
       "      <td>1</td>\n",
       "      <td>14</td>\n",
       "      <td>3</td>\n",
       "      <td>RONALD REAGAN FREEWAY</td>\n",
       "    </tr>\n",
       "  </tbody>\n",
       "</table>\n",
       "</div>"
      ],
      "text/plain": [
       "   collision_severity  hour  day_of_the_week                 routes\n",
       "0                   1    10                4        VENTURA FREEWAY\n",
       "1                   1     6                3      SAN DIEGO FREEWAY\n",
       "2                  14     6                3        VENTURA FREEWAY\n",
       "3                   5     6                3        VENTURA FREEWAY\n",
       "4                   1    14                3  RONALD REAGAN FREEWAY"
      ]
     },
     "execution_count": 4,
     "metadata": {},
     "output_type": "execute_result"
    }
   ],
   "source": [
    "def scaling(x):\n",
    "    return round(2.5195**x - 1.5195)\n",
    "    \n",
    "df.collision_severity = df.collision_severity.apply(scaling)\n",
    "df.head()"
   ]
  },
  {
   "cell_type": "code",
   "execution_count": 5,
   "metadata": {
    "ExecuteTime": {
     "end_time": "2020-12-08T15:32:43.921451Z",
     "start_time": "2020-12-08T15:32:43.760891Z"
    }
   },
   "outputs": [
    {
     "name": "stdout",
     "output_type": "stream",
     "text": [
      "100\n"
     ]
    },
    {
     "data": {
      "image/png": "[encoded data removed]",
      "text/plain": [
       "<Figure size 432x288 with 1 Axes>"
      ]
     },
     "metadata": {
      "needs_background": "light"
     },
     "output_type": "display_data"
    }
   ],
   "source": [
    "listi = np.arange(1,6,1)\n",
    "scaled = []\n",
    "for i in listi:\n",
    "    scaled.append(scaling(i))\n",
    "print(int(2.5195**5 - 1.5195))\n",
    "plt.plot(listi,scaled);"
   ]
  },
  {
   "cell_type": "markdown",
   "metadata": {},
   "source": [
    "# Define local variables for day and hour (for test fuctions below)"
   ]
  },
  {
   "cell_type": "code",
   "execution_count": 6,
   "metadata": {
    "ExecuteTime": {
     "end_time": "2020-12-08T15:32:43.926207Z",
     "start_time": "2020-12-08T15:32:43.923639Z"
    }
   },
   "outputs": [],
   "source": [
    "day = 2\n",
    "hour = 13"
   ]
  },
  {
   "cell_type": "markdown",
   "metadata": {},
   "source": [
    "# Dispatch roads of a trip into three lists, according to the scenario\n",
    "\n",
    "#### scenario 1 : (road,hour,day) is in [existing_combinations]\n",
    "#### scenario 2 : road not in [roads]\n",
    "#### scenario 3 : if road in [roads], but no data for (hour,day)"
   ]
  },
  {
   "cell_type": "code",
   "execution_count": 7,
   "metadata": {
    "ExecuteTime": {
     "end_time": "2020-12-08T15:32:43.933128Z",
     "start_time": "2020-12-08T15:32:43.928655Z"
    }
   },
   "outputs": [],
   "source": [
    "def dispatch_roads(dictionary,dataframe,day,hour):\n",
    "    \"\"\"\n",
    "    From a trip dictionary with roads as keys and distances as values,\n",
    "    dispatches the roads into 3 lists according to the scenario\n",
    "    \"\"\"\n",
    "    list_road_day_hour = []\n",
    "    list_no_road = []\n",
    "    list_no_day_hour = []\n",
    "    \n",
    "    for key,value in dictionary.items():\n",
    "        \n",
    "        if key.upper() not in dataframe['routes'].unique():\n",
    "            list_no_road.append(key.upper())\n",
    "            \n",
    "        elif len(dataframe[(dataframe['routes'] == key.upper()) \\\n",
    "                           & (dataframe['day_of_the_week'] == day) & (dataframe['hour'] == hour)]) == 0:\n",
    "            list_no_day_hour.append(key.upper())\n",
    "            \n",
    "        else:\n",
    "            list_road_day_hour.append(key.upper())\n",
    "\n",
    "    return list_road_day_hour, list_no_road, list_no_day_hour"
   ]
  },
  {
   "cell_type": "code",
   "execution_count": 8,
   "metadata": {
    "ExecuteTime": {
     "end_time": "2020-12-08T15:32:45.038473Z",
     "start_time": "2020-12-08T15:32:43.937199Z"
    }
   },
   "outputs": [
    {
     "name": "stdout",
     "output_type": "stream",
     "text": [
      "list_road_day_hour = ['VENTURA FREEWAY', 'RONALD REAGAN FREEWAY', 'HINDRY AVENUE', 'CHAPMAN AVENUE', 'ROSEMEAD BOULEVARD', 'ATLANTIC BOULEVARD', 'GRAND AVENUE']\n",
      "list_no_road = ['BOULEVARD RICHARD LENOIR', 'RUE DE LA SANTÉ', '']\n",
      "list_no_day_hour = ['DUNNET AVENUE', 'MARIGOLD AVENUE', 'MILDRED STREET']\n"
     ]
    }
   ],
   "source": [
    "dict_test = {'Ventura Freeway':200,'Ronald Reagan Freeway':500,'Boulevard richard LENOIR':450,\\\n",
    "             'Hindry Avenue':1300,'Dunnet Avenue':20,'Chapman Avenue':180,'Rue de la santé':370,'':300,\\\n",
    "             'ROSEMEAD BOULEVARD':427, 'ATLANTIC BOULEVARD':790,'GRAND AVENUE':457,'MARIGOLD AVENUE':1032,\\\n",
    "             'MILDRED STREET':123\n",
    "            }\n",
    "\n",
    "list_road_day_hour, list_no_road, list_no_day_hour = dispatch_roads(dict_test,df,day,hour)\n",
    "print(f'list_road_day_hour = {list_road_day_hour}')\n",
    "print(f'list_no_road = {list_no_road}')\n",
    "print(f'list_no_day_hour = {list_no_day_hour}')"
   ]
  },
  {
   "cell_type": "markdown",
   "metadata": {},
   "source": [
    "# if (road,day,hour) is in [existing_combinations]:\n",
    "\n",
    "#### i.e. si on a de la data pour ce tuple en question"
   ]
  },
  {
   "cell_type": "code",
   "execution_count": 9,
   "metadata": {
    "ExecuteTime": {
     "end_time": "2020-12-08T15:32:45.046170Z",
     "start_time": "2020-12-08T15:32:45.042557Z"
    }
   },
   "outputs": [],
   "source": [
    "def road_day_hour(dataframe,list_roads,day,hour):\n",
    "    \"\"\"\n",
    "    For tuples of (roads,day,hour) we have data on,\n",
    "    returns a dictionnary with roads as keys \n",
    "    and collision severity estimates as values\n",
    "    \"\"\"\n",
    "    dict_predict = {}\n",
    "    \n",
    "    for road in list_roads:\n",
    "        inter = dataframe[(dataframe['routes'] == road) \\\n",
    "                                    & (dataframe['day_of_the_week'] == day) \\\n",
    "                                    & (dataframe['hour'] == hour)]\n",
    "        result = inter['collision_severity'].mean()\n",
    "        dict_predict[road] = result\n",
    "        \n",
    "    return dict_predict"
   ]
  },
  {
   "cell_type": "code",
   "execution_count": 10,
   "metadata": {
    "ExecuteTime": {
     "end_time": "2020-12-08T15:32:45.314015Z",
     "start_time": "2020-12-08T15:32:45.048931Z"
    }
   },
   "outputs": [
    {
     "data": {
      "text/plain": [
       "{'VENTURA FREEWAY': 2.987012987012987,\n",
       " 'RONALD REAGAN FREEWAY': 4.931034482758621,\n",
       " 'HINDRY AVENUE': 3.0,\n",
       " 'CHAPMAN AVENUE': 1.0,\n",
       " 'ROSEMEAD BOULEVARD': 13.928571428571429,\n",
       " 'ATLANTIC BOULEVARD': 2.7142857142857144,\n",
       " 'GRAND AVENUE': 3.5}"
      ]
     },
     "execution_count": 10,
     "metadata": {},
     "output_type": "execute_result"
    }
   ],
   "source": [
    "dict_1 = road_day_hour(df,list_road_day_hour,day,hour)\n",
    "dict_1"
   ]
  },
  {
   "cell_type": "code",
   "execution_count": 11,
   "metadata": {
    "ExecuteTime": {
     "end_time": "2020-12-08T15:32:45.361910Z",
     "start_time": "2020-12-08T15:32:45.315880Z"
    }
   },
   "outputs": [
    {
     "data": {
      "text/html": [
       "<div>\n",
       "<style scoped>\n",
       "    .dataframe tbody tr th:only-of-type {\n",
       "        vertical-align: middle;\n",
       "    }\n",
       "\n",
       "    .dataframe tbody tr th {\n",
       "        vertical-align: top;\n",
       "    }\n",
       "\n",
       "    .dataframe thead th {\n",
       "        text-align: right;\n",
       "    }\n",
       "</style>\n",
       "<table border=\"1\" class=\"dataframe\">\n",
       "  <thead>\n",
       "    <tr style=\"text-align: right;\">\n",
       "      <th></th>\n",
       "      <th>collision_severity</th>\n",
       "      <th>hour</th>\n",
       "      <th>day_of_the_week</th>\n",
       "      <th>routes</th>\n",
       "    </tr>\n",
       "  </thead>\n",
       "  <tbody>\n",
       "    <tr>\n",
       "      <th>512173</th>\n",
       "      <td>1</td>\n",
       "      <td>13</td>\n",
       "      <td>2</td>\n",
       "      <td>CHAPMAN AVENUE</td>\n",
       "    </tr>\n",
       "  </tbody>\n",
       "</table>\n",
       "</div>"
      ],
      "text/plain": [
       "        collision_severity  hour  day_of_the_week          routes\n",
       "512173                   1    13                2  CHAPMAN AVENUE"
      ]
     },
     "execution_count": 11,
     "metadata": {},
     "output_type": "execute_result"
    }
   ],
   "source": [
    "df[(df['routes'] == 'CHAPMAN AVENUE') & (df['day_of_the_week'] == 2) & (df['hour'] == 13)]"
   ]
  },
  {
   "cell_type": "markdown",
   "metadata": {},
   "source": [
    "# if road not in [roads]\n",
    "\n",
    "#### i.e. si la route renvoyée par l'API est inconnue"
   ]
  },
  {
   "cell_type": "code",
   "execution_count": 12,
   "metadata": {
    "ExecuteTime": {
     "end_time": "2020-12-08T15:32:45.368253Z",
     "start_time": "2020-12-08T15:32:45.364800Z"
    }
   },
   "outputs": [],
   "source": [
    "def road_not_in_roads(dataframe,list_roads,day,hour):\n",
    "    \"\"\"\n",
    "    For roads don't have,\n",
    "    returns a dictionnary with roads as keys \n",
    "    and collision severity estimates as values\n",
    "    \"\"\"\n",
    "    dict_predict = {}\n",
    "    \n",
    "    inter = dataframe[(dataframe['day_of_the_week'] == day) \\\n",
    "                      & (dataframe['hour'] == hour)]\n",
    "    result = inter['collision_severity'].mean()\n",
    "    \n",
    "    for road in list_roads:\n",
    "        dict_predict[road] = result\n",
    "        \n",
    "    return dict_predict"
   ]
  },
  {
   "cell_type": "code",
   "execution_count": 13,
   "metadata": {
    "ExecuteTime": {
     "end_time": "2020-12-08T15:32:45.377011Z",
     "start_time": "2020-12-08T15:32:45.370185Z"
    }
   },
   "outputs": [
    {
     "data": {
      "text/plain": [
       "{'BOULEVARD RICHARD LENOIR': 3.8152610441767068,\n",
       " 'RUE DE LA SANTÉ': 3.8152610441767068,\n",
       " '': 3.8152610441767068}"
      ]
     },
     "execution_count": 13,
     "metadata": {},
     "output_type": "execute_result"
    }
   ],
   "source": [
    "dict_2 = road_not_in_roads(df,list_no_road,day,hour)\n",
    "dict_2"
   ]
  },
  {
   "cell_type": "markdown",
   "metadata": {},
   "source": [
    "# if road in [roads]\n",
    "\n",
    "#### i.e. si on a la route, mais pas de donnée pour le tuple (heure,jour)"
   ]
  },
  {
   "cell_type": "code",
   "execution_count": 14,
   "metadata": {
    "ExecuteTime": {
     "end_time": "2020-12-08T15:32:45.385176Z",
     "start_time": "2020-12-08T15:32:45.379191Z"
    }
   },
   "outputs": [],
   "source": [
    "def no_day_hour(dataframe,list_roads,day,hour):\n",
    "    \"\"\"\n",
    "    For roads we have, for which we don't have data on that date/hour,\n",
    "    returns a dictionnary with roads as keys \n",
    "    and collision severity estimates as values\n",
    "    \"\"\"\n",
    "    inter = df[df['routes'].isin(list_roads)].copy()\n",
    "\n",
    "    X = inter.drop(columns = ['collision_severity'])\n",
    "    y = inter['collision_severity']\n",
    "\n",
    "    preprocessor = ColumnTransformer([('road_transformer', OneHotEncoder(sparse = False), ['routes'])])\n",
    "    \n",
    "    forest = RandomForestRegressor(n_estimators=100, n_jobs = -1)\n",
    "    \n",
    "    final_pipe = Pipeline([\n",
    "        ('preprocessing', preprocessor),\n",
    "        ('linear_regression', forest)])\n",
    "\n",
    "    final_pipe_trained = final_pipe.fit(X,y)\n",
    "\n",
    "    dict_predict = {}\n",
    "\n",
    "    for road in list_roads: \n",
    "        X_pred = pd.DataFrame([[hour,day,road]], columns=['hour','day_of_the_week','routes'])\n",
    "        result = final_pipe_trained.predict(X_pred)\n",
    "        dict_predict[road] = result[0]\n",
    "\n",
    "    return dict_predict"
   ]
  },
  {
   "cell_type": "code",
   "execution_count": 15,
   "metadata": {
    "ExecuteTime": {
     "end_time": "2020-12-08T15:32:45.609749Z",
     "start_time": "2020-12-08T15:32:45.387615Z"
    }
   },
   "outputs": [
    {
     "data": {
      "text/plain": [
       "{'DUNNET AVENUE': 2.1000168593363155,\n",
       " 'MARIGOLD AVENUE': 3.4276345269532174,\n",
       " 'MILDRED STREET': 4.740185003503834}"
      ]
     },
     "execution_count": 15,
     "metadata": {},
     "output_type": "execute_result"
    }
   ],
   "source": [
    "dict_3 = no_day_hour(df,list_no_day_hour,day,hour)\n",
    "dict_3"
   ]
  },
  {
   "cell_type": "markdown",
   "metadata": {},
   "source": [
    "# Concat 3 dictionaries"
   ]
  },
  {
   "cell_type": "code",
   "execution_count": 16,
   "metadata": {
    "ExecuteTime": {
     "end_time": "2020-12-08T15:32:45.615309Z",
     "start_time": "2020-12-08T15:32:45.611968Z"
    }
   },
   "outputs": [],
   "source": [
    "def concat_3_dict(d1,d2,d3):\n",
    "    \"\"\"\n",
    "    Concatenates 3 dictionaries\n",
    "    \"\"\"\n",
    "    d4 = d1.copy()\n",
    "    d4.update(d2)\n",
    "    d4.update(d3)\n",
    "    return d4"
   ]
  },
  {
   "cell_type": "code",
   "execution_count": 17,
   "metadata": {
    "ExecuteTime": {
     "end_time": "2020-12-08T15:32:45.621163Z",
     "start_time": "2020-12-08T15:32:45.617233Z"
    }
   },
   "outputs": [
    {
     "data": {
      "text/plain": [
       "{'VENTURA FREEWAY': 2.987012987012987,\n",
       " 'RONALD REAGAN FREEWAY': 4.931034482758621,\n",
       " 'HINDRY AVENUE': 3.0,\n",
       " 'CHAPMAN AVENUE': 1.0,\n",
       " 'ROSEMEAD BOULEVARD': 13.928571428571429,\n",
       " 'ATLANTIC BOULEVARD': 2.7142857142857144,\n",
       " 'GRAND AVENUE': 3.5,\n",
       " 'BOULEVARD RICHARD LENOIR': 3.8152610441767068,\n",
       " 'RUE DE LA SANTÉ': 3.8152610441767068,\n",
       " '': 3.8152610441767068,\n",
       " 'DUNNET AVENUE': 2.1000168593363155,\n",
       " 'MARIGOLD AVENUE': 3.4276345269532174,\n",
       " 'MILDRED STREET': 4.740185003503834}"
      ]
     },
     "execution_count": 17,
     "metadata": {},
     "output_type": "execute_result"
    }
   ],
   "source": [
    "dict_concat = concat_3_dict(dict_1,dict_2,dict_3)\n",
    "dict_concat"
   ]
  },
  {
   "cell_type": "markdown",
   "metadata": {
    "ExecuteTime": {
     "end_time": "2020-12-04T22:00:46.653665Z",
     "start_time": "2020-12-04T22:00:46.647528Z"
    }
   },
   "source": [
    "# Compute ponderated mean\n",
    "\n",
    "#### i.e. mean collision_severity ponderated by distance "
   ]
  },
  {
   "cell_type": "code",
   "execution_count": 18,
   "metadata": {
    "ExecuteTime": {
     "end_time": "2020-12-08T15:32:45.627023Z",
     "start_time": "2020-12-08T15:32:45.623443Z"
    }
   },
   "outputs": [],
   "source": [
    "def ponderated_mean(d1,d2):\n",
    "    \"\"\"\n",
    "    Takes two dictionaries in argument :\n",
    "    the first one has roads in keys and distance in values,\n",
    "    the second one has roads in keys and collision_severity in values.\n",
    "    Computes the mean of collision_severities ponderated with distances\n",
    "    \"\"\"\n",
    "    mean_danger = 0\n",
    "    sum_dist = 0\n",
    "    \n",
    "    for key,value in d1.items():\n",
    "        mean_danger += d2[key.upper()] * value\n",
    "        sum_dist += value\n",
    "        \n",
    "    mean_danger = mean_danger/sum_dist\n",
    "    \n",
    "    return mean_danger"
   ]
  },
  {
   "cell_type": "code",
   "execution_count": 19,
   "metadata": {
    "ExecuteTime": {
     "end_time": "2020-12-08T15:32:45.632155Z",
     "start_time": "2020-12-08T15:32:45.629218Z"
    }
   },
   "outputs": [
    {
     "name": "stdout",
     "output_type": "stream",
     "text": [
      "Dict of the trip : {'Ventura Freeway': 200, 'Ronald Reagan Freeway': 500, 'Boulevard richard LENOIR': 450, 'Hindry Avenue': 1300, 'Dunnet Avenue': 20, 'Chapman Avenue': 180, 'Rue de la santé': 370, '': 300, 'ROSEMEAD BOULEVARD': 427, 'ATLANTIC BOULEVARD': 790, 'GRAND AVENUE': 457, 'MARIGOLD AVENUE': 1032, 'MILDRED STREET': 123}\n",
      " \n",
      "Dict of the collision severities : {'VENTURA FREEWAY': 2.987012987012987, 'RONALD REAGAN FREEWAY': 4.931034482758621, 'HINDRY AVENUE': 3.0, 'CHAPMAN AVENUE': 1.0, 'ROSEMEAD BOULEVARD': 13.928571428571429, 'ATLANTIC BOULEVARD': 2.7142857142857144, 'GRAND AVENUE': 3.5, 'BOULEVARD RICHARD LENOIR': 3.8152610441767068, 'RUE DE LA SANTÉ': 3.8152610441767068, '': 3.8152610441767068, 'DUNNET AVENUE': 2.1000168593363155, 'MARIGOLD AVENUE': 3.4276345269532174, 'MILDRED STREET': 4.740185003503834}\n"
     ]
    }
   ],
   "source": [
    "print(f'Dict of the trip : {dict_test}')\n",
    "print(' ')\n",
    "print(f'Dict of the collision severities : {dict_concat}')"
   ]
  },
  {
   "cell_type": "markdown",
   "metadata": {},
   "source": [
    "Be careful, the roads will not be in the same order in each dictionary. One way to get the collision severities in the same order as the trip could be to update the values of the first dictionary with the values of the second dictionary. That way, the order is the same"
   ]
  },
  {
   "cell_type": "code",
   "execution_count": 20,
   "metadata": {
    "ExecuteTime": {
     "end_time": "2020-12-08T15:32:45.639988Z",
     "start_time": "2020-12-08T15:32:45.634914Z"
    }
   },
   "outputs": [
    {
     "data": {
      "text/plain": [
       "4.109556000484461"
      ]
     },
     "execution_count": 20,
     "metadata": {},
     "output_type": "execute_result"
    }
   ],
   "source": [
    "result_de_la_mort_qui_tue = ponderated_mean(dict_test,dict_concat)\n",
    "result_de_la_mort_qui_tue"
   ]
  },
  {
   "cell_type": "markdown",
   "metadata": {},
   "source": [
    "# Test cross_val sur RandomForest()"
   ]
  },
  {
   "cell_type": "code",
   "execution_count": 21,
   "metadata": {
    "ExecuteTime": {
     "end_time": "2020-12-08T15:32:45.644236Z",
     "start_time": "2020-12-08T15:32:45.642013Z"
    }
   },
   "outputs": [],
   "source": [
    "list_no_day_hour = ['MARIGOLD AVENUE', 'MILDRED STREET']"
   ]
  },
  {
   "cell_type": "code",
   "execution_count": 22,
   "metadata": {
    "ExecuteTime": {
     "end_time": "2020-12-08T15:32:50.447249Z",
     "start_time": "2020-12-08T15:32:45.646749Z"
    }
   },
   "outputs": [
    {
     "data": {
      "text/plain": [
       "array([ 0.00084219,  0.00336273,  0.00688044, -0.00785981,  0.0090829 ,\n",
       "        0.00876739,  0.00929702,  0.00433623,  0.01276124,  0.00580069])"
      ]
     },
     "execution_count": 22,
     "metadata": {},
     "output_type": "execute_result"
    }
   ],
   "source": [
    "inter = df[df['routes'].isin(list_road_day_hour)].copy()\n",
    "\n",
    "X = inter.drop(columns = ['collision_severity'])\n",
    "y = inter['collision_severity']\n",
    "\n",
    "preprocessor = ColumnTransformer([('road_transformer', OneHotEncoder(sparse = False), ['routes'])])\n",
    "    \n",
    "forest = RandomForestRegressor(n_estimators=100, n_jobs = -1)\n",
    "\n",
    "final_pipe = Pipeline([\n",
    "    ('preprocessing', preprocessor),\n",
    "    ('linear_regression', forest)])\n",
    "  \n",
    "final_pipe_trained = final_pipe.fit(X,y)\n",
    "\n",
    "cv_results = cross_val_score(final_pipe, X, y, cv=10, scoring = \"r2\")\n",
    "    \n",
    "cv_results\n",
    "\n"
   ]
  }
 ],
 "metadata": {
  "kernelspec": {
   "display_name": "Python 3",
   "language": "python",
   "name": "python3"
  },
  "language_info": {
   "codemirror_mode": {
    "name": "ipython",
    "version": 3
   },
   "file_extension": ".py",
   "mimetype": "text/x-python",
   "name": "python",
   "nbconvert_exporter": "python",
   "pygments_lexer": "ipython3",
   "version": "3.8.6"
  }
 },
 "nbformat": 4,
 "nbformat_minor": 4
}
