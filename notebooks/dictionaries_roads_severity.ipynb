{
 "cells": [
  {
   "cell_type": "code",
   "execution_count": 2,
   "metadata": {
    "ExecuteTime": {
     "end_time": "2020-12-04T21:41:53.751886Z",
     "start_time": "2020-12-04T21:41:53.747796Z"
    }
   },
   "outputs": [],
   "source": [
    "import pandas as pd\n",
    "import numpy as np\n",
    "import matplotlib.pyplot as plt\n",
    "from sklearn.preprocessing import OneHotEncoder\n",
    "from sklearn.linear_model import LinearRegression\n",
    "from sklearn.pipeline import make_pipeline"
   ]
  },
  {
   "cell_type": "markdown",
   "metadata": {},
   "source": [
    "# Base DataFrame & collision scaling"
   ]
  },
  {
   "cell_type": "code",
   "execution_count": 3,
   "metadata": {
    "ExecuteTime": {
     "end_time": "2020-12-04T21:41:54.506869Z",
     "start_time": "2020-12-04T21:41:53.756375Z"
    },
    "scrolled": false
   },
   "outputs": [
    {
     "data": {
      "text/html": [
       "<div>\n",
       "<style scoped>\n",
       "    .dataframe tbody tr th:only-of-type {\n",
       "        vertical-align: middle;\n",
       "    }\n",
       "\n",
       "    .dataframe tbody tr th {\n",
       "        vertical-align: top;\n",
       "    }\n",
       "\n",
       "    .dataframe thead th {\n",
       "        text-align: right;\n",
       "    }\n",
       "</style>\n",
       "<table border=\"1\" class=\"dataframe\">\n",
       "  <thead>\n",
       "    <tr style=\"text-align: right;\">\n",
       "      <th></th>\n",
       "      <th>case_id</th>\n",
       "      <th>collision_severity</th>\n",
       "      <th>hour</th>\n",
       "      <th>day_of_the_week</th>\n",
       "      <th>routes</th>\n",
       "    </tr>\n",
       "  </thead>\n",
       "  <tbody>\n",
       "    <tr>\n",
       "      <th>0</th>\n",
       "      <td>3516974</td>\n",
       "      <td>1</td>\n",
       "      <td>10</td>\n",
       "      <td>4</td>\n",
       "      <td>Ventura Freeway</td>\n",
       "    </tr>\n",
       "    <tr>\n",
       "      <th>1</th>\n",
       "      <td>3522174</td>\n",
       "      <td>1</td>\n",
       "      <td>6</td>\n",
       "      <td>3</td>\n",
       "      <td>San Diego Freeway</td>\n",
       "    </tr>\n",
       "    <tr>\n",
       "      <th>2</th>\n",
       "      <td>3524803</td>\n",
       "      <td>3</td>\n",
       "      <td>6</td>\n",
       "      <td>3</td>\n",
       "      <td>Ventura Freeway</td>\n",
       "    </tr>\n",
       "    <tr>\n",
       "      <th>3</th>\n",
       "      <td>3524807</td>\n",
       "      <td>2</td>\n",
       "      <td>6</td>\n",
       "      <td>3</td>\n",
       "      <td>Ventura Freeway</td>\n",
       "    </tr>\n",
       "    <tr>\n",
       "      <th>4</th>\n",
       "      <td>3524811</td>\n",
       "      <td>1</td>\n",
       "      <td>14</td>\n",
       "      <td>3</td>\n",
       "      <td>Ronald Reagan Freeway</td>\n",
       "    </tr>\n",
       "    <tr>\n",
       "      <th>...</th>\n",
       "      <td>...</td>\n",
       "      <td>...</td>\n",
       "      <td>...</td>\n",
       "      <td>...</td>\n",
       "      <td>...</td>\n",
       "    </tr>\n",
       "    <tr>\n",
       "      <th>718658</th>\n",
       "      <td>8078566</td>\n",
       "      <td>2</td>\n",
       "      <td>1</td>\n",
       "      <td>3</td>\n",
       "      <td>Foothill Freeway</td>\n",
       "    </tr>\n",
       "    <tr>\n",
       "      <th>718659</th>\n",
       "      <td>8165686</td>\n",
       "      <td>2</td>\n",
       "      <td>16</td>\n",
       "      <td>0</td>\n",
       "      <td>Hindry Avenue</td>\n",
       "    </tr>\n",
       "    <tr>\n",
       "      <th>718660</th>\n",
       "      <td>90326285</td>\n",
       "      <td>5</td>\n",
       "      <td>1</td>\n",
       "      <td>6</td>\n",
       "      <td>Chapman Avenue</td>\n",
       "    </tr>\n",
       "    <tr>\n",
       "      <th>718661</th>\n",
       "      <td>7205180</td>\n",
       "      <td>1</td>\n",
       "      <td>4</td>\n",
       "      <td>0</td>\n",
       "      <td>Pomona Freeway</td>\n",
       "    </tr>\n",
       "    <tr>\n",
       "      <th>718662</th>\n",
       "      <td>8038020</td>\n",
       "      <td>1</td>\n",
       "      <td>20</td>\n",
       "      <td>0</td>\n",
       "      <td>Pomona Freeway</td>\n",
       "    </tr>\n",
       "  </tbody>\n",
       "</table>\n",
       "<p>718663 rows × 5 columns</p>\n",
       "</div>"
      ],
      "text/plain": [
       "         case_id  collision_severity  hour  day_of_the_week  \\\n",
       "0        3516974                   1    10                4   \n",
       "1        3522174                   1     6                3   \n",
       "2        3524803                   3     6                3   \n",
       "3        3524807                   2     6                3   \n",
       "4        3524811                   1    14                3   \n",
       "...          ...                 ...   ...              ...   \n",
       "718658   8078566                   2     1                3   \n",
       "718659   8165686                   2    16                0   \n",
       "718660  90326285                   5     1                6   \n",
       "718661   7205180                   1     4                0   \n",
       "718662   8038020                   1    20                0   \n",
       "\n",
       "                       routes  \n",
       "0             Ventura Freeway  \n",
       "1           San Diego Freeway  \n",
       "2             Ventura Freeway  \n",
       "3             Ventura Freeway  \n",
       "4       Ronald Reagan Freeway  \n",
       "...                       ...  \n",
       "718658       Foothill Freeway  \n",
       "718659          Hindry Avenue  \n",
       "718660         Chapman Avenue  \n",
       "718661         Pomona Freeway  \n",
       "718662         Pomona Freeway  \n",
       "\n",
       "[718663 rows x 5 columns]"
      ]
     },
     "execution_count": 3,
     "metadata": {},
     "output_type": "execute_result"
    }
   ],
   "source": [
    "df = pd.read_csv('../raw_data/clean.csv').drop(columns = ['primary_road','weather_1','latitude','longitude','week_of_the_year'])\n",
    "df"
   ]
  },
  {
   "cell_type": "markdown",
   "metadata": {},
   "source": [
    "### Scaling compris entre 1 et 31"
   ]
  },
  {
   "cell_type": "code",
   "execution_count": 4,
   "metadata": {
    "ExecuteTime": {
     "end_time": "2020-12-04T21:41:55.042416Z",
     "start_time": "2020-12-04T21:41:54.509774Z"
    }
   },
   "outputs": [
    {
     "data": {
      "text/html": [
       "<div>\n",
       "<style scoped>\n",
       "    .dataframe tbody tr th:only-of-type {\n",
       "        vertical-align: middle;\n",
       "    }\n",
       "\n",
       "    .dataframe tbody tr th {\n",
       "        vertical-align: top;\n",
       "    }\n",
       "\n",
       "    .dataframe thead th {\n",
       "        text-align: right;\n",
       "    }\n",
       "</style>\n",
       "<table border=\"1\" class=\"dataframe\">\n",
       "  <thead>\n",
       "    <tr style=\"text-align: right;\">\n",
       "      <th></th>\n",
       "      <th>case_id</th>\n",
       "      <th>collision_severity</th>\n",
       "      <th>hour</th>\n",
       "      <th>day_of_the_week</th>\n",
       "      <th>routes</th>\n",
       "    </tr>\n",
       "  </thead>\n",
       "  <tbody>\n",
       "    <tr>\n",
       "      <th>0</th>\n",
       "      <td>3516974</td>\n",
       "      <td>1</td>\n",
       "      <td>10</td>\n",
       "      <td>4</td>\n",
       "      <td>Ventura Freeway</td>\n",
       "    </tr>\n",
       "    <tr>\n",
       "      <th>1</th>\n",
       "      <td>3522174</td>\n",
       "      <td>1</td>\n",
       "      <td>6</td>\n",
       "      <td>3</td>\n",
       "      <td>San Diego Freeway</td>\n",
       "    </tr>\n",
       "    <tr>\n",
       "      <th>2</th>\n",
       "      <td>3524803</td>\n",
       "      <td>7</td>\n",
       "      <td>6</td>\n",
       "      <td>3</td>\n",
       "      <td>Ventura Freeway</td>\n",
       "    </tr>\n",
       "    <tr>\n",
       "      <th>3</th>\n",
       "      <td>3524807</td>\n",
       "      <td>3</td>\n",
       "      <td>6</td>\n",
       "      <td>3</td>\n",
       "      <td>Ventura Freeway</td>\n",
       "    </tr>\n",
       "    <tr>\n",
       "      <th>4</th>\n",
       "      <td>3524811</td>\n",
       "      <td>1</td>\n",
       "      <td>14</td>\n",
       "      <td>3</td>\n",
       "      <td>Ronald Reagan Freeway</td>\n",
       "    </tr>\n",
       "  </tbody>\n",
       "</table>\n",
       "</div>"
      ],
      "text/plain": [
       "   case_id  collision_severity  hour  day_of_the_week                 routes\n",
       "0  3516974                   1    10                4        Ventura Freeway\n",
       "1  3522174                   1     6                3      San Diego Freeway\n",
       "2  3524803                   7     6                3        Ventura Freeway\n",
       "3  3524807                   3     6                3        Ventura Freeway\n",
       "4  3524811                   1    14                3  Ronald Reagan Freeway"
      ]
     },
     "execution_count": 4,
     "metadata": {},
     "output_type": "execute_result"
    }
   ],
   "source": [
    "def scaling(x):\n",
    "    return 2**x - 1\n",
    "    \n",
    "df.collision_severity = df.collision_severity.apply(scaling)\n",
    "df.collision_severity = df.collision_severity.apply(int)\n",
    "df.head()"
   ]
  },
  {
   "cell_type": "markdown",
   "metadata": {},
   "source": [
    "# if (road,hour,day) in [existing_combinations]:\n",
    "\n",
    "#### i.e. si on a de la data pour ce tuple en question"
   ]
  },
  {
   "cell_type": "code",
   "execution_count": 7,
   "metadata": {
    "ExecuteTime": {
     "end_time": "2020-12-04T21:41:59.006621Z",
     "start_time": "2020-12-04T21:41:59.002040Z"
    }
   },
   "outputs": [],
   "source": [
    "def groupby_with_road(dataframe,list_roads,day,hour):\n",
    "    \"\"\"\n",
    "    For tuples of (roads,day,hour) we have data on\n",
    "    Returns a dictionnary with roads as keys and collision severity estimates as values\n",
    "    \"\"\"\n",
    "    dict_predict = {}\n",
    "    \n",
    "    for road in list_roads:\n",
    "        inter = dataframe[(dataframe['routes'] == road) \\\n",
    "                                    & (dataframe['day_of_the_week'] == day) \\\n",
    "                                    & (dataframe['hour'] == hour)]\n",
    "        result = inter['collision_severity'].mean()\n",
    "        dict_predict[road] = result\n",
    "        \n",
    "    return dict_predict"
   ]
  },
  {
   "cell_type": "code",
   "execution_count": 8,
   "metadata": {
    "ExecuteTime": {
     "end_time": "2020-12-04T21:41:59.066541Z",
     "start_time": "2020-12-04T21:41:59.010360Z"
    }
   },
   "outputs": [
    {
     "data": {
      "text/plain": [
       "{'Ventura Freeway': 2.1012658227848102}"
      ]
     },
     "execution_count": 8,
     "metadata": {},
     "output_type": "execute_result"
    }
   ],
   "source": [
    "groupby_with_road(df,['Ventura Freeway'],3,17)"
   ]
  },
  {
   "cell_type": "markdown",
   "metadata": {},
   "source": [
    "# if road not in [roads]\n",
    "\n",
    "#### i.e. si la route renvoyée par l'API est inconnue"
   ]
  },
  {
   "cell_type": "code",
   "execution_count": 9,
   "metadata": {
    "ExecuteTime": {
     "end_time": "2020-12-04T21:41:59.072330Z",
     "start_time": "2020-12-04T21:41:59.068722Z"
    }
   },
   "outputs": [],
   "source": [
    "def groupby_without_road(dataframe,list_roads,day,hour):\n",
    "    \"\"\"\n",
    "    For roads don't have\n",
    "    Returns a dictionnary with roads as keys and collision severity estimates as values\n",
    "    \"\"\"\n",
    "    dict_predict = {}\n",
    "    \n",
    "    inter = dataframe[(dataframe['day_of_the_week'] == day) \\\n",
    "                      & (dataframe['hour'] == hour)]\n",
    "    result = inter['collision_severity'].mean()\n",
    "    \n",
    "    for road in list_roads:\n",
    "        dict_predict[road] = result\n",
    "        \n",
    "    return dict_predict"
   ]
  },
  {
   "cell_type": "code",
   "execution_count": 10,
   "metadata": {
    "ExecuteTime": {
     "end_time": "2020-12-04T21:41:59.084685Z",
     "start_time": "2020-12-04T21:41:59.074676Z"
    }
   },
   "outputs": [
    {
     "data": {
      "text/plain": [
       "{'Dunnet Avenue': 2.278575283324339}"
      ]
     },
     "execution_count": 10,
     "metadata": {},
     "output_type": "execute_result"
    }
   ],
   "source": [
    "groupby_without_road(df,['Dunnet Avenue'],3,17)"
   ]
  },
  {
   "cell_type": "markdown",
   "metadata": {},
   "source": [
    "# if road in [roads]\n",
    "\n",
    "\n",
    "#### i.e. si on a la route, mais pas de donnée pour le tuple (heure,jour)"
   ]
  },
  {
   "cell_type": "code",
   "execution_count": 11,
   "metadata": {
    "ExecuteTime": {
     "end_time": "2020-12-04T21:41:59.091108Z",
     "start_time": "2020-12-04T21:41:59.086768Z"
    }
   },
   "outputs": [],
   "source": [
    "def groupby_road(dataframe,list_roads,day,hour):\n",
    "    \"\"\"\n",
    "    For roads we have, for which we don't have data on that date/hour\n",
    "    Returns a dictionnary with roads as keys and collision severity estimates as values\n",
    "    \"\"\"\n",
    "    inter = dataframe[dataframe['routes'].isin(list_roads)].copy().drop(columns = 'case_id')\n",
    "\n",
    "    X = inter.drop(columns = ['collision_severity'])\n",
    "    y = inter[['collision_severity']]\n",
    "\n",
    "    pipe = make_pipeline(\n",
    "        OneHotEncoder(sparse = False),\n",
    "        LinearRegression()\n",
    "    )\n",
    "\n",
    "    pipe.fit(X, y)\n",
    "    \n",
    "    dict_predict = {}\n",
    "    \n",
    "    for road in list_roads:\n",
    "        X_pred = [[hour,day,road]]\n",
    "        result = pipe.predict(X_pred)\n",
    "        dict_predict[road] = result[0][0]\n",
    "\n",
    "    return dict_predict"
   ]
  },
  {
   "cell_type": "code",
   "execution_count": 12,
   "metadata": {
    "ExecuteTime": {
     "end_time": "2020-12-04T21:41:59.160104Z",
     "start_time": "2020-12-04T21:41:59.093338Z"
    }
   },
   "outputs": [
    {
     "data": {
      "text/plain": [
       "{'Hindry Avenue': 3.1875, 'Dunnet Avenue': 2.875, 'Chapman Avenue': 2.1875}"
      ]
     },
     "execution_count": 12,
     "metadata": {},
     "output_type": "execute_result"
    }
   ],
   "source": [
    "list_roads = ['Hindry Avenue','Dunnet Avenue','Chapman Avenue']\n",
    "\n",
    "groupby_road(df,list_roads,0,7)"
   ]
  }
 ],
 "metadata": {
  "kernelspec": {
   "display_name": "Python 3",
   "language": "python",
   "name": "python3"
  },
  "language_info": {
   "codemirror_mode": {
    "name": "ipython",
    "version": 3
   },
   "file_extension": ".py",
   "mimetype": "text/x-python",
   "name": "python",
   "nbconvert_exporter": "python",
   "pygments_lexer": "ipython3",
   "version": "3.8.6"
  }
 },
 "nbformat": 4,
 "nbformat_minor": 4
}
