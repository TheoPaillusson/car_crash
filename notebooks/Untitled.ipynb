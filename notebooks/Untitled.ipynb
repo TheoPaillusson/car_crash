{
 "cells": [
  {
   "cell_type": "code",
   "execution_count": 58,
   "metadata": {
    "ExecuteTime": {
     "end_time": "2020-12-02T11:17:39.315915Z",
     "start_time": "2020-12-02T11:17:38.229311Z"
    }
   },
   "outputs": [],
   "source": [
    "import pandas as pd\n",
    "import matplotlib.pyplot as plt\n",
    "import seaborn as sns"
   ]
  },
  {
   "cell_type": "code",
   "execution_count": 3,
   "metadata": {
    "ExecuteTime": {
     "end_time": "2020-12-02T10:07:47.556827Z",
     "start_time": "2020-12-02T10:07:42.915961Z"
    }
   },
   "outputs": [
    {
     "name": "stderr",
     "output_type": "stream",
     "text": [
      "/Users/leonardtheret/.pyenv/versions/3.8.6/envs/data/lib/python3.8/site-packages/IPython/core/interactiveshell.py:3145: DtypeWarning: Columns (6) have mixed types.Specify dtype option on import or set low_memory=False.\n",
      "  has_raised = await self.run_ast_nodes(code_ast.body, cell_name,\n"
     ]
    },
    {
     "data": {
      "text/plain": [
       "(950421, 37)"
      ]
     },
     "execution_count": 3,
     "metadata": {},
     "output_type": "execute_result"
    }
   ],
   "source": [
    "collisions = pd.read_csv('raw_data/collisions_la.csv')\n",
    "collisions.shape"
   ]
  },
  {
   "cell_type": "code",
   "execution_count": 10,
   "metadata": {
    "ExecuteTime": {
     "end_time": "2020-12-01T16:38:42.685656Z",
     "start_time": "2020-12-01T16:38:42.121187Z"
    }
   },
   "outputs": [],
   "source": [
    "collisions['case_id'] = collisions['case_id'].apply(int)\n",
    "collisions['distance'] = collisions['distance'].apply(int)"
   ]
  },
  {
   "cell_type": "code",
   "execution_count": 5,
   "metadata": {
    "ExecuteTime": {
     "end_time": "2020-12-02T10:08:43.270591Z",
     "start_time": "2020-12-02T10:08:43.085764Z"
    }
   },
   "outputs": [
    {
     "data": {
      "text/plain": [
       "RT 5                                 44560\n",
       "RT 405                               38980\n",
       "RT 10                                37151\n",
       "RT 91                                34270\n",
       "RT 60                                23375\n",
       "                                     ...  \n",
       "SR-60 E/B TO PHILLIPS RANCH BLVD.        1\n",
       "DUARTE RD. (6600 BLOCK)                  1\n",
       "1-605 N/B                                1\n",
       "JEANNIE DR. (1800 BLOCK)                 1\n",
       "I-5 NORTHBOUND TO GARFIELD AVE           1\n",
       "Name: primary_road, Length: 66108, dtype: int64"
      ]
     },
     "execution_count": 5,
     "metadata": {},
     "output_type": "execute_result"
    }
   ],
   "source": [
    "collisions.primary_road.value_counts()\n",
    "\n"
   ]
  },
  {
   "cell_type": "code",
   "execution_count": 76,
   "metadata": {
    "ExecuteTime": {
     "end_time": "2020-12-02T13:45:57.101658Z",
     "start_time": "2020-12-02T13:45:57.012949Z"
    }
   },
   "outputs": [
    {
     "data": {
      "text/plain": [
       "interstate                 446055\n",
       "state route                210867\n",
       "not chp                    109732\n",
       "county road area            98643\n",
       "us highway                  38861\n",
       "county road line            38112\n",
       "safety services program      7824\n",
       "administrative                327\n",
       "Name: chp_beat_type, dtype: int64"
      ]
     },
     "execution_count": 76,
     "metadata": {},
     "output_type": "execute_result"
    }
   ],
   "source": [
    "collisions.chp_beat_type.value_counts()"
   ]
  },
  {
   "cell_type": "code",
   "execution_count": 11,
   "metadata": {
    "ExecuteTime": {
     "end_time": "2020-12-02T10:29:15.069751Z",
     "start_time": "2020-12-02T10:29:14.646293Z"
    }
   },
   "outputs": [
    {
     "data": {
      "text/html": [
       "<div>\n",
       "<style scoped>\n",
       "    .dataframe tbody tr th:only-of-type {\n",
       "        vertical-align: middle;\n",
       "    }\n",
       "\n",
       "    .dataframe tbody tr th {\n",
       "        vertical-align: top;\n",
       "    }\n",
       "\n",
       "    .dataframe thead th {\n",
       "        text-align: right;\n",
       "    }\n",
       "</style>\n",
       "<table border=\"1\" class=\"dataframe\">\n",
       "  <thead>\n",
       "    <tr style=\"text-align: right;\">\n",
       "      <th></th>\n",
       "      <th>case_id</th>\n",
       "      <th>primary_road</th>\n",
       "      <th>weather_1</th>\n",
       "      <th>collision_severity</th>\n",
       "      <th>latitude</th>\n",
       "      <th>longitude</th>\n",
       "      <th>collision_date</th>\n",
       "      <th>collision_time</th>\n",
       "    </tr>\n",
       "  </thead>\n",
       "  <tbody>\n",
       "    <tr>\n",
       "      <th>0</th>\n",
       "      <td>3516974.0</td>\n",
       "      <td>RT 101</td>\n",
       "      <td>clear</td>\n",
       "      <td>property damage only</td>\n",
       "      <td>34.17357</td>\n",
       "      <td>-118.54336</td>\n",
       "      <td>2008-01-11</td>\n",
       "      <td>10:08:00</td>\n",
       "    </tr>\n",
       "    <tr>\n",
       "      <th>1</th>\n",
       "      <td>3522174.0</td>\n",
       "      <td>RT 405</td>\n",
       "      <td>clear</td>\n",
       "      <td>property damage only</td>\n",
       "      <td>34.16803</td>\n",
       "      <td>-118.46901</td>\n",
       "      <td>2008-01-17</td>\n",
       "      <td>06:45:00</td>\n",
       "    </tr>\n",
       "    <tr>\n",
       "      <th>2</th>\n",
       "      <td>3523649.0</td>\n",
       "      <td>RT 605</td>\n",
       "      <td>clear</td>\n",
       "      <td>property damage only</td>\n",
       "      <td>33.77837</td>\n",
       "      <td>-118.09050</td>\n",
       "      <td>2008-01-11</td>\n",
       "      <td>12:20:00</td>\n",
       "    </tr>\n",
       "    <tr>\n",
       "      <th>3</th>\n",
       "      <td>3524803.0</td>\n",
       "      <td>RT 101</td>\n",
       "      <td>cloudy</td>\n",
       "      <td>other injury</td>\n",
       "      <td>34.16938</td>\n",
       "      <td>-118.49952</td>\n",
       "      <td>2008-01-03</td>\n",
       "      <td>06:48:00</td>\n",
       "    </tr>\n",
       "    <tr>\n",
       "      <th>4</th>\n",
       "      <td>3524807.0</td>\n",
       "      <td>RT 101</td>\n",
       "      <td>cloudy</td>\n",
       "      <td>pain</td>\n",
       "      <td>34.16968</td>\n",
       "      <td>-118.49999</td>\n",
       "      <td>2008-01-03</td>\n",
       "      <td>06:49:00</td>\n",
       "    </tr>\n",
       "  </tbody>\n",
       "</table>\n",
       "</div>"
      ],
      "text/plain": [
       "     case_id primary_road weather_1    collision_severity  latitude  \\\n",
       "0  3516974.0       RT 101     clear  property damage only  34.17357   \n",
       "1  3522174.0       RT 405     clear  property damage only  34.16803   \n",
       "2  3523649.0       RT 605     clear  property damage only  33.77837   \n",
       "3  3524803.0       RT 101    cloudy          other injury  34.16938   \n",
       "4  3524807.0       RT 101    cloudy                  pain  34.16968   \n",
       "\n",
       "   longitude collision_date collision_time  \n",
       "0 -118.54336     2008-01-11       10:08:00  \n",
       "1 -118.46901     2008-01-17       06:45:00  \n",
       "2 -118.09050     2008-01-11       12:20:00  \n",
       "3 -118.49952     2008-01-03       06:48:00  \n",
       "4 -118.49999     2008-01-03       06:49:00  "
      ]
     },
     "execution_count": 11,
     "metadata": {},
     "output_type": "execute_result"
    }
   ],
   "source": [
    "data = collisions[['case_id','primary_road','weather_1','collision_severity','latitude','longitude','collision_date','collision_time']]\n",
    "\n",
    "data.head()"
   ]
  },
  {
   "cell_type": "code",
   "execution_count": 32,
   "metadata": {
    "ExecuteTime": {
     "end_time": "2020-12-02T10:39:21.335694Z",
     "start_time": "2020-12-02T10:39:20.693477Z"
    },
    "scrolled": true
   },
   "outputs": [
    {
     "name": "stderr",
     "output_type": "stream",
     "text": [
      "<ipython-input-32-7c6b9e53590a>:1: SettingWithCopyWarning: \n",
      "A value is trying to be set on a copy of a slice from a DataFrame.\n",
      "Try using .loc[row_indexer,col_indexer] = value instead\n",
      "\n",
      "See the caveats in the documentation: https://pandas.pydata.org/pandas-docs/stable/user_guide/indexing.html#returning-a-view-versus-a-copy\n",
      "  data['hour'] = data['collision_time'].apply(lambda x : int(x[0:2]) if int(x[0]) != 0 else int(x[1]))\n"
     ]
    }
   ],
   "source": [
    "data['hour'] = data['collision_time'].apply(lambda x : int(x[0:2]) if int(x[0]) != 0 else int(x[1]))"
   ]
  },
  {
   "cell_type": "code",
   "execution_count": 35,
   "metadata": {
    "ExecuteTime": {
     "end_time": "2020-12-02T10:39:52.754564Z",
     "start_time": "2020-12-02T10:39:52.672860Z"
    },
    "scrolled": true
   },
   "outputs": [
    {
     "name": "stderr",
     "output_type": "stream",
     "text": [
      "/Users/leonardtheret/.pyenv/versions/3.8.6/envs/data/lib/python3.8/site-packages/pandas/core/frame.py:4163: SettingWithCopyWarning: \n",
      "A value is trying to be set on a copy of a slice from a DataFrame\n",
      "\n",
      "See the caveats in the documentation: https://pandas.pydata.org/pandas-docs/stable/user_guide/indexing.html#returning-a-view-versus-a-copy\n",
      "  return super().drop(\n"
     ]
    },
    {
     "data": {
      "text/html": [
       "<div>\n",
       "<style scoped>\n",
       "    .dataframe tbody tr th:only-of-type {\n",
       "        vertical-align: middle;\n",
       "    }\n",
       "\n",
       "    .dataframe tbody tr th {\n",
       "        vertical-align: top;\n",
       "    }\n",
       "\n",
       "    .dataframe thead th {\n",
       "        text-align: right;\n",
       "    }\n",
       "</style>\n",
       "<table border=\"1\" class=\"dataframe\">\n",
       "  <thead>\n",
       "    <tr style=\"text-align: right;\">\n",
       "      <th></th>\n",
       "      <th>case_id</th>\n",
       "      <th>primary_road</th>\n",
       "      <th>weather_1</th>\n",
       "      <th>collision_severity</th>\n",
       "      <th>latitude</th>\n",
       "      <th>longitude</th>\n",
       "      <th>collision_date</th>\n",
       "      <th>hour</th>\n",
       "    </tr>\n",
       "  </thead>\n",
       "  <tbody>\n",
       "    <tr>\n",
       "      <th>0</th>\n",
       "      <td>3516974.0</td>\n",
       "      <td>RT 101</td>\n",
       "      <td>clear</td>\n",
       "      <td>property damage only</td>\n",
       "      <td>34.17357</td>\n",
       "      <td>-118.54336</td>\n",
       "      <td>2008-01-11</td>\n",
       "      <td>10</td>\n",
       "    </tr>\n",
       "    <tr>\n",
       "      <th>1</th>\n",
       "      <td>3522174.0</td>\n",
       "      <td>RT 405</td>\n",
       "      <td>clear</td>\n",
       "      <td>property damage only</td>\n",
       "      <td>34.16803</td>\n",
       "      <td>-118.46901</td>\n",
       "      <td>2008-01-17</td>\n",
       "      <td>6</td>\n",
       "    </tr>\n",
       "    <tr>\n",
       "      <th>2</th>\n",
       "      <td>3523649.0</td>\n",
       "      <td>RT 605</td>\n",
       "      <td>clear</td>\n",
       "      <td>property damage only</td>\n",
       "      <td>33.77837</td>\n",
       "      <td>-118.09050</td>\n",
       "      <td>2008-01-11</td>\n",
       "      <td>12</td>\n",
       "    </tr>\n",
       "    <tr>\n",
       "      <th>3</th>\n",
       "      <td>3524803.0</td>\n",
       "      <td>RT 101</td>\n",
       "      <td>cloudy</td>\n",
       "      <td>other injury</td>\n",
       "      <td>34.16938</td>\n",
       "      <td>-118.49952</td>\n",
       "      <td>2008-01-03</td>\n",
       "      <td>6</td>\n",
       "    </tr>\n",
       "    <tr>\n",
       "      <th>4</th>\n",
       "      <td>3524807.0</td>\n",
       "      <td>RT 101</td>\n",
       "      <td>cloudy</td>\n",
       "      <td>pain</td>\n",
       "      <td>34.16968</td>\n",
       "      <td>-118.49999</td>\n",
       "      <td>2008-01-03</td>\n",
       "      <td>6</td>\n",
       "    </tr>\n",
       "  </tbody>\n",
       "</table>\n",
       "</div>"
      ],
      "text/plain": [
       "     case_id primary_road weather_1    collision_severity  latitude  \\\n",
       "0  3516974.0       RT 101     clear  property damage only  34.17357   \n",
       "1  3522174.0       RT 405     clear  property damage only  34.16803   \n",
       "2  3523649.0       RT 605     clear  property damage only  33.77837   \n",
       "3  3524803.0       RT 101    cloudy          other injury  34.16938   \n",
       "4  3524807.0       RT 101    cloudy                  pain  34.16968   \n",
       "\n",
       "   longitude collision_date  hour  \n",
       "0 -118.54336     2008-01-11    10  \n",
       "1 -118.46901     2008-01-17     6  \n",
       "2 -118.09050     2008-01-11    12  \n",
       "3 -118.49952     2008-01-03     6  \n",
       "4 -118.49999     2008-01-03     6  "
      ]
     },
     "execution_count": 35,
     "metadata": {},
     "output_type": "execute_result"
    }
   ],
   "source": [
    "data.drop(columns = 'collision_time', inplace = True)\n",
    "data.head()"
   ]
  },
  {
   "cell_type": "code",
   "execution_count": 40,
   "metadata": {
    "ExecuteTime": {
     "end_time": "2020-12-02T10:43:09.642929Z",
     "start_time": "2020-12-02T10:43:09.637571Z"
    }
   },
   "outputs": [
    {
     "data": {
      "text/plain": [
       "2"
      ]
     },
     "execution_count": 40,
     "metadata": {},
     "output_type": "execute_result"
    }
   ],
   "source": [
    "dicti = {'unknown':0, 'property damage only':1, 'pain':2, 'other injury':3, 'severe injury':4, 'fatal':5}\n",
    "\n",
    "def severity(x):\n",
    "    x = dicti[x]\n",
    "    return x\n",
    "        "
   ]
  },
  {
   "cell_type": "code",
   "execution_count": 42,
   "metadata": {
    "ExecuteTime": {
     "end_time": "2020-12-02T10:44:34.888260Z",
     "start_time": "2020-12-02T10:44:34.566727Z"
    }
   },
   "outputs": [
    {
     "name": "stderr",
     "output_type": "stream",
     "text": [
      "<ipython-input-42-5a9b253fcb52>:1: SettingWithCopyWarning: \n",
      "A value is trying to be set on a copy of a slice from a DataFrame.\n",
      "Try using .loc[row_indexer,col_indexer] = value instead\n",
      "\n",
      "See the caveats in the documentation: https://pandas.pydata.org/pandas-docs/stable/user_guide/indexing.html#returning-a-view-versus-a-copy\n",
      "  data['collision_severity'] = data['collision_severity'].apply(severity)\n"
     ]
    },
    {
     "data": {
      "text/plain": [
       "1    634393\n",
       "2    208638\n",
       "3     86422\n",
       "4     16289\n",
       "5      4677\n",
       "0         2\n",
       "Name: collision_severity, dtype: int64"
      ]
     },
     "execution_count": 42,
     "metadata": {},
     "output_type": "execute_result"
    }
   ],
   "source": [
    "data['collision_severity'] = data['collision_severity'].apply(severity)\n",
    "data['collision_severity'].value_counts()"
   ]
  },
  {
   "cell_type": "code",
   "execution_count": 44,
   "metadata": {
    "ExecuteTime": {
     "end_time": "2020-12-02T11:07:29.300782Z",
     "start_time": "2020-12-02T11:07:28.983384Z"
    }
   },
   "outputs": [
    {
     "name": "stderr",
     "output_type": "stream",
     "text": [
      "/Users/leonardtheret/.pyenv/versions/3.8.6/envs/data/lib/python3.8/site-packages/pandas/core/generic.py:5168: SettingWithCopyWarning: \n",
      "A value is trying to be set on a copy of a slice from a DataFrame.\n",
      "Try using .loc[row_indexer,col_indexer] = value instead\n",
      "\n",
      "See the caveats in the documentation: https://pandas.pydata.org/pandas-docs/stable/user_guide/indexing.html#returning-a-view-versus-a-copy\n",
      "  self[name] = value\n"
     ]
    },
    {
     "data": {
      "text/html": [
       "<div>\n",
       "<style scoped>\n",
       "    .dataframe tbody tr th:only-of-type {\n",
       "        vertical-align: middle;\n",
       "    }\n",
       "\n",
       "    .dataframe tbody tr th {\n",
       "        vertical-align: top;\n",
       "    }\n",
       "\n",
       "    .dataframe thead th {\n",
       "        text-align: right;\n",
       "    }\n",
       "</style>\n",
       "<table border=\"1\" class=\"dataframe\">\n",
       "  <thead>\n",
       "    <tr style=\"text-align: right;\">\n",
       "      <th></th>\n",
       "      <th>case_id</th>\n",
       "      <th>primary_road</th>\n",
       "      <th>weather_1</th>\n",
       "      <th>collision_severity</th>\n",
       "      <th>latitude</th>\n",
       "      <th>longitude</th>\n",
       "      <th>collision_date</th>\n",
       "      <th>hour</th>\n",
       "    </tr>\n",
       "  </thead>\n",
       "  <tbody>\n",
       "    <tr>\n",
       "      <th>0</th>\n",
       "      <td>3516974</td>\n",
       "      <td>RT 101</td>\n",
       "      <td>clear</td>\n",
       "      <td>1</td>\n",
       "      <td>34.17357</td>\n",
       "      <td>-118.54336</td>\n",
       "      <td>2008-01-11</td>\n",
       "      <td>10</td>\n",
       "    </tr>\n",
       "    <tr>\n",
       "      <th>1</th>\n",
       "      <td>3522174</td>\n",
       "      <td>RT 405</td>\n",
       "      <td>clear</td>\n",
       "      <td>1</td>\n",
       "      <td>34.16803</td>\n",
       "      <td>-118.46901</td>\n",
       "      <td>2008-01-17</td>\n",
       "      <td>6</td>\n",
       "    </tr>\n",
       "    <tr>\n",
       "      <th>2</th>\n",
       "      <td>3523649</td>\n",
       "      <td>RT 605</td>\n",
       "      <td>clear</td>\n",
       "      <td>1</td>\n",
       "      <td>33.77837</td>\n",
       "      <td>-118.09050</td>\n",
       "      <td>2008-01-11</td>\n",
       "      <td>12</td>\n",
       "    </tr>\n",
       "    <tr>\n",
       "      <th>3</th>\n",
       "      <td>3524803</td>\n",
       "      <td>RT 101</td>\n",
       "      <td>cloudy</td>\n",
       "      <td>3</td>\n",
       "      <td>34.16938</td>\n",
       "      <td>-118.49952</td>\n",
       "      <td>2008-01-03</td>\n",
       "      <td>6</td>\n",
       "    </tr>\n",
       "    <tr>\n",
       "      <th>4</th>\n",
       "      <td>3524807</td>\n",
       "      <td>RT 101</td>\n",
       "      <td>cloudy</td>\n",
       "      <td>2</td>\n",
       "      <td>34.16968</td>\n",
       "      <td>-118.49999</td>\n",
       "      <td>2008-01-03</td>\n",
       "      <td>6</td>\n",
       "    </tr>\n",
       "  </tbody>\n",
       "</table>\n",
       "</div>"
      ],
      "text/plain": [
       "   case_id primary_road weather_1  collision_severity  latitude  longitude  \\\n",
       "0  3516974       RT 101     clear                   1  34.17357 -118.54336   \n",
       "1  3522174       RT 405     clear                   1  34.16803 -118.46901   \n",
       "2  3523649       RT 605     clear                   1  33.77837 -118.09050   \n",
       "3  3524803       RT 101    cloudy                   3  34.16938 -118.49952   \n",
       "4  3524807       RT 101    cloudy                   2  34.16968 -118.49999   \n",
       "\n",
       "  collision_date  hour  \n",
       "0     2008-01-11    10  \n",
       "1     2008-01-17     6  \n",
       "2     2008-01-11    12  \n",
       "3     2008-01-03     6  \n",
       "4     2008-01-03     6  "
      ]
     },
     "execution_count": 44,
     "metadata": {},
     "output_type": "execute_result"
    }
   ],
   "source": [
    "data.case_id = data.case_id.apply(int)\n",
    "data.head()"
   ]
  },
  {
   "cell_type": "code",
   "execution_count": 50,
   "metadata": {
    "ExecuteTime": {
     "end_time": "2020-12-02T11:13:33.488802Z",
     "start_time": "2020-12-02T11:13:33.483779Z"
    }
   },
   "outputs": [],
   "source": [
    "def weeknb(x):\n",
    "    return pd.to_datetime(x).isocalendar()[1]\n",
    "\n",
    "def day_of_week(x):\n",
    "    return pd.to_datetime(x).weekday()"
   ]
  },
  {
   "cell_type": "code",
   "execution_count": 51,
   "metadata": {
    "ExecuteTime": {
     "end_time": "2020-12-02T11:15:50.418484Z",
     "start_time": "2020-12-02T11:13:34.907169Z"
    }
   },
   "outputs": [
    {
     "name": "stderr",
     "output_type": "stream",
     "text": [
      "<ipython-input-51-0aaf0ef84af8>:1: SettingWithCopyWarning: \n",
      "A value is trying to be set on a copy of a slice from a DataFrame.\n",
      "Try using .loc[row_indexer,col_indexer] = value instead\n",
      "\n",
      "See the caveats in the documentation: https://pandas.pydata.org/pandas-docs/stable/user_guide/indexing.html#returning-a-view-versus-a-copy\n",
      "  data['week_of_the_year'] = data['collision_date'].apply(weeknb)\n",
      "<ipython-input-51-0aaf0ef84af8>:2: SettingWithCopyWarning: \n",
      "A value is trying to be set on a copy of a slice from a DataFrame.\n",
      "Try using .loc[row_indexer,col_indexer] = value instead\n",
      "\n",
      "See the caveats in the documentation: https://pandas.pydata.org/pandas-docs/stable/user_guide/indexing.html#returning-a-view-versus-a-copy\n",
      "  data['day_of_the_week'] = data['collision_date'].apply(day_of_week)\n"
     ]
    }
   ],
   "source": [
    "data['week_of_the_year'] = data['collision_date'].apply(weeknb)\n",
    "data['day_of_the_week'] = data['collision_date'].apply(day_of_week)"
   ]
  },
  {
   "cell_type": "code",
   "execution_count": 52,
   "metadata": {
    "ExecuteTime": {
     "end_time": "2020-12-02T11:15:50.432843Z",
     "start_time": "2020-12-02T11:15:50.421298Z"
    }
   },
   "outputs": [
    {
     "data": {
      "text/html": [
       "<div>\n",
       "<style scoped>\n",
       "    .dataframe tbody tr th:only-of-type {\n",
       "        vertical-align: middle;\n",
       "    }\n",
       "\n",
       "    .dataframe tbody tr th {\n",
       "        vertical-align: top;\n",
       "    }\n",
       "\n",
       "    .dataframe thead th {\n",
       "        text-align: right;\n",
       "    }\n",
       "</style>\n",
       "<table border=\"1\" class=\"dataframe\">\n",
       "  <thead>\n",
       "    <tr style=\"text-align: right;\">\n",
       "      <th></th>\n",
       "      <th>case_id</th>\n",
       "      <th>primary_road</th>\n",
       "      <th>weather_1</th>\n",
       "      <th>collision_severity</th>\n",
       "      <th>latitude</th>\n",
       "      <th>longitude</th>\n",
       "      <th>collision_date</th>\n",
       "      <th>hour</th>\n",
       "      <th>week_of_the_year</th>\n",
       "      <th>day_of_the_week</th>\n",
       "    </tr>\n",
       "  </thead>\n",
       "  <tbody>\n",
       "    <tr>\n",
       "      <th>0</th>\n",
       "      <td>3516974</td>\n",
       "      <td>RT 101</td>\n",
       "      <td>clear</td>\n",
       "      <td>1</td>\n",
       "      <td>34.17357</td>\n",
       "      <td>-118.54336</td>\n",
       "      <td>2008-01-11</td>\n",
       "      <td>10</td>\n",
       "      <td>2</td>\n",
       "      <td>4</td>\n",
       "    </tr>\n",
       "    <tr>\n",
       "      <th>1</th>\n",
       "      <td>3522174</td>\n",
       "      <td>RT 405</td>\n",
       "      <td>clear</td>\n",
       "      <td>1</td>\n",
       "      <td>34.16803</td>\n",
       "      <td>-118.46901</td>\n",
       "      <td>2008-01-17</td>\n",
       "      <td>6</td>\n",
       "      <td>3</td>\n",
       "      <td>3</td>\n",
       "    </tr>\n",
       "    <tr>\n",
       "      <th>2</th>\n",
       "      <td>3523649</td>\n",
       "      <td>RT 605</td>\n",
       "      <td>clear</td>\n",
       "      <td>1</td>\n",
       "      <td>33.77837</td>\n",
       "      <td>-118.09050</td>\n",
       "      <td>2008-01-11</td>\n",
       "      <td>12</td>\n",
       "      <td>2</td>\n",
       "      <td>4</td>\n",
       "    </tr>\n",
       "    <tr>\n",
       "      <th>3</th>\n",
       "      <td>3524803</td>\n",
       "      <td>RT 101</td>\n",
       "      <td>cloudy</td>\n",
       "      <td>3</td>\n",
       "      <td>34.16938</td>\n",
       "      <td>-118.49952</td>\n",
       "      <td>2008-01-03</td>\n",
       "      <td>6</td>\n",
       "      <td>1</td>\n",
       "      <td>3</td>\n",
       "    </tr>\n",
       "    <tr>\n",
       "      <th>4</th>\n",
       "      <td>3524807</td>\n",
       "      <td>RT 101</td>\n",
       "      <td>cloudy</td>\n",
       "      <td>2</td>\n",
       "      <td>34.16968</td>\n",
       "      <td>-118.49999</td>\n",
       "      <td>2008-01-03</td>\n",
       "      <td>6</td>\n",
       "      <td>1</td>\n",
       "      <td>3</td>\n",
       "    </tr>\n",
       "  </tbody>\n",
       "</table>\n",
       "</div>"
      ],
      "text/plain": [
       "   case_id primary_road weather_1  collision_severity  latitude  longitude  \\\n",
       "0  3516974       RT 101     clear                   1  34.17357 -118.54336   \n",
       "1  3522174       RT 405     clear                   1  34.16803 -118.46901   \n",
       "2  3523649       RT 605     clear                   1  33.77837 -118.09050   \n",
       "3  3524803       RT 101    cloudy                   3  34.16938 -118.49952   \n",
       "4  3524807       RT 101    cloudy                   2  34.16968 -118.49999   \n",
       "\n",
       "  collision_date  hour  week_of_the_year  day_of_the_week  \n",
       "0     2008-01-11    10                 2                4  \n",
       "1     2008-01-17     6                 3                3  \n",
       "2     2008-01-11    12                 2                4  \n",
       "3     2008-01-03     6                 1                3  \n",
       "4     2008-01-03     6                 1                3  "
      ]
     },
     "execution_count": 52,
     "metadata": {},
     "output_type": "execute_result"
    }
   ],
   "source": [
    "data.head()"
   ]
  },
  {
   "cell_type": "code",
   "execution_count": 64,
   "metadata": {
    "ExecuteTime": {
     "end_time": "2020-12-02T11:24:04.316482Z",
     "start_time": "2020-12-02T11:24:04.177902Z"
    }
   },
   "outputs": [
    {
     "name": "stderr",
     "output_type": "stream",
     "text": [
      "/Users/leonardtheret/.pyenv/versions/3.8.6/envs/data/lib/python3.8/site-packages/pandas/core/frame.py:4163: SettingWithCopyWarning: \n",
      "A value is trying to be set on a copy of a slice from a DataFrame\n",
      "\n",
      "See the caveats in the documentation: https://pandas.pydata.org/pandas-docs/stable/user_guide/indexing.html#returning-a-view-versus-a-copy\n",
      "  return super().drop(\n"
     ]
    },
    {
     "data": {
      "text/html": [
       "<div>\n",
       "<style scoped>\n",
       "    .dataframe tbody tr th:only-of-type {\n",
       "        vertical-align: middle;\n",
       "    }\n",
       "\n",
       "    .dataframe tbody tr th {\n",
       "        vertical-align: top;\n",
       "    }\n",
       "\n",
       "    .dataframe thead th {\n",
       "        text-align: right;\n",
       "    }\n",
       "</style>\n",
       "<table border=\"1\" class=\"dataframe\">\n",
       "  <thead>\n",
       "    <tr style=\"text-align: right;\">\n",
       "      <th></th>\n",
       "      <th>case_id</th>\n",
       "      <th>primary_road</th>\n",
       "      <th>weather_1</th>\n",
       "      <th>collision_severity</th>\n",
       "      <th>latitude</th>\n",
       "      <th>longitude</th>\n",
       "      <th>hour</th>\n",
       "      <th>week_of_the_year</th>\n",
       "      <th>day_of_the_week</th>\n",
       "    </tr>\n",
       "  </thead>\n",
       "  <tbody>\n",
       "    <tr>\n",
       "      <th>0</th>\n",
       "      <td>3516974</td>\n",
       "      <td>RT 101</td>\n",
       "      <td>clear</td>\n",
       "      <td>1</td>\n",
       "      <td>34.17357</td>\n",
       "      <td>-118.54336</td>\n",
       "      <td>10</td>\n",
       "      <td>2</td>\n",
       "      <td>4</td>\n",
       "    </tr>\n",
       "    <tr>\n",
       "      <th>1</th>\n",
       "      <td>3522174</td>\n",
       "      <td>RT 405</td>\n",
       "      <td>clear</td>\n",
       "      <td>1</td>\n",
       "      <td>34.16803</td>\n",
       "      <td>-118.46901</td>\n",
       "      <td>6</td>\n",
       "      <td>3</td>\n",
       "      <td>3</td>\n",
       "    </tr>\n",
       "    <tr>\n",
       "      <th>2</th>\n",
       "      <td>3523649</td>\n",
       "      <td>RT 605</td>\n",
       "      <td>clear</td>\n",
       "      <td>1</td>\n",
       "      <td>33.77837</td>\n",
       "      <td>-118.09050</td>\n",
       "      <td>12</td>\n",
       "      <td>2</td>\n",
       "      <td>4</td>\n",
       "    </tr>\n",
       "    <tr>\n",
       "      <th>3</th>\n",
       "      <td>3524803</td>\n",
       "      <td>RT 101</td>\n",
       "      <td>cloudy</td>\n",
       "      <td>3</td>\n",
       "      <td>34.16938</td>\n",
       "      <td>-118.49952</td>\n",
       "      <td>6</td>\n",
       "      <td>1</td>\n",
       "      <td>3</td>\n",
       "    </tr>\n",
       "    <tr>\n",
       "      <th>4</th>\n",
       "      <td>3524807</td>\n",
       "      <td>RT 101</td>\n",
       "      <td>cloudy</td>\n",
       "      <td>2</td>\n",
       "      <td>34.16968</td>\n",
       "      <td>-118.49999</td>\n",
       "      <td>6</td>\n",
       "      <td>1</td>\n",
       "      <td>3</td>\n",
       "    </tr>\n",
       "  </tbody>\n",
       "</table>\n",
       "</div>"
      ],
      "text/plain": [
       "   case_id primary_road weather_1  collision_severity  latitude  longitude  \\\n",
       "0  3516974       RT 101     clear                   1  34.17357 -118.54336   \n",
       "1  3522174       RT 405     clear                   1  34.16803 -118.46901   \n",
       "2  3523649       RT 605     clear                   1  33.77837 -118.09050   \n",
       "3  3524803       RT 101    cloudy                   3  34.16938 -118.49952   \n",
       "4  3524807       RT 101    cloudy                   2  34.16968 -118.49999   \n",
       "\n",
       "   hour  week_of_the_year  day_of_the_week  \n",
       "0    10                 2                4  \n",
       "1     6                 3                3  \n",
       "2    12                 2                4  \n",
       "3     6                 1                3  \n",
       "4     6                 1                3  "
      ]
     },
     "execution_count": 64,
     "metadata": {},
     "output_type": "execute_result"
    }
   ],
   "source": [
    "data.drop(columns = ['collision_date'], inplace = True)\n",
    "data.head()"
   ]
  },
  {
   "cell_type": "code",
   "execution_count": 69,
   "metadata": {
    "ExecuteTime": {
     "end_time": "2020-12-02T13:42:46.058832Z",
     "start_time": "2020-12-02T13:42:41.429007Z"
    }
   },
   "outputs": [],
   "source": [
    "data.to_csv('raw_data/la_clean.csv', index=False)"
   ]
  },
  {
   "cell_type": "code",
   "execution_count": 70,
   "metadata": {
    "ExecuteTime": {
     "end_time": "2020-12-02T13:42:46.782437Z",
     "start_time": "2020-12-02T13:42:46.061133Z"
    }
   },
   "outputs": [],
   "source": [
    "df = pd.read_csv('raw_data/la_clean.csv')"
   ]
  },
  {
   "cell_type": "code",
   "execution_count": 71,
   "metadata": {
    "ExecuteTime": {
     "end_time": "2020-12-02T13:42:46.790351Z",
     "start_time": "2020-12-02T13:42:46.786018Z"
    },
    "scrolled": false
   },
   "outputs": [
    {
     "data": {
      "text/plain": [
       "950421"
      ]
     },
     "execution_count": 71,
     "metadata": {},
     "output_type": "execute_result"
    }
   ],
   "source": [
    "len(df)"
   ]
  },
  {
   "cell_type": "code",
   "execution_count": null,
   "metadata": {},
   "outputs": [],
   "source": []
  }
 ],
 "metadata": {
  "kernelspec": {
   "display_name": "Python 3",
   "language": "python",
   "name": "python3"
  },
  "language_info": {
   "codemirror_mode": {
    "name": "ipython",
    "version": 3
   },
   "file_extension": ".py",
   "mimetype": "text/x-python",
   "name": "python",
   "nbconvert_exporter": "python",
   "pygments_lexer": "ipython3",
   "version": "3.8.5"
  },
  "toc": {
   "base_numbering": 1,
   "nav_menu": {},
   "number_sections": true,
   "sideBar": true,
   "skip_h1_title": false,
   "title_cell": "Table of Contents",
   "title_sidebar": "Contents",
   "toc_cell": false,
   "toc_position": {},
   "toc_section_display": true,
   "toc_window_display": false
  },
  "varInspector": {
   "cols": {
    "lenName": 16,
    "lenType": 16,
    "lenVar": 40
   },
   "kernels_config": {
    "python": {
     "delete_cmd_postfix": "",
     "delete_cmd_prefix": "del ",
     "library": "var_list.py",
     "varRefreshCmd": "print(var_dic_list())"
    },
    "r": {
     "delete_cmd_postfix": ") ",
     "delete_cmd_prefix": "rm(",
     "library": "var_list.r",
     "varRefreshCmd": "cat(var_dic_list()) "
    }
   },
   "types_to_exclude": [
    "module",
    "function",
    "builtin_function_or_method",
    "instance",
    "_Feature"
   ],
   "window_display": false
  }
 },
 "nbformat": 4,
 "nbformat_minor": 4
}
